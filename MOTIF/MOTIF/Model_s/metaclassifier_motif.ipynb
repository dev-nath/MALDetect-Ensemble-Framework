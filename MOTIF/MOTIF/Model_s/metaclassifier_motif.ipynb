{
 "cells": [
  {
   "cell_type": "code",
   "execution_count": 5,
   "id": "96d40531-ad7d-49c7-965a-04f8e3835051",
   "metadata": {},
   "outputs": [
    {
     "name": "stderr",
     "output_type": "stream",
     "text": [
      "2024-08-24 22:33:23.756785: I tensorflow/core/util/port.cc:153] oneDNN custom operations are on. You may see slightly different numerical results due to floating-point round-off errors from different computation orders. To turn them off, set the environment variable `TF_ENABLE_ONEDNN_OPTS=0`.\n",
      "2024-08-24 22:33:23.770908: E external/local_xla/xla/stream_executor/cuda/cuda_fft.cc:485] Unable to register cuFFT factory: Attempting to register factory for plugin cuFFT when one has already been registered\n",
      "2024-08-24 22:33:23.787689: E external/local_xla/xla/stream_executor/cuda/cuda_dnn.cc:8454] Unable to register cuDNN factory: Attempting to register factory for plugin cuDNN when one has already been registered\n",
      "2024-08-24 22:33:23.792089: E external/local_xla/xla/stream_executor/cuda/cuda_blas.cc:1452] Unable to register cuBLAS factory: Attempting to register factory for plugin cuBLAS when one has already been registered\n",
      "2024-08-24 22:33:23.805252: I tensorflow/core/platform/cpu_feature_guard.cc:210] This TensorFlow binary is optimized to use available CPU instructions in performance-critical operations.\n",
      "To enable the following instructions: AVX2 AVX512F AVX512_VNNI AVX512_BF16 AVX512_FP16 AVX_VNNI AMX_TILE AMX_INT8 AMX_BF16 FMA, in other operations, rebuild TensorFlow with the appropriate compiler flags.\n",
      "2024-08-24 22:33:24.676500: W tensorflow/compiler/tf2tensorrt/utils/py_utils.cc:38] TF-TRT Warning: Could not find TensorRT\n"
     ]
    }
   ],
   "source": [
    "import json\n",
    "import csv\n",
    "import threading\n",
    "import math\n",
    "import pandas as pd\n",
    "import numpy as np\n",
    "import multiprocessing\n",
    "import random as rn\n",
    "\n",
    "import seaborn as sns\n",
    "import matplotlib.pyplot as plt\n",
    "\n",
    "\n",
    "\n",
    "# from data import data_visualization, data_loading, data_preprocessing\n",
    "# from models import annModels\n",
    "\n",
    "# from xgboost import XGBClassifier\n",
    "from sklearn.preprocessing import StandardScaler\n",
    "from sklearn.ensemble import RandomForestClassifier, AdaBoostClassifier, BaggingClassifier\n",
    "from sklearn.metrics import accuracy_score, confusion_matrix, classification_report \n",
    "from sklearn.model_selection import  learning_curve\n",
    "from sklearn.pipeline import Pipeline\n",
    "from sklearn.preprocessing import StandardScaler,LabelEncoder\n",
    "from sklearn.decomposition import PCA\n",
    "from scikeras.wrappers import KerasClassifier\n",
    "\n",
    "# import xgboost as xgb\n",
    "\n",
    "import tensorflow as tf\n",
    "from tensorflow.keras.layers import Input, Dense, Concatenate\n",
    "from tensorflow.keras.models import Model\n",
    "\n",
    "import keras\n",
    "from keras.models import Sequential\n",
    "from keras.layers import Input, Dense, Activation, Dropout, Activation\n",
    "from keras.optimizers import SGD\n",
    "from keras.models import load_model\n",
    "from keras import regularizers\n",
    "from keras import backend as K\n",
    "from keras.layers import BatchNormalization\n",
    "from keras.layers import Conv1D, MaxPooling1D, Flatten, Dense, Dropout, Conv2D, MaxPooling2D\n",
    "from keras.regularizers import l2\n",
    "from keras.layers import concatenate\n",
    "from sklearn.model_selection import StratifiedKFold\n",
    "\n",
    "import joblib"
   ]
  },
  {
   "cell_type": "code",
   "execution_count": 6,
   "id": "1fc0a27a-e5e7-415d-9e9d-2fbac27ee4c2",
   "metadata": {},
   "outputs": [],
   "source": [
    "import tensorflow as tf\n",
    "from tensorflow.keras.models import Sequential\n",
    "from tensorflow.keras.layers import Conv2D, MaxPooling2D, Flatten, Dense, Dropout, BatchNormalization\n",
    "from tensorflow.keras.callbacks import EarlyStopping, ModelCheckpoint\n",
    "from sklearn.model_selection import train_test_split\n",
    "from sklearn.preprocessing import StandardScaler\n",
    "from tensorflow.keras.utils import to_categorical\n",
    "import pandas as pd\n",
    "import matplotlib.pyplot as plt\n",
    "from tensorflow.keras.callbacks import ReduceLROnPlateau\n",
    "from tensorflow.keras.regularizers import l2\n",
    "\n",
    "# Load your dataset\n",
    "df = pd.read_csv('/home/devnath/MOTIF_18_Aug/dataset/motif_standardized_dataset.csv')\n",
    "\n",
    "# Assume 'family' is the column with the target variable\n",
    "X = df.drop(columns=['family'])\n",
    "y = df['family']\n",
    "\n",
    "# Convert labels to categorical (one-hot encoding)\n",
    "num_classes = len(y.unique())\n",
    "y = to_categorical(y, num_classes=num_classes)\n",
    "\n",
    "# Standardize features\n",
    "scaler = StandardScaler()\n",
    "X = scaler.fit_transform(X)\n",
    "\n",
    "\n",
    "# Split the dataset into training, validation, and testing sets\n",
    "X_train, X_test, y_train, y_test = train_test_split(X, y, test_size=0.2, random_state=42)\n",
    "X_train, X_val, y_train, y_val = train_test_split(X_train, y_train, test_size=0.2, random_state=42)"
   ]
  },
  {
   "cell_type": "code",
   "execution_count": 7,
   "id": "f23c33a5-8204-4409-a721-520ef14dcb6e",
   "metadata": {},
   "outputs": [
    {
     "data": {
      "text/plain": [
       "(399, 10)"
      ]
     },
     "execution_count": 7,
     "metadata": {},
     "output_type": "execute_result"
    }
   ],
   "source": [
    "y_test.shape"
   ]
  },
  {
   "cell_type": "code",
   "execution_count": 8,
   "id": "b4128be3-1be9-48fc-b068-0e018d4dcbc9",
   "metadata": {},
   "outputs": [],
   "source": [
    "def predict_and_compile(model_paths, X_test, y_test):\n",
    "    \n",
    "    # Load models from the given paths\n",
    "    X_test_cnn2d = np.reshape(X_test, (X_test.shape[0], 41, 1, 1))\n",
    "\n",
    "    ann_model = load_model(model_paths[0])\n",
    "    cnn1d_model = load_model(model_paths[1])\n",
    "    cnn2d_model = load_model(model_paths[2])\n",
    "\n",
    "    # Predict probabilities using each model\n",
    "    ann_prob = ann_model.predict(X_test)\n",
    "    cnn1d_prob = cnn1d_model.predict(X_test)\n",
    "    cnn2d_prob = cnn2d_model.predict(X_test_cnn2d)\n",
    "\n",
    "    # Convert one-hot encoded y_test to 1D class labels\n",
    "    y_test_labels = np.argmax(y_test, axis=1)\n",
    "\n",
    "    # Initialize a DataFrame with the actual test labels\n",
    "    df = pd.DataFrame({'y_test': y_test_labels})\n",
    "    \n",
    "    # Add predicted probabilities to the DataFrame\n",
    "    for i in range(num_classes):\n",
    "        df[f'ann_class_{i}'] = ann_prob[:, i]\n",
    "        df[f'cnn1d_class_{i}'] = cnn1d_prob[:, i]\n",
    "        df[f'cnn2d_class_{i}'] = cnn2d_prob[:, i]\n",
    "\n",
    "    return df\n",
    "\n",
    "# Example usage:\n",
    "# Paths to the saved models\n",
    "ann_model_path = '/home/devnath/MOTIF_18_Aug/model_save/ann_base_classfier.h5'\n",
    "cnn1d_model_path = '/home/devnath/MOTIF_18_Aug/model_save/1dcnn_base_classfier.h5'\n",
    "cnn2d_model_path = '/home/devnath/MOTIF_18_Aug/model_save/2dcnn_base_classfier.h5'"
   ]
  },
  {
   "cell_type": "code",
   "execution_count": 9,
   "id": "769b1988-6f88-4ce2-9cef-bcab7499ab38",
   "metadata": {},
   "outputs": [
    {
     "name": "stderr",
     "output_type": "stream",
     "text": [
      "2024-08-24 22:33:36.702720: I tensorflow/core/common_runtime/gpu/gpu_device.cc:2021] Created device /job:localhost/replica:0/task:0/device:GPU:0 with 13888 MB memory:  -> device: 0, name: NVIDIA RTX A4000, pci bus id: 0000:47:00.0, compute capability: 8.6\n",
      "WARNING:absl:Compiled the loaded model, but the compiled metrics have yet to be built. `model.compile_metrics` will be empty until you train or evaluate the model.\n",
      "WARNING:absl:Compiled the loaded model, but the compiled metrics have yet to be built. `model.compile_metrics` will be empty until you train or evaluate the model.\n",
      "WARNING:absl:Compiled the loaded model, but the compiled metrics have yet to be built. `model.compile_metrics` will be empty until you train or evaluate the model.\n",
      "WARNING: All log messages before absl::InitializeLog() is called are written to STDERR\n",
      "I0000 00:00:1724519017.436462  649328 service.cc:146] XLA service 0x702044004a00 initialized for platform CUDA (this does not guarantee that XLA will be used). Devices:\n",
      "I0000 00:00:1724519017.436511  649328 service.cc:154]   StreamExecutor device (0): NVIDIA RTX A4000, Compute Capability 8.6\n",
      "2024-08-24 22:33:37.441930: I tensorflow/compiler/mlir/tensorflow/utils/dump_mlir_util.cc:268] disabling MLIR crash reproducer, set env var `MLIR_CRASH_REPRODUCER_DIRECTORY` to enable.\n",
      "2024-08-24 22:33:37.480153: I external/local_xla/xla/stream_executor/cuda/cuda_dnn.cc:531] Loaded cuDNN version 8907\n"
     ]
    },
    {
     "name": "stdout",
     "output_type": "stream",
     "text": [
      "\u001b[1m 1/13\u001b[0m \u001b[32m━\u001b[0m\u001b[37m━━━━━━━━━━━━━━━━━━━\u001b[0m \u001b[1m11s\u001b[0m 985ms/step"
     ]
    },
    {
     "name": "stderr",
     "output_type": "stream",
     "text": [
      "I0000 00:00:1724519018.348752  649328 device_compiler.h:188] Compiled cluster using XLA!  This line is logged at most once for the lifetime of the process.\n"
     ]
    },
    {
     "name": "stdout",
     "output_type": "stream",
     "text": [
      "\u001b[1m13/13\u001b[0m \u001b[32m━━━━━━━━━━━━━━━━━━━━\u001b[0m\u001b[37m\u001b[0m \u001b[1m2s\u001b[0m 64ms/step \n",
      "\u001b[1m13/13\u001b[0m \u001b[32m━━━━━━━━━━━━━━━━━━━━\u001b[0m\u001b[37m\u001b[0m \u001b[1m1s\u001b[0m 38ms/step\n",
      "\u001b[1m13/13\u001b[0m \u001b[32m━━━━━━━━━━━━━━━━━━━━\u001b[0m\u001b[37m\u001b[0m \u001b[1m1s\u001b[0m 31ms/step\n"
     ]
    }
   ],
   "source": [
    "# Model paths list\n",
    "model_paths = [ann_model_path, cnn1d_model_path, cnn2d_model_path]\n",
    "# Call the function\n",
    "result_df = predict_and_compile(model_paths, X_test, y_test)"
   ]
  },
  {
   "cell_type": "code",
   "execution_count": 10,
   "id": "6cc4ffe8-ad7d-4b27-84f7-d21530178a00",
   "metadata": {},
   "outputs": [
    {
     "data": {
      "text/html": [
       "<div>\n",
       "<style scoped>\n",
       "    .dataframe tbody tr th:only-of-type {\n",
       "        vertical-align: middle;\n",
       "    }\n",
       "\n",
       "    .dataframe tbody tr th {\n",
       "        vertical-align: top;\n",
       "    }\n",
       "\n",
       "    .dataframe thead th {\n",
       "        text-align: right;\n",
       "    }\n",
       "</style>\n",
       "<table border=\"1\" class=\"dataframe\">\n",
       "  <thead>\n",
       "    <tr style=\"text-align: right;\">\n",
       "      <th></th>\n",
       "      <th>y_test</th>\n",
       "      <th>ann_class_0</th>\n",
       "      <th>cnn1d_class_0</th>\n",
       "      <th>cnn2d_class_0</th>\n",
       "      <th>ann_class_1</th>\n",
       "      <th>cnn1d_class_1</th>\n",
       "      <th>cnn2d_class_1</th>\n",
       "      <th>ann_class_2</th>\n",
       "      <th>cnn1d_class_2</th>\n",
       "      <th>cnn2d_class_2</th>\n",
       "      <th>...</th>\n",
       "      <th>cnn2d_class_6</th>\n",
       "      <th>ann_class_7</th>\n",
       "      <th>cnn1d_class_7</th>\n",
       "      <th>cnn2d_class_7</th>\n",
       "      <th>ann_class_8</th>\n",
       "      <th>cnn1d_class_8</th>\n",
       "      <th>cnn2d_class_8</th>\n",
       "      <th>ann_class_9</th>\n",
       "      <th>cnn1d_class_9</th>\n",
       "      <th>cnn2d_class_9</th>\n",
       "    </tr>\n",
       "  </thead>\n",
       "  <tbody>\n",
       "    <tr>\n",
       "      <th>0</th>\n",
       "      <td>3</td>\n",
       "      <td>0.002648</td>\n",
       "      <td>0.000015</td>\n",
       "      <td>0.000315</td>\n",
       "      <td>0.005333</td>\n",
       "      <td>0.000237</td>\n",
       "      <td>0.002865</td>\n",
       "      <td>0.011631</td>\n",
       "      <td>0.000221</td>\n",
       "      <td>0.001120</td>\n",
       "      <td>...</td>\n",
       "      <td>0.000112</td>\n",
       "      <td>0.012765</td>\n",
       "      <td>0.000353</td>\n",
       "      <td>0.002058</td>\n",
       "      <td>0.013111</td>\n",
       "      <td>0.000059</td>\n",
       "      <td>0.004714</td>\n",
       "      <td>0.090642</td>\n",
       "      <td>0.005298</td>\n",
       "      <td>0.031515</td>\n",
       "    </tr>\n",
       "    <tr>\n",
       "      <th>1</th>\n",
       "      <td>8</td>\n",
       "      <td>0.029434</td>\n",
       "      <td>0.031708</td>\n",
       "      <td>0.000034</td>\n",
       "      <td>0.147433</td>\n",
       "      <td>0.112573</td>\n",
       "      <td>0.002646</td>\n",
       "      <td>0.027484</td>\n",
       "      <td>0.043286</td>\n",
       "      <td>0.000015</td>\n",
       "      <td>...</td>\n",
       "      <td>0.000035</td>\n",
       "      <td>0.055503</td>\n",
       "      <td>0.088720</td>\n",
       "      <td>0.000650</td>\n",
       "      <td>0.520496</td>\n",
       "      <td>0.516120</td>\n",
       "      <td>0.989804</td>\n",
       "      <td>0.173916</td>\n",
       "      <td>0.118003</td>\n",
       "      <td>0.005968</td>\n",
       "    </tr>\n",
       "    <tr>\n",
       "      <th>2</th>\n",
       "      <td>9</td>\n",
       "      <td>0.013978</td>\n",
       "      <td>0.003171</td>\n",
       "      <td>0.000063</td>\n",
       "      <td>0.081072</td>\n",
       "      <td>0.015649</td>\n",
       "      <td>0.001737</td>\n",
       "      <td>0.019642</td>\n",
       "      <td>0.004642</td>\n",
       "      <td>0.000437</td>\n",
       "      <td>...</td>\n",
       "      <td>0.000027</td>\n",
       "      <td>0.246711</td>\n",
       "      <td>0.065202</td>\n",
       "      <td>0.007472</td>\n",
       "      <td>0.046355</td>\n",
       "      <td>0.015121</td>\n",
       "      <td>0.002043</td>\n",
       "      <td>0.389773</td>\n",
       "      <td>0.863273</td>\n",
       "      <td>0.982254</td>\n",
       "    </tr>\n",
       "    <tr>\n",
       "      <th>3</th>\n",
       "      <td>2</td>\n",
       "      <td>0.017250</td>\n",
       "      <td>0.021016</td>\n",
       "      <td>0.002880</td>\n",
       "      <td>0.017976</td>\n",
       "      <td>0.011341</td>\n",
       "      <td>0.001107</td>\n",
       "      <td>0.375811</td>\n",
       "      <td>0.619469</td>\n",
       "      <td>0.944466</td>\n",
       "      <td>...</td>\n",
       "      <td>0.003944</td>\n",
       "      <td>0.067702</td>\n",
       "      <td>0.015913</td>\n",
       "      <td>0.004637</td>\n",
       "      <td>0.349719</td>\n",
       "      <td>0.206837</td>\n",
       "      <td>0.030184</td>\n",
       "      <td>0.041773</td>\n",
       "      <td>0.021629</td>\n",
       "      <td>0.003192</td>\n",
       "    </tr>\n",
       "    <tr>\n",
       "      <th>4</th>\n",
       "      <td>9</td>\n",
       "      <td>0.016415</td>\n",
       "      <td>0.024623</td>\n",
       "      <td>0.018996</td>\n",
       "      <td>0.104189</td>\n",
       "      <td>0.025184</td>\n",
       "      <td>0.023332</td>\n",
       "      <td>0.016715</td>\n",
       "      <td>0.021294</td>\n",
       "      <td>0.085609</td>\n",
       "      <td>...</td>\n",
       "      <td>0.004266</td>\n",
       "      <td>0.456514</td>\n",
       "      <td>0.088028</td>\n",
       "      <td>0.579926</td>\n",
       "      <td>0.061779</td>\n",
       "      <td>0.188145</td>\n",
       "      <td>0.080390</td>\n",
       "      <td>0.271980</td>\n",
       "      <td>0.592682</td>\n",
       "      <td>0.171264</td>\n",
       "    </tr>\n",
       "  </tbody>\n",
       "</table>\n",
       "<p>5 rows × 31 columns</p>\n",
       "</div>"
      ],
      "text/plain": [
       "   y_test  ann_class_0  cnn1d_class_0  cnn2d_class_0  ann_class_1  \\\n",
       "0       3     0.002648       0.000015       0.000315     0.005333   \n",
       "1       8     0.029434       0.031708       0.000034     0.147433   \n",
       "2       9     0.013978       0.003171       0.000063     0.081072   \n",
       "3       2     0.017250       0.021016       0.002880     0.017976   \n",
       "4       9     0.016415       0.024623       0.018996     0.104189   \n",
       "\n",
       "   cnn1d_class_1  cnn2d_class_1  ann_class_2  cnn1d_class_2  cnn2d_class_2  \\\n",
       "0       0.000237       0.002865     0.011631       0.000221       0.001120   \n",
       "1       0.112573       0.002646     0.027484       0.043286       0.000015   \n",
       "2       0.015649       0.001737     0.019642       0.004642       0.000437   \n",
       "3       0.011341       0.001107     0.375811       0.619469       0.944466   \n",
       "4       0.025184       0.023332     0.016715       0.021294       0.085609   \n",
       "\n",
       "   ...  cnn2d_class_6  ann_class_7  cnn1d_class_7  cnn2d_class_7  ann_class_8  \\\n",
       "0  ...       0.000112     0.012765       0.000353       0.002058     0.013111   \n",
       "1  ...       0.000035     0.055503       0.088720       0.000650     0.520496   \n",
       "2  ...       0.000027     0.246711       0.065202       0.007472     0.046355   \n",
       "3  ...       0.003944     0.067702       0.015913       0.004637     0.349719   \n",
       "4  ...       0.004266     0.456514       0.088028       0.579926     0.061779   \n",
       "\n",
       "   cnn1d_class_8  cnn2d_class_8  ann_class_9  cnn1d_class_9  cnn2d_class_9  \n",
       "0       0.000059       0.004714     0.090642       0.005298       0.031515  \n",
       "1       0.516120       0.989804     0.173916       0.118003       0.005968  \n",
       "2       0.015121       0.002043     0.389773       0.863273       0.982254  \n",
       "3       0.206837       0.030184     0.041773       0.021629       0.003192  \n",
       "4       0.188145       0.080390     0.271980       0.592682       0.171264  \n",
       "\n",
       "[5 rows x 31 columns]"
      ]
     },
     "execution_count": 10,
     "metadata": {},
     "output_type": "execute_result"
    }
   ],
   "source": [
    "result_df.head()"
   ]
  },
  {
   "cell_type": "code",
   "execution_count": 11,
   "id": "a1986fee-7c38-4dd2-9fe3-555e188c803e",
   "metadata": {},
   "outputs": [],
   "source": [
    "result_df.to_csv('/home/devnath/MOTIF_18_Aug/dataset/stack_output_base.csv')"
   ]
  },
  {
   "cell_type": "code",
   "execution_count": 1,
   "id": "42e07f51-c48e-4b9f-9889-c527792703ae",
   "metadata": {},
   "outputs": [
    {
     "name": "stdout",
     "output_type": "stream",
     "text": [
      "Sat Aug 24 22:32:40 2024       \n",
      "+---------------------------------------------------------------------------------------+\n",
      "| NVIDIA-SMI 535.183.01             Driver Version: 535.183.01   CUDA Version: 12.2     |\n",
      "|-----------------------------------------+----------------------+----------------------+\n",
      "| GPU  Name                 Persistence-M | Bus-Id        Disp.A | Volatile Uncorr. ECC |\n",
      "| Fan  Temp   Perf          Pwr:Usage/Cap |         Memory-Usage | GPU-Util  Compute M. |\n",
      "|                                         |                      |               MIG M. |\n",
      "|=========================================+======================+======================|\n",
      "|   0  NVIDIA RTX A4000               Off | 00000000:47:00.0 Off |                  Off |\n",
      "| 41%   37C    P8              15W / 140W |  15915MiB / 16376MiB |      0%      Default |\n",
      "|                                         |                      |                  N/A |\n",
      "+-----------------------------------------+----------------------+----------------------+\n",
      "                                                                                         \n",
      "+---------------------------------------------------------------------------------------+\n",
      "| Processes:                                                                            |\n",
      "|  GPU   GI   CI        PID   Type   Process name                            GPU Memory |\n",
      "|        ID   ID                                                             Usage      |\n",
      "|=======================================================================================|\n",
      "|    0   N/A  N/A      1740      G   /usr/lib/xorg/Xorg                           69MiB |\n",
      "|    0   N/A  N/A      3450      G   ...irefox/4698/usr/lib/firefox/firefox      130MiB |\n",
      "|    0   N/A  N/A    126395      G   /usr/lib/xorg/Xorg                           76MiB |\n",
      "|    0   N/A  N/A    126725      G   /usr/lib/xorg/Xorg                           62MiB |\n",
      "|    0   N/A  N/A    623207      C   .../anaconda3/envs/ember_tf/bin/python     1294MiB |\n",
      "|    0   N/A  N/A    636770      C   .../anaconda3/envs/ember_tf/bin/python    12792MiB |\n",
      "|    0   N/A  N/A    641429      C   .../anaconda3/envs/ember_tf/bin/python     1306MiB |\n",
      "+---------------------------------------------------------------------------------------+\n"
     ]
    }
   ],
   "source": [
    "!nvidia-smi"
   ]
  },
  {
   "cell_type": "code",
   "execution_count": 4,
   "id": "432ff04d-d9cd-4f3a-b964-56656c1faec2",
   "metadata": {},
   "outputs": [],
   "source": [
    "!kill 623207 "
   ]
  },
  {
   "cell_type": "code",
   "execution_count": 4,
   "id": "ecc62e8b-419e-42b7-9ebc-7fed792b5004",
   "metadata": {
    "scrolled": true
   },
   "outputs": [
    {
     "name": "stdout",
     "output_type": "stream",
     "text": [
      "Epoch 1/50\n"
     ]
    },
    {
     "name": "stderr",
     "output_type": "stream",
     "text": [
      "/home/devnath/anaconda3/envs/ember_tf/lib/python3.10/site-packages/keras/src/layers/core/dense.py:87: UserWarning: Do not pass an `input_shape`/`input_dim` argument to a layer. When using Sequential models, prefer using an `Input(shape)` object as the first layer in the model instead.\n",
      "  super().__init__(activity_regularizer=activity_regularizer, **kwargs)\n"
     ]
    },
    {
     "name": "stdout",
     "output_type": "stream",
     "text": [
      "\u001b[1m4/4\u001b[0m \u001b[32m━━━━━━━━━━━━━━━━━━━━\u001b[0m\u001b[37m\u001b[0m \u001b[1m0s\u001b[0m 478ms/step - accuracy: 0.0978 - loss: 4.2525\n",
      "Epoch 1: val_loss improved from inf to 3.90569, saving model to /home/devnath/MOTIF_18_Aug/model_save/stack_multiclass_classifier_reduced.keras\n",
      "\u001b[1m4/4\u001b[0m \u001b[32m━━━━━━━━━━━━━━━━━━━━\u001b[0m\u001b[37m\u001b[0m \u001b[1m4s\u001b[0m 662ms/step - accuracy: 0.0986 - loss: 4.2553 - val_accuracy: 0.2500 - val_loss: 3.9057\n",
      "Epoch 2/50\n",
      "\u001b[1m1/4\u001b[0m \u001b[32m━━━━━\u001b[0m\u001b[37m━━━━━━━━━━━━━━━\u001b[0m \u001b[1m0s\u001b[0m 24ms/step - accuracy: 0.1562 - loss: 3.9930\n",
      "Epoch 2: val_loss improved from 3.90569 to 3.77421, saving model to /home/devnath/MOTIF_18_Aug/model_save/stack_multiclass_classifier_reduced.keras\n",
      "\u001b[1m4/4\u001b[0m \u001b[32m━━━━━━━━━━━━━━━━━━━━\u001b[0m\u001b[37m\u001b[0m \u001b[1m0s\u001b[0m 20ms/step - accuracy: 0.1565 - loss: 4.0428 - val_accuracy: 0.4844 - val_loss: 3.7742\n",
      "Epoch 3/50\n",
      "\u001b[1m1/4\u001b[0m \u001b[32m━━━━━\u001b[0m\u001b[37m━━━━━━━━━━━━━━━\u001b[0m \u001b[1m0s\u001b[0m 24ms/step - accuracy: 0.2344 - loss: 3.9109\n",
      "Epoch 3: val_loss improved from 3.77421 to 3.65045, saving model to /home/devnath/MOTIF_18_Aug/model_save/stack_multiclass_classifier_reduced.keras\n",
      "\u001b[1m4/4\u001b[0m \u001b[32m━━━━━━━━━━━━━━━━━━━━\u001b[0m\u001b[37m\u001b[0m \u001b[1m0s\u001b[0m 16ms/step - accuracy: 0.2509 - loss: 3.8712 - val_accuracy: 0.6406 - val_loss: 3.6505\n",
      "Epoch 4/50\n",
      "\u001b[1m1/4\u001b[0m \u001b[32m━━━━━\u001b[0m\u001b[37m━━━━━━━━━━━━━━━\u001b[0m \u001b[1m0s\u001b[0m 22ms/step - accuracy: 0.3438 - loss: 3.8110\n",
      "Epoch 4: val_loss improved from 3.65045 to 3.52530, saving model to /home/devnath/MOTIF_18_Aug/model_save/stack_multiclass_classifier_reduced.keras\n",
      "\u001b[1m4/4\u001b[0m \u001b[32m━━━━━━━━━━━━━━━━━━━━\u001b[0m\u001b[37m\u001b[0m \u001b[1m0s\u001b[0m 17ms/step - accuracy: 0.3923 - loss: 3.7091 - val_accuracy: 0.6719 - val_loss: 3.5253\n",
      "Epoch 5/50\n",
      "\u001b[1m1/4\u001b[0m \u001b[32m━━━━━\u001b[0m\u001b[37m━━━━━━━━━━━━━━━\u001b[0m \u001b[1m0s\u001b[0m 25ms/step - accuracy: 0.3594 - loss: 3.5820\n",
      "Epoch 5: val_loss improved from 3.52530 to 3.40461, saving model to /home/devnath/MOTIF_18_Aug/model_save/stack_multiclass_classifier_reduced.keras\n",
      "\u001b[1m4/4\u001b[0m \u001b[32m━━━━━━━━━━━━━━━━━━━━\u001b[0m\u001b[37m\u001b[0m \u001b[1m0s\u001b[0m 18ms/step - accuracy: 0.4059 - loss: 3.5736 - val_accuracy: 0.6719 - val_loss: 3.4046\n",
      "Epoch 6/50\n",
      "\u001b[1m1/4\u001b[0m \u001b[32m━━━━━\u001b[0m\u001b[37m━━━━━━━━━━━━━━━\u001b[0m \u001b[1m0s\u001b[0m 23ms/step - accuracy: 0.4688 - loss: 3.4823\n",
      "Epoch 6: val_loss improved from 3.40461 to 3.28553, saving model to /home/devnath/MOTIF_18_Aug/model_save/stack_multiclass_classifier_reduced.keras\n",
      "\u001b[1m4/4\u001b[0m \u001b[32m━━━━━━━━━━━━━━━━━━━━\u001b[0m\u001b[37m\u001b[0m \u001b[1m0s\u001b[0m 20ms/step - accuracy: 0.4987 - loss: 3.4543 - val_accuracy: 0.6719 - val_loss: 3.2855\n",
      "Epoch 7/50\n",
      "\u001b[1m1/4\u001b[0m \u001b[32m━━━━━\u001b[0m\u001b[37m━━━━━━━━━━━━━━━\u001b[0m \u001b[1m0s\u001b[0m 21ms/step - accuracy: 0.5312 - loss: 3.4333\n",
      "Epoch 7: val_loss improved from 3.28553 to 3.17349, saving model to /home/devnath/MOTIF_18_Aug/model_save/stack_multiclass_classifier_reduced.keras\n",
      "\u001b[1m4/4\u001b[0m \u001b[32m━━━━━━━━━━━━━━━━━━━━\u001b[0m\u001b[37m\u001b[0m \u001b[1m0s\u001b[0m 14ms/step - accuracy: 0.5509 - loss: 3.3690 - val_accuracy: 0.6719 - val_loss: 3.1735\n",
      "Epoch 8/50\n",
      "\u001b[1m1/4\u001b[0m \u001b[32m━━━━━\u001b[0m\u001b[37m━━━━━━━━━━━━━━━\u001b[0m \u001b[1m0s\u001b[0m 24ms/step - accuracy: 0.5469 - loss: 3.2903\n",
      "Epoch 8: val_loss improved from 3.17349 to 3.06540, saving model to /home/devnath/MOTIF_18_Aug/model_save/stack_multiclass_classifier_reduced.keras\n",
      "\u001b[1m4/4\u001b[0m \u001b[32m━━━━━━━━━━━━━━━━━━━━\u001b[0m\u001b[37m\u001b[0m \u001b[1m0s\u001b[0m 18ms/step - accuracy: 0.5832 - loss: 3.2299 - val_accuracy: 0.6719 - val_loss: 3.0654\n",
      "Epoch 9/50\n",
      "\u001b[1m1/4\u001b[0m \u001b[32m━━━━━\u001b[0m\u001b[37m━━━━━━━━━━━━━━━\u001b[0m \u001b[1m0s\u001b[0m 23ms/step - accuracy: 0.5312 - loss: 3.2218\n",
      "Epoch 9: val_loss improved from 3.06540 to 2.96501, saving model to /home/devnath/MOTIF_18_Aug/model_save/stack_multiclass_classifier_reduced.keras\n",
      "\u001b[1m4/4\u001b[0m \u001b[32m━━━━━━━━━━━━━━━━━━━━\u001b[0m\u001b[37m\u001b[0m \u001b[1m0s\u001b[0m 16ms/step - accuracy: 0.5686 - loss: 3.1341 - val_accuracy: 0.6719 - val_loss: 2.9650\n",
      "Epoch 10/50\n",
      "\u001b[1m1/4\u001b[0m \u001b[32m━━━━━\u001b[0m\u001b[37m━━━━━━━━━━━━━━━\u001b[0m \u001b[1m0s\u001b[0m 23ms/step - accuracy: 0.6250 - loss: 2.9127\n",
      "Epoch 10: val_loss improved from 2.96501 to 2.87266, saving model to /home/devnath/MOTIF_18_Aug/model_save/stack_multiclass_classifier_reduced.keras\n",
      "\u001b[1m4/4\u001b[0m \u001b[32m━━━━━━━━━━━━━━━━━━━━\u001b[0m\u001b[37m\u001b[0m \u001b[1m0s\u001b[0m 18ms/step - accuracy: 0.6140 - loss: 2.9550 - val_accuracy: 0.6719 - val_loss: 2.8727\n",
      "Epoch 11/50\n",
      "\u001b[1m1/4\u001b[0m \u001b[32m━━━━━\u001b[0m\u001b[37m━━━━━━━━━━━━━━━\u001b[0m \u001b[1m0s\u001b[0m 25ms/step - accuracy: 0.5781 - loss: 2.9271\n",
      "Epoch 11: val_loss improved from 2.87266 to 2.79389, saving model to /home/devnath/MOTIF_18_Aug/model_save/stack_multiclass_classifier_reduced.keras\n",
      "\u001b[1m4/4\u001b[0m \u001b[32m━━━━━━━━━━━━━━━━━━━━\u001b[0m\u001b[37m\u001b[0m \u001b[1m0s\u001b[0m 17ms/step - accuracy: 0.6041 - loss: 2.8958 - val_accuracy: 0.6719 - val_loss: 2.7939\n",
      "Epoch 12/50\n",
      "\u001b[1m1/4\u001b[0m \u001b[32m━━━━━\u001b[0m\u001b[37m━━━━━━━━━━━━━━━\u001b[0m \u001b[1m0s\u001b[0m 21ms/step - accuracy: 0.5938 - loss: 3.0731\n",
      "Epoch 12: val_loss improved from 2.79389 to 2.72764, saving model to /home/devnath/MOTIF_18_Aug/model_save/stack_multiclass_classifier_reduced.keras\n",
      "\u001b[1m4/4\u001b[0m \u001b[32m━━━━━━━━━━━━━━━━━━━━\u001b[0m\u001b[37m\u001b[0m \u001b[1m0s\u001b[0m 17ms/step - accuracy: 0.6443 - loss: 2.8837 - val_accuracy: 0.6719 - val_loss: 2.7276\n",
      "Epoch 13/50\n",
      "\u001b[1m1/4\u001b[0m \u001b[32m━━━━━\u001b[0m\u001b[37m━━━━━━━━━━━━━━━\u001b[0m \u001b[1m0s\u001b[0m 23ms/step - accuracy: 0.6562 - loss: 2.7857\n",
      "Epoch 13: val_loss improved from 2.72764 to 2.67187, saving model to /home/devnath/MOTIF_18_Aug/model_save/stack_multiclass_classifier_reduced.keras\n",
      "\u001b[1m4/4\u001b[0m \u001b[32m━━━━━━━━━━━━━━━━━━━━\u001b[0m\u001b[37m\u001b[0m \u001b[1m0s\u001b[0m 16ms/step - accuracy: 0.6562 - loss: 2.7136 - val_accuracy: 0.6719 - val_loss: 2.6719\n",
      "Epoch 14/50\n",
      "\u001b[1m1/4\u001b[0m \u001b[32m━━━━━\u001b[0m\u001b[37m━━━━━━━━━━━━━━━\u001b[0m \u001b[1m0s\u001b[0m 22ms/step - accuracy: 0.5469 - loss: 2.9759\n",
      "Epoch 14: val_loss improved from 2.67187 to 2.62872, saving model to /home/devnath/MOTIF_18_Aug/model_save/stack_multiclass_classifier_reduced.keras\n",
      "\u001b[1m4/4\u001b[0m \u001b[32m━━━━━━━━━━━━━━━━━━━━\u001b[0m\u001b[37m\u001b[0m \u001b[1m0s\u001b[0m 16ms/step - accuracy: 0.6229 - loss: 2.7718 - val_accuracy: 0.6719 - val_loss: 2.6287\n",
      "Epoch 15/50\n",
      "\u001b[1m1/4\u001b[0m \u001b[32m━━━━━\u001b[0m\u001b[37m━━━━━━━━━━━━━━━\u001b[0m \u001b[1m0s\u001b[0m 24ms/step - accuracy: 0.6562 - loss: 2.5822\n",
      "Epoch 15: val_loss improved from 2.62872 to 2.59398, saving model to /home/devnath/MOTIF_18_Aug/model_save/stack_multiclass_classifier_reduced.keras\n",
      "\u001b[1m4/4\u001b[0m \u001b[32m━━━━━━━━━━━━━━━━━━━━\u001b[0m\u001b[37m\u001b[0m \u001b[1m0s\u001b[0m 17ms/step - accuracy: 0.6792 - loss: 2.6138 - val_accuracy: 0.6719 - val_loss: 2.5940\n",
      "Epoch 16/50\n",
      "\u001b[1m1/4\u001b[0m \u001b[32m━━━━━\u001b[0m\u001b[37m━━━━━━━━━━━━━━━\u001b[0m \u001b[1m0s\u001b[0m 24ms/step - accuracy: 0.7656 - loss: 2.3672\n",
      "Epoch 16: val_loss improved from 2.59398 to 2.56405, saving model to /home/devnath/MOTIF_18_Aug/model_save/stack_multiclass_classifier_reduced.keras\n",
      "\u001b[1m4/4\u001b[0m \u001b[32m━━━━━━━━━━━━━━━━━━━━\u001b[0m\u001b[37m\u001b[0m \u001b[1m0s\u001b[0m 18ms/step - accuracy: 0.7167 - loss: 2.5182 - val_accuracy: 0.6719 - val_loss: 2.5640\n",
      "Epoch 17/50\n",
      "\u001b[1m1/4\u001b[0m \u001b[32m━━━━━\u001b[0m\u001b[37m━━━━━━━━━━━━━━━\u001b[0m \u001b[1m0s\u001b[0m 27ms/step - accuracy: 0.7656 - loss: 2.3512\n",
      "Epoch 17: val_loss improved from 2.56405 to 2.53807, saving model to /home/devnath/MOTIF_18_Aug/model_save/stack_multiclass_classifier_reduced.keras\n",
      "\u001b[1m4/4\u001b[0m \u001b[32m━━━━━━━━━━━━━━━━━━━━\u001b[0m\u001b[37m\u001b[0m \u001b[1m0s\u001b[0m 17ms/step - accuracy: 0.7005 - loss: 2.4942 - val_accuracy: 0.6719 - val_loss: 2.5381\n",
      "Epoch 18/50\n",
      "\u001b[1m1/4\u001b[0m \u001b[32m━━━━━\u001b[0m\u001b[37m━━━━━━━━━━━━━━━\u001b[0m \u001b[1m0s\u001b[0m 26ms/step - accuracy: 0.7188 - loss: 2.4976\n",
      "Epoch 18: val_loss improved from 2.53807 to 2.51504, saving model to /home/devnath/MOTIF_18_Aug/model_save/stack_multiclass_classifier_reduced.keras\n",
      "\u001b[1m4/4\u001b[0m \u001b[32m━━━━━━━━━━━━━━━━━━━━\u001b[0m\u001b[37m\u001b[0m \u001b[1m0s\u001b[0m 17ms/step - accuracy: 0.7157 - loss: 2.4877 - val_accuracy: 0.6719 - val_loss: 2.5150\n",
      "Epoch 19/50\n",
      "\u001b[1m1/4\u001b[0m \u001b[32m━━━━━\u001b[0m\u001b[37m━━━━━━━━━━━━━━━\u001b[0m \u001b[1m0s\u001b[0m 27ms/step - accuracy: 0.7656 - loss: 2.3105\n",
      "Epoch 19: val_loss improved from 2.51504 to 2.49237, saving model to /home/devnath/MOTIF_18_Aug/model_save/stack_multiclass_classifier_reduced.keras\n",
      "\u001b[1m4/4\u001b[0m \u001b[32m━━━━━━━━━━━━━━━━━━━━\u001b[0m\u001b[37m\u001b[0m \u001b[1m0s\u001b[0m 17ms/step - accuracy: 0.7188 - loss: 2.3825 - val_accuracy: 0.6719 - val_loss: 2.4924\n",
      "Epoch 20/50\n",
      "\u001b[1m1/4\u001b[0m \u001b[32m━━━━━\u001b[0m\u001b[37m━━━━━━━━━━━━━━━\u001b[0m \u001b[1m0s\u001b[0m 23ms/step - accuracy: 0.5625 - loss: 2.6368\n",
      "Epoch 20: val_loss improved from 2.49237 to 2.47541, saving model to /home/devnath/MOTIF_18_Aug/model_save/stack_multiclass_classifier_reduced.keras\n",
      "\u001b[1m4/4\u001b[0m \u001b[32m━━━━━━━━━━━━━━━━━━━━\u001b[0m\u001b[37m\u001b[0m \u001b[1m0s\u001b[0m 15ms/step - accuracy: 0.6819 - loss: 2.4241 - val_accuracy: 0.6719 - val_loss: 2.4754\n",
      "Epoch 21/50\n",
      "\u001b[1m1/4\u001b[0m \u001b[32m━━━━━\u001b[0m\u001b[37m━━━━━━━━━━━━━━━\u001b[0m \u001b[1m0s\u001b[0m 21ms/step - accuracy: 0.7500 - loss: 2.4036\n",
      "Epoch 21: val_loss improved from 2.47541 to 2.46194, saving model to /home/devnath/MOTIF_18_Aug/model_save/stack_multiclass_classifier_reduced.keras\n",
      "\u001b[1m4/4\u001b[0m \u001b[32m━━━━━━━━━━━━━━━━━━━━\u001b[0m\u001b[37m\u001b[0m \u001b[1m0s\u001b[0m 18ms/step - accuracy: 0.7105 - loss: 2.3324 - val_accuracy: 0.6719 - val_loss: 2.4619\n",
      "Epoch 22/50\n",
      "\u001b[1m1/4\u001b[0m \u001b[32m━━━━━\u001b[0m\u001b[37m━━━━━━━━━━━━━━━\u001b[0m \u001b[1m0s\u001b[0m 26ms/step - accuracy: 0.7500 - loss: 2.0896\n",
      "Epoch 22: val_loss improved from 2.46194 to 2.44748, saving model to /home/devnath/MOTIF_18_Aug/model_save/stack_multiclass_classifier_reduced.keras\n",
      "\u001b[1m4/4\u001b[0m \u001b[32m━━━━━━━━━━━━━━━━━━━━\u001b[0m\u001b[37m\u001b[0m \u001b[1m0s\u001b[0m 17ms/step - accuracy: 0.7532 - loss: 2.1604 - val_accuracy: 0.6719 - val_loss: 2.4475\n",
      "Epoch 23/50\n",
      "\u001b[1m1/4\u001b[0m \u001b[32m━━━━━\u001b[0m\u001b[37m━━━━━━━━━━━━━━━\u001b[0m \u001b[1m0s\u001b[0m 23ms/step - accuracy: 0.6719 - loss: 2.2886\n",
      "Epoch 23: val_loss improved from 2.44748 to 2.43493, saving model to /home/devnath/MOTIF_18_Aug/model_save/stack_multiclass_classifier_reduced.keras\n",
      "\u001b[1m4/4\u001b[0m \u001b[32m━━━━━━━━━━━━━━━━━━━━\u001b[0m\u001b[37m\u001b[0m \u001b[1m0s\u001b[0m 20ms/step - accuracy: 0.7037 - loss: 2.2328 - val_accuracy: 0.6719 - val_loss: 2.4349\n",
      "Epoch 24/50\n",
      "\u001b[1m1/4\u001b[0m \u001b[32m━━━━━\u001b[0m\u001b[37m━━━━━━━━━━━━━━━\u001b[0m \u001b[1m0s\u001b[0m 22ms/step - accuracy: 0.7188 - loss: 2.1087\n",
      "Epoch 24: val_loss improved from 2.43493 to 2.42300, saving model to /home/devnath/MOTIF_18_Aug/model_save/stack_multiclass_classifier_reduced.keras\n",
      "\u001b[1m4/4\u001b[0m \u001b[32m━━━━━━━━━━━━━━━━━━━━\u001b[0m\u001b[37m\u001b[0m \u001b[1m0s\u001b[0m 17ms/step - accuracy: 0.7309 - loss: 2.1558 - val_accuracy: 0.6719 - val_loss: 2.4230\n",
      "Epoch 25/50\n",
      "\u001b[1m1/4\u001b[0m \u001b[32m━━━━━\u001b[0m\u001b[37m━━━━━━━━━━━━━━━\u001b[0m \u001b[1m0s\u001b[0m 22ms/step - accuracy: 0.6406 - loss: 2.3819\n",
      "Epoch 25: val_loss improved from 2.42300 to 2.40820, saving model to /home/devnath/MOTIF_18_Aug/model_save/stack_multiclass_classifier_reduced.keras\n",
      "\u001b[1m4/4\u001b[0m \u001b[32m━━━━━━━━━━━━━━━━━━━━\u001b[0m\u001b[37m\u001b[0m \u001b[1m0s\u001b[0m 18ms/step - accuracy: 0.6730 - loss: 2.2591 - val_accuracy: 0.6719 - val_loss: 2.4082\n",
      "Epoch 26/50\n",
      "\u001b[1m1/4\u001b[0m \u001b[32m━━━━━\u001b[0m\u001b[37m━━━━━━━━━━━━━━━\u001b[0m \u001b[1m0s\u001b[0m 22ms/step - accuracy: 0.6875 - loss: 2.2845\n",
      "Epoch 26: val_loss improved from 2.40820 to 2.38864, saving model to /home/devnath/MOTIF_18_Aug/model_save/stack_multiclass_classifier_reduced.keras\n",
      "\u001b[1m4/4\u001b[0m \u001b[32m━━━━━━━━━━━━━━━━━━━━\u001b[0m\u001b[37m\u001b[0m \u001b[1m0s\u001b[0m 16ms/step - accuracy: 0.7006 - loss: 2.2246 - val_accuracy: 0.6719 - val_loss: 2.3886\n",
      "Epoch 27/50\n",
      "\u001b[1m1/4\u001b[0m \u001b[32m━━━━━\u001b[0m\u001b[37m━━━━━━━━━━━━━━━\u001b[0m \u001b[1m0s\u001b[0m 25ms/step - accuracy: 0.7500 - loss: 2.1622\n",
      "Epoch 27: val_loss improved from 2.38864 to 2.36964, saving model to /home/devnath/MOTIF_18_Aug/model_save/stack_multiclass_classifier_reduced.keras\n",
      "\u001b[1m4/4\u001b[0m \u001b[32m━━━━━━━━━━━━━━━━━━━━\u001b[0m\u001b[37m\u001b[0m \u001b[1m0s\u001b[0m 20ms/step - accuracy: 0.7418 - loss: 2.0894 - val_accuracy: 0.6719 - val_loss: 2.3696\n",
      "Epoch 28/50\n",
      "\u001b[1m1/4\u001b[0m \u001b[32m━━━━━\u001b[0m\u001b[37m━━━━━━━━━━━━━━━\u001b[0m \u001b[1m0s\u001b[0m 24ms/step - accuracy: 0.7344 - loss: 2.0118\n",
      "Epoch 28: val_loss improved from 2.36964 to 2.35403, saving model to /home/devnath/MOTIF_18_Aug/model_save/stack_multiclass_classifier_reduced.keras\n",
      "\u001b[1m4/4\u001b[0m \u001b[32m━━━━━━━━━━━━━━━━━━━━\u001b[0m\u001b[37m\u001b[0m \u001b[1m0s\u001b[0m 20ms/step - accuracy: 0.7616 - loss: 2.0034 - val_accuracy: 0.6719 - val_loss: 2.3540\n",
      "Epoch 29/50\n",
      "\u001b[1m1/4\u001b[0m \u001b[32m━━━━━\u001b[0m\u001b[37m━━━━━━━━━━━━━━━\u001b[0m \u001b[1m0s\u001b[0m 27ms/step - accuracy: 0.8750 - loss: 1.7178\n",
      "Epoch 29: val_loss improved from 2.35403 to 2.33768, saving model to /home/devnath/MOTIF_18_Aug/model_save/stack_multiclass_classifier_reduced.keras\n",
      "\u001b[1m4/4\u001b[0m \u001b[32m━━━━━━━━━━━━━━━━━━━━\u001b[0m\u001b[37m\u001b[0m \u001b[1m0s\u001b[0m 18ms/step - accuracy: 0.8085 - loss: 1.9371 - val_accuracy: 0.6719 - val_loss: 2.3377\n",
      "Epoch 30/50\n",
      "\u001b[1m1/4\u001b[0m \u001b[32m━━━━━\u001b[0m\u001b[37m━━━━━━━━━━━━━━━\u001b[0m \u001b[1m0s\u001b[0m 23ms/step - accuracy: 0.7344 - loss: 2.0273\n",
      "Epoch 30: val_loss improved from 2.33768 to 2.32036, saving model to /home/devnath/MOTIF_18_Aug/model_save/stack_multiclass_classifier_reduced.keras\n",
      "\u001b[1m4/4\u001b[0m \u001b[32m━━━━━━━━━━━━━━━━━━━━\u001b[0m\u001b[37m\u001b[0m \u001b[1m0s\u001b[0m 16ms/step - accuracy: 0.7413 - loss: 1.9955 - val_accuracy: 0.6719 - val_loss: 2.3204\n",
      "Epoch 31/50\n",
      "\u001b[1m1/4\u001b[0m \u001b[32m━━━━━\u001b[0m\u001b[37m━━━━━━━━━━━━━━━\u001b[0m \u001b[1m0s\u001b[0m 23ms/step - accuracy: 0.7656 - loss: 1.9905\n",
      "Epoch 31: val_loss improved from 2.32036 to 2.30330, saving model to /home/devnath/MOTIF_18_Aug/model_save/stack_multiclass_classifier_reduced.keras\n",
      "\u001b[1m4/4\u001b[0m \u001b[32m━━━━━━━━━━━━━━━━━━━━\u001b[0m\u001b[37m\u001b[0m \u001b[1m0s\u001b[0m 19ms/step - accuracy: 0.7475 - loss: 2.0046 - val_accuracy: 0.6719 - val_loss: 2.3033\n",
      "Epoch 32/50\n",
      "\u001b[1m1/4\u001b[0m \u001b[32m━━━━━\u001b[0m\u001b[37m━━━━━━━━━━━━━━━\u001b[0m \u001b[1m0s\u001b[0m 24ms/step - accuracy: 0.7188 - loss: 1.9853\n",
      "Epoch 32: val_loss improved from 2.30330 to 2.28559, saving model to /home/devnath/MOTIF_18_Aug/model_save/stack_multiclass_classifier_reduced.keras\n",
      "\u001b[1m4/4\u001b[0m \u001b[32m━━━━━━━━━━━━━━━━━━━━\u001b[0m\u001b[37m\u001b[0m \u001b[1m0s\u001b[0m 16ms/step - accuracy: 0.7402 - loss: 1.9487 - val_accuracy: 0.6562 - val_loss: 2.2856\n",
      "Epoch 33/50\n",
      "\u001b[1m1/4\u001b[0m \u001b[32m━━━━━\u001b[0m\u001b[37m━━━━━━━━━━━━━━━\u001b[0m \u001b[1m0s\u001b[0m 24ms/step - accuracy: 0.7188 - loss: 2.0704\n",
      "Epoch 33: val_loss improved from 2.28559 to 2.26650, saving model to /home/devnath/MOTIF_18_Aug/model_save/stack_multiclass_classifier_reduced.keras\n",
      "\u001b[1m4/4\u001b[0m \u001b[32m━━━━━━━━━━━━━━━━━━━━\u001b[0m\u001b[37m\u001b[0m \u001b[1m0s\u001b[0m 17ms/step - accuracy: 0.7496 - loss: 1.9724 - val_accuracy: 0.6875 - val_loss: 2.2665\n",
      "Epoch 34/50\n",
      "\u001b[1m1/4\u001b[0m \u001b[32m━━━━━\u001b[0m\u001b[37m━━━━━━━━━━━━━━━\u001b[0m \u001b[1m0s\u001b[0m 22ms/step - accuracy: 0.7969 - loss: 1.8752\n",
      "Epoch 34: val_loss improved from 2.26650 to 2.24718, saving model to /home/devnath/MOTIF_18_Aug/model_save/stack_multiclass_classifier_reduced.keras\n",
      "\u001b[1m4/4\u001b[0m \u001b[32m━━━━━━━━━━━━━━━━━━━━\u001b[0m\u001b[37m\u001b[0m \u001b[1m0s\u001b[0m 20ms/step - accuracy: 0.7809 - loss: 1.8957 - val_accuracy: 0.6875 - val_loss: 2.2472\n",
      "Epoch 35/50\n",
      "\u001b[1m1/4\u001b[0m \u001b[32m━━━━━\u001b[0m\u001b[37m━━━━━━━━━━━━━━━\u001b[0m \u001b[1m0s\u001b[0m 28ms/step - accuracy: 0.7812 - loss: 1.9526\n",
      "Epoch 35: val_loss improved from 2.24718 to 2.22938, saving model to /home/devnath/MOTIF_18_Aug/model_save/stack_multiclass_classifier_reduced.keras\n",
      "\u001b[1m4/4\u001b[0m \u001b[32m━━━━━━━━━━━━━━━━━━━━\u001b[0m\u001b[37m\u001b[0m \u001b[1m0s\u001b[0m 20ms/step - accuracy: 0.7543 - loss: 1.9455 - val_accuracy: 0.6875 - val_loss: 2.2294\n",
      "Epoch 36/50\n",
      "\u001b[1m1/4\u001b[0m \u001b[32m━━━━━\u001b[0m\u001b[37m━━━━━━━━━━━━━━━\u001b[0m \u001b[1m0s\u001b[0m 24ms/step - accuracy: 0.8281 - loss: 1.7733\n",
      "Epoch 36: val_loss improved from 2.22938 to 2.21631, saving model to /home/devnath/MOTIF_18_Aug/model_save/stack_multiclass_classifier_reduced.keras\n",
      "\u001b[1m4/4\u001b[0m \u001b[32m━━━━━━━━━━━━━━━━━━━━\u001b[0m\u001b[37m\u001b[0m \u001b[1m0s\u001b[0m 19ms/step - accuracy: 0.7908 - loss: 1.8332 - val_accuracy: 0.6719 - val_loss: 2.2163\n",
      "Epoch 37/50\n",
      "\u001b[1m1/4\u001b[0m \u001b[32m━━━━━\u001b[0m\u001b[37m━━━━━━━━━━━━━━━\u001b[0m \u001b[1m0s\u001b[0m 23ms/step - accuracy: 0.7969 - loss: 1.8108\n",
      "Epoch 37: val_loss improved from 2.21631 to 2.19871, saving model to /home/devnath/MOTIF_18_Aug/model_save/stack_multiclass_classifier_reduced.keras\n",
      "\u001b[1m4/4\u001b[0m \u001b[32m━━━━━━━━━━━━━━━━━━━━\u001b[0m\u001b[37m\u001b[0m \u001b[1m0s\u001b[0m 17ms/step - accuracy: 0.7715 - loss: 1.8380 - val_accuracy: 0.6719 - val_loss: 2.1987\n",
      "Epoch 38/50\n",
      "\u001b[1m1/4\u001b[0m \u001b[32m━━━━━\u001b[0m\u001b[37m━━━━━━━━━━━━━━━\u001b[0m \u001b[1m0s\u001b[0m 22ms/step - accuracy: 0.7500 - loss: 1.8930\n",
      "Epoch 38: val_loss improved from 2.19871 to 2.18170, saving model to /home/devnath/MOTIF_18_Aug/model_save/stack_multiclass_classifier_reduced.keras\n",
      "\u001b[1m4/4\u001b[0m \u001b[32m━━━━━━━━━━━━━━━━━━━━\u001b[0m\u001b[37m\u001b[0m \u001b[1m0s\u001b[0m 17ms/step - accuracy: 0.7569 - loss: 1.8202 - val_accuracy: 0.6719 - val_loss: 2.1817\n",
      "Epoch 39/50\n",
      "\u001b[1m1/4\u001b[0m \u001b[32m━━━━━\u001b[0m\u001b[37m━━━━━━━━━━━━━━━\u001b[0m \u001b[1m0s\u001b[0m 23ms/step - accuracy: 0.7969 - loss: 1.6231\n",
      "Epoch 39: val_loss improved from 2.18170 to 2.16572, saving model to /home/devnath/MOTIF_18_Aug/model_save/stack_multiclass_classifier_reduced.keras\n",
      "\u001b[1m4/4\u001b[0m \u001b[32m━━━━━━━━━━━━━━━━━━━━\u001b[0m\u001b[37m\u001b[0m \u001b[1m0s\u001b[0m 18ms/step - accuracy: 0.7559 - loss: 1.7280 - val_accuracy: 0.6719 - val_loss: 2.1657\n",
      "Epoch 40/50\n",
      "\u001b[1m1/4\u001b[0m \u001b[32m━━━━━\u001b[0m\u001b[37m━━━━━━━━━━━━━━━\u001b[0m \u001b[1m0s\u001b[0m 23ms/step - accuracy: 0.7656 - loss: 1.6431\n",
      "Epoch 40: val_loss improved from 2.16572 to 2.15278, saving model to /home/devnath/MOTIF_18_Aug/model_save/stack_multiclass_classifier_reduced.keras\n",
      "\u001b[1m4/4\u001b[0m \u001b[32m━━━━━━━━━━━━━━━━━━━━\u001b[0m\u001b[37m\u001b[0m \u001b[1m0s\u001b[0m 18ms/step - accuracy: 0.7647 - loss: 1.7085 - val_accuracy: 0.6719 - val_loss: 2.1528\n",
      "Epoch 41/50\n",
      "\u001b[1m1/4\u001b[0m \u001b[32m━━━━━\u001b[0m\u001b[37m━━━━━━━━━━━━━━━\u001b[0m \u001b[1m0s\u001b[0m 23ms/step - accuracy: 0.8438 - loss: 1.6340\n",
      "Epoch 41: val_loss improved from 2.15278 to 2.14227, saving model to /home/devnath/MOTIF_18_Aug/model_save/stack_multiclass_classifier_reduced.keras\n",
      "\u001b[1m4/4\u001b[0m \u001b[32m━━━━━━━━━━━━━━━━━━━━\u001b[0m\u001b[37m\u001b[0m \u001b[1m0s\u001b[0m 18ms/step - accuracy: 0.7866 - loss: 1.6980 - val_accuracy: 0.6719 - val_loss: 2.1423\n",
      "Epoch 42/50\n",
      "\u001b[1m1/4\u001b[0m \u001b[32m━━━━━\u001b[0m\u001b[37m━━━━━━━━━━━━━━━\u001b[0m \u001b[1m0s\u001b[0m 23ms/step - accuracy: 0.7031 - loss: 1.8323\n",
      "Epoch 42: val_loss improved from 2.14227 to 2.13164, saving model to /home/devnath/MOTIF_18_Aug/model_save/stack_multiclass_classifier_reduced.keras\n",
      "\u001b[1m4/4\u001b[0m \u001b[32m━━━━━━━━━━━━━━━━━━━━\u001b[0m\u001b[37m\u001b[0m \u001b[1m0s\u001b[0m 17ms/step - accuracy: 0.7637 - loss: 1.7391 - val_accuracy: 0.6875 - val_loss: 2.1316\n",
      "Epoch 43/50\n",
      "\u001b[1m1/4\u001b[0m \u001b[32m━━━━━\u001b[0m\u001b[37m━━━━━━━━━━━━━━━\u001b[0m \u001b[1m0s\u001b[0m 21ms/step - accuracy: 0.7969 - loss: 1.6705\n",
      "Epoch 43: val_loss improved from 2.13164 to 2.11942, saving model to /home/devnath/MOTIF_18_Aug/model_save/stack_multiclass_classifier_reduced.keras\n",
      "\u001b[1m4/4\u001b[0m \u001b[32m━━━━━━━━━━━━━━━━━━━━\u001b[0m\u001b[37m\u001b[0m \u001b[1m0s\u001b[0m 17ms/step - accuracy: 0.7694 - loss: 1.6970 - val_accuracy: 0.6719 - val_loss: 2.1194\n",
      "Epoch 44/50\n",
      "\u001b[1m1/4\u001b[0m \u001b[32m━━━━━\u001b[0m\u001b[37m━━━━━━━━━━━━━━━\u001b[0m \u001b[1m0s\u001b[0m 25ms/step - accuracy: 0.8125 - loss: 1.6710\n",
      "Epoch 44: val_loss improved from 2.11942 to 2.10853, saving model to /home/devnath/MOTIF_18_Aug/model_save/stack_multiclass_classifier_reduced.keras\n",
      "\u001b[1m4/4\u001b[0m \u001b[32m━━━━━━━━━━━━━━━━━━━━\u001b[0m\u001b[37m\u001b[0m \u001b[1m0s\u001b[0m 16ms/step - accuracy: 0.7908 - loss: 1.6486 - val_accuracy: 0.6562 - val_loss: 2.1085\n",
      "Epoch 45/50\n",
      "\u001b[1m1/4\u001b[0m \u001b[32m━━━━━\u001b[0m\u001b[37m━━━━━━━━━━━━━━━\u001b[0m \u001b[1m0s\u001b[0m 25ms/step - accuracy: 0.7344 - loss: 1.6903\n",
      "Epoch 45: val_loss improved from 2.10853 to 2.09882, saving model to /home/devnath/MOTIF_18_Aug/model_save/stack_multiclass_classifier_reduced.keras\n",
      "\u001b[1m4/4\u001b[0m \u001b[32m━━━━━━━━━━━━━━━━━━━━\u001b[0m\u001b[37m\u001b[0m \u001b[1m0s\u001b[0m 16ms/step - accuracy: 0.7726 - loss: 1.6495 - val_accuracy: 0.6719 - val_loss: 2.0988\n",
      "Epoch 46/50\n",
      "\u001b[1m1/4\u001b[0m \u001b[32m━━━━━\u001b[0m\u001b[37m━━━━━━━━━━━━━━━\u001b[0m \u001b[1m0s\u001b[0m 24ms/step - accuracy: 0.8594 - loss: 1.5902\n",
      "Epoch 46: val_loss improved from 2.09882 to 2.08883, saving model to /home/devnath/MOTIF_18_Aug/model_save/stack_multiclass_classifier_reduced.keras\n",
      "\u001b[1m4/4\u001b[0m \u001b[32m━━━━━━━━━━━━━━━━━━━━\u001b[0m\u001b[37m\u001b[0m \u001b[1m0s\u001b[0m 17ms/step - accuracy: 0.7845 - loss: 1.6457 - val_accuracy: 0.6562 - val_loss: 2.0888\n",
      "Epoch 47/50\n",
      "\u001b[1m1/4\u001b[0m \u001b[32m━━━━━\u001b[0m\u001b[37m━━━━━━━━━━━━━━━\u001b[0m \u001b[1m0s\u001b[0m 24ms/step - accuracy: 0.8281 - loss: 1.4441\n",
      "Epoch 47: val_loss improved from 2.08883 to 2.06968, saving model to /home/devnath/MOTIF_18_Aug/model_save/stack_multiclass_classifier_reduced.keras\n",
      "\u001b[1m4/4\u001b[0m \u001b[32m━━━━━━━━━━━━━━━━━━━━\u001b[0m\u001b[37m\u001b[0m \u001b[1m0s\u001b[0m 19ms/step - accuracy: 0.7960 - loss: 1.5285 - val_accuracy: 0.6719 - val_loss: 2.0697\n",
      "Epoch 48/50\n",
      "\u001b[1m1/4\u001b[0m \u001b[32m━━━━━\u001b[0m\u001b[37m━━━━━━━━━━━━━━━\u001b[0m \u001b[1m0s\u001b[0m 23ms/step - accuracy: 0.8125 - loss: 1.6312\n",
      "Epoch 48: val_loss improved from 2.06968 to 2.05533, saving model to /home/devnath/MOTIF_18_Aug/model_save/stack_multiclass_classifier_reduced.keras\n",
      "\u001b[1m4/4\u001b[0m \u001b[32m━━━━━━━━━━━━━━━━━━━━\u001b[0m\u001b[37m\u001b[0m \u001b[1m0s\u001b[0m 16ms/step - accuracy: 0.7903 - loss: 1.5752 - val_accuracy: 0.6719 - val_loss: 2.0553\n",
      "Epoch 49/50\n",
      "\u001b[1m1/4\u001b[0m \u001b[32m━━━━━\u001b[0m\u001b[37m━━━━━━━━━━━━━━━\u001b[0m \u001b[1m0s\u001b[0m 25ms/step - accuracy: 0.7188 - loss: 1.7540\n",
      "Epoch 49: val_loss improved from 2.05533 to 2.04386, saving model to /home/devnath/MOTIF_18_Aug/model_save/stack_multiclass_classifier_reduced.keras\n",
      "\u001b[1m4/4\u001b[0m \u001b[32m━━━━━━━━━━━━━━━━━━━━\u001b[0m\u001b[37m\u001b[0m \u001b[1m0s\u001b[0m 17ms/step - accuracy: 0.7658 - loss: 1.6191 - val_accuracy: 0.6719 - val_loss: 2.0439\n",
      "Epoch 50/50\n",
      "\u001b[1m1/4\u001b[0m \u001b[32m━━━━━\u001b[0m\u001b[37m━━━━━━━━━━━━━━━\u001b[0m \u001b[1m0s\u001b[0m 24ms/step - accuracy: 0.7344 - loss: 1.7239\n",
      "Epoch 50: val_loss improved from 2.04386 to 2.02951, saving model to /home/devnath/MOTIF_18_Aug/model_save/stack_multiclass_classifier_reduced.keras\n",
      "\u001b[1m4/4\u001b[0m \u001b[32m━━━━━━━━━━━━━━━━━━━━\u001b[0m\u001b[37m\u001b[0m \u001b[1m0s\u001b[0m 17ms/step - accuracy: 0.7407 - loss: 1.6548 - val_accuracy: 0.6562 - val_loss: 2.0295\n",
      "\u001b[1m3/3\u001b[0m \u001b[32m━━━━━━━━━━━━━━━━━━━━\u001b[0m\u001b[37m\u001b[0m \u001b[1m1s\u001b[0m 191ms/step - accuracy: 0.7937 - loss: 1.4788\n",
      "Test Accuracy: 0.7750, Test Loss: 1.5495\n",
      "\u001b[1m3/3\u001b[0m \u001b[32m━━━━━━━━━━━━━━━━━━━━\u001b[0m\u001b[37m\u001b[0m \u001b[1m0s\u001b[0m 117ms/step\n",
      "Accuracy: 0.7750\n",
      "Precision: 0.7490\n",
      "Recall: 0.7750\n",
      "Classification Report:\n",
      "Error in classification report: Number of classes, 9, does not match size of target_names, 10. Try specifying the labels parameter\n",
      "Unique classes in y_test: [0 1 2 3 4 5 7 8 9]\n",
      "Unique classes in y_pred: [1 2 3 4 7 8 9]\n"
     ]
    },
    {
     "data": {
      "image/png": "[encoded data removed]",
      "text/plain": [
       "<Figure size 1200x500 with 1 Axes>"
      ]
     },
     "metadata": {},
     "output_type": "display_data"
    },
    {
     "data": {
      "image/png": "[encoded data removed]",
      "text/plain": [
       "<Figure size 1000x800 with 2 Axes>"
      ]
     },
     "metadata": {},
     "output_type": "display_data"
    }
   ],
   "source": [
    "import pandas as pd\n",
    "import numpy as np\n",
    "import matplotlib.pyplot as plt\n",
    "import seaborn as sns\n",
    "from sklearn.metrics import confusion_matrix, accuracy_score, precision_score, recall_score, classification_report\n",
    "from sklearn.model_selection import train_test_split\n",
    "from sklearn.preprocessing import StandardScaler\n",
    "from tensorflow.keras.models import Sequential\n",
    "from tensorflow.keras.layers import Dense, Dropout\n",
    "from tensorflow.keras.callbacks import EarlyStopping, ModelCheckpoint\n",
    "from tensorflow.keras.utils import to_categorical\n",
    "from tensorflow.keras.regularizers import l2\n",
    "\n",
    "# Load dataset\n",
    "df = pd.read_csv('/home/devnath/MOTIF_18_Aug/dataset/stack_output_base.csv')  \n",
    "X = df.drop('y_test', axis=1).values\n",
    "y = df['y_test'].values\n",
    "\n",
    "# Standardize the features\n",
    "scaler = StandardScaler()\n",
    "X = scaler.fit_transform(X)\n",
    "\n",
    "# Convert labels to categorical (one-hot encoding)\n",
    "num_classes = len(np.unique(y))\n",
    "y = to_categorical(y, num_classes=num_classes)\n",
    "\n",
    "# Split the dataset into training and testing sets\n",
    "X_train, X_test, y_train, y_test = train_test_split(X, y, test_size=0.2, random_state=42)\n",
    "\n",
    "# Build the ANN model\n",
    "model = Sequential()\n",
    "model.add(Dense(128, activation='relu', kernel_regularizer=l2(0.01), input_shape=(X_train.shape[1],)))\n",
    "model.add(Dropout(0.3))\n",
    "model.add(Dense(64, activation='relu', kernel_regularizer=l2(0.01)))\n",
    "model.add(Dropout(0.3))\n",
    "model.add(Dense(32, activation='relu', kernel_regularizer=l2(0.01)))\n",
    "model.add(Dropout(0.3))\n",
    "model.add(Dense(num_classes, activation='softmax'))\n",
    "\n",
    "# Compile the model\n",
    "model.compile(optimizer='adam',\n",
    "              loss='categorical_crossentropy',\n",
    "              metrics=['accuracy'])\n",
    "\n",
    "# Define callbacks\n",
    "early_stopping = EarlyStopping(monitor='val_loss', patience=15, restore_best_weights=True)\n",
    "model_checkpoint = ModelCheckpoint(\n",
    "    filepath='/home/devnath/MOTIF_18_Aug/model_save/stack_multiclass_classifier_reduced.keras', \n",
    "    monitor='val_loss', \n",
    "    save_best_only=True,\n",
    "    save_weights_only=False, \n",
    "    mode='min', \n",
    "    verbose=1\n",
    ")\n",
    "\n",
    "# Train the model\n",
    "history = model.fit(X_train, y_train,\n",
    "                    epochs=50,  # Increase epochs for better training\n",
    "                    batch_size=64,\n",
    "                    validation_split=0.2,\n",
    "                    callbacks=[early_stopping, model_checkpoint])\n",
    "\n",
    "# Evaluate the model\n",
    "test_loss, test_accuracy = model.evaluate(X_test, y_test, verbose=1)\n",
    "print(f'Test Accuracy: {test_accuracy:.4f}, Test Loss: {test_loss:.4f}')\n",
    "\n",
    "# Predict on test data\n",
    "y_pred = model.predict(X_test)\n",
    "y_pred_classes = np.argmax(y_pred, axis=1)\n",
    "y_test_classes = np.argmax(y_test, axis=1)\n",
    "\n",
    "# Compute confusion matrix\n",
    "conf_matrix = confusion_matrix(y_test_classes, y_pred_classes)\n",
    "\n",
    "# Compute accuracy, precision, recall\n",
    "accuracy = accuracy_score(y_test_classes, y_pred_classes)\n",
    "precision = precision_score(y_test_classes, y_pred_classes, average='weighted', zero_division=0)\n",
    "recall = recall_score(y_test_classes, y_pred_classes, average='weighted', zero_division=0)\n",
    "\n",
    "print(f'Accuracy: {accuracy:.4f}')\n",
    "print(f'Precision: {precision:.4f}')\n",
    "print(f'Recall: {recall:.4f}')\n",
    "\n",
    "# Print classification report\n",
    "print(\"Classification Report:\")\n",
    "try:\n",
    "    print(classification_report(y_test_classes, y_pred_classes, target_names=[f'Class {i}' for i in range(num_classes)], zero_division=0))\n",
    "except ValueError as e:\n",
    "    print(f\"Error in classification report: {e}\")\n",
    "    print(f\"Unique classes in y_test: {np.unique(y_test_classes)}\")\n",
    "    print(f\"Unique classes in y_pred: {np.unique(y_pred_classes)}\")\n",
    "\n",
    "# Plot training & validation loss\n",
    "plt.figure(figsize=(12, 5))\n",
    "\n",
    "# Plot loss\n",
    "plt.subplot(1, 2, 1)\n",
    "plt.plot(history.history['loss'], label='Training Loss')\n",
    "plt.plot(history.history['val_loss'], label='Validation Loss')\n",
    "plt.xlabel('Epochs')\n",
    "plt.ylabel('Loss')\n",
    "plt.legend()\n",
    "# plt.title('Training vs. Validation Loss')\n",
    "\n",
    "# Set grid and background color\n",
    "plt.grid(True)\n",
    "plt.gca().set_facecolor('lightgrey')\n",
    "\n",
    "# Plot confusion matrix\n",
    "plt.figure(figsize=(10, 8))\n",
    "sns.heatmap(conf_matrix, annot=True, fmt='d', cmap='Blues', xticklabels=[f'Class {i}' for i in range(num_classes)], yticklabels=[f'Class {i}' for i in range(num_classes)])\n",
    "plt.xlabel('Predicted Labels')\n",
    "plt.ylabel('True Labels')\n",
    "# plt.title('Confusion Matrix')\n",
    "plt.show()\n",
    "\n",
    "\n"
   ]
  },
  {
   "cell_type": "code",
   "execution_count": 5,
   "id": "6a533f25-126c-487b-ac01-734fdd44e1b2",
   "metadata": {},
   "outputs": [
    {
     "name": "stderr",
     "output_type": "stream",
     "text": [
      "WARNING:absl:You are saving your model as an HDF5 file via `model.save()` or `keras.saving.save_model(model)`. This file format is considered legacy. We recommend using instead the native Keras format, e.g. `model.save('my_model.keras')` or `keras.saving.save_model(model, 'my_model.keras')`. \n"
     ]
    }
   ],
   "source": [
    "# Save the trained model\n",
    "model.save('/home/devnath/MOTIF_18_Aug/model_save/meta_classfier.h5')"
   ]
  },
  {
   "cell_type": "code",
   "execution_count": 6,
   "id": "9aa38ad5-4b6a-4e54-a69c-cc60a6fb9bd5",
   "metadata": {},
   "outputs": [
    {
     "data": {
      "text/html": [
       "<pre style=\"white-space:pre;overflow-x:auto;line-height:normal;font-family:Menlo,'DejaVu Sans Mono',consolas,'Courier New',monospace\"><span style=\"font-weight: bold\">Model: \"sequential_3\"</span>\n",
       "</pre>\n"
      ],
      "text/plain": [
       "\u001b[1mModel: \"sequential_3\"\u001b[0m\n"
      ]
     },
     "metadata": {},
     "output_type": "display_data"
    },
    {
     "data": {
      "text/html": [
       "<pre style=\"white-space:pre;overflow-x:auto;line-height:normal;font-family:Menlo,'DejaVu Sans Mono',consolas,'Courier New',monospace\">┏━━━━━━━━━━━━━━━━━━━━━━━━━━━━━━━━━┳━━━━━━━━━━━━━━━━━━━━━━━━┳━━━━━━━━━━━━━━━┓\n",
       "┃<span style=\"font-weight: bold\"> Layer (type)                    </span>┃<span style=\"font-weight: bold\"> Output Shape           </span>┃<span style=\"font-weight: bold\">       Param # </span>┃\n",
       "┡━━━━━━━━━━━━━━━━━━━━━━━━━━━━━━━━━╇━━━━━━━━━━━━━━━━━━━━━━━━╇━━━━━━━━━━━━━━━┩\n",
       "│ dense_12 (<span style=\"color: #0087ff; text-decoration-color: #0087ff\">Dense</span>)                │ (<span style=\"color: #00d7ff; text-decoration-color: #00d7ff\">None</span>, <span style=\"color: #00af00; text-decoration-color: #00af00\">128</span>)            │         <span style=\"color: #00af00; text-decoration-color: #00af00\">4,096</span> │\n",
       "├─────────────────────────────────┼────────────────────────┼───────────────┤\n",
       "│ dropout_9 (<span style=\"color: #0087ff; text-decoration-color: #0087ff\">Dropout</span>)             │ (<span style=\"color: #00d7ff; text-decoration-color: #00d7ff\">None</span>, <span style=\"color: #00af00; text-decoration-color: #00af00\">128</span>)            │             <span style=\"color: #00af00; text-decoration-color: #00af00\">0</span> │\n",
       "├─────────────────────────────────┼────────────────────────┼───────────────┤\n",
       "│ dense_13 (<span style=\"color: #0087ff; text-decoration-color: #0087ff\">Dense</span>)                │ (<span style=\"color: #00d7ff; text-decoration-color: #00d7ff\">None</span>, <span style=\"color: #00af00; text-decoration-color: #00af00\">64</span>)             │         <span style=\"color: #00af00; text-decoration-color: #00af00\">8,256</span> │\n",
       "├─────────────────────────────────┼────────────────────────┼───────────────┤\n",
       "│ dropout_10 (<span style=\"color: #0087ff; text-decoration-color: #0087ff\">Dropout</span>)            │ (<span style=\"color: #00d7ff; text-decoration-color: #00d7ff\">None</span>, <span style=\"color: #00af00; text-decoration-color: #00af00\">64</span>)             │             <span style=\"color: #00af00; text-decoration-color: #00af00\">0</span> │\n",
       "├─────────────────────────────────┼────────────────────────┼───────────────┤\n",
       "│ dense_14 (<span style=\"color: #0087ff; text-decoration-color: #0087ff\">Dense</span>)                │ (<span style=\"color: #00d7ff; text-decoration-color: #00d7ff\">None</span>, <span style=\"color: #00af00; text-decoration-color: #00af00\">32</span>)             │         <span style=\"color: #00af00; text-decoration-color: #00af00\">2,080</span> │\n",
       "├─────────────────────────────────┼────────────────────────┼───────────────┤\n",
       "│ dropout_11 (<span style=\"color: #0087ff; text-decoration-color: #0087ff\">Dropout</span>)            │ (<span style=\"color: #00d7ff; text-decoration-color: #00d7ff\">None</span>, <span style=\"color: #00af00; text-decoration-color: #00af00\">32</span>)             │             <span style=\"color: #00af00; text-decoration-color: #00af00\">0</span> │\n",
       "├─────────────────────────────────┼────────────────────────┼───────────────┤\n",
       "│ dense_15 (<span style=\"color: #0087ff; text-decoration-color: #0087ff\">Dense</span>)                │ (<span style=\"color: #00d7ff; text-decoration-color: #00d7ff\">None</span>, <span style=\"color: #00af00; text-decoration-color: #00af00\">10</span>)             │           <span style=\"color: #00af00; text-decoration-color: #00af00\">330</span> │\n",
       "└─────────────────────────────────┴────────────────────────┴───────────────┘\n",
       "</pre>\n"
      ],
      "text/plain": [
       "┏━━━━━━━━━━━━━━━━━━━━━━━━━━━━━━━━━┳━━━━━━━━━━━━━━━━━━━━━━━━┳━━━━━━━━━━━━━━━┓\n",
       "┃\u001b[1m \u001b[0m\u001b[1mLayer (type)                   \u001b[0m\u001b[1m \u001b[0m┃\u001b[1m \u001b[0m\u001b[1mOutput Shape          \u001b[0m\u001b[1m \u001b[0m┃\u001b[1m \u001b[0m\u001b[1m      Param #\u001b[0m\u001b[1m \u001b[0m┃\n",
       "┡━━━━━━━━━━━━━━━━━━━━━━━━━━━━━━━━━╇━━━━━━━━━━━━━━━━━━━━━━━━╇━━━━━━━━━━━━━━━┩\n",
       "│ dense_12 (\u001b[38;5;33mDense\u001b[0m)                │ (\u001b[38;5;45mNone\u001b[0m, \u001b[38;5;34m128\u001b[0m)            │         \u001b[38;5;34m4,096\u001b[0m │\n",
       "├─────────────────────────────────┼────────────────────────┼───────────────┤\n",
       "│ dropout_9 (\u001b[38;5;33mDropout\u001b[0m)             │ (\u001b[38;5;45mNone\u001b[0m, \u001b[38;5;34m128\u001b[0m)            │             \u001b[38;5;34m0\u001b[0m │\n",
       "├─────────────────────────────────┼────────────────────────┼───────────────┤\n",
       "│ dense_13 (\u001b[38;5;33mDense\u001b[0m)                │ (\u001b[38;5;45mNone\u001b[0m, \u001b[38;5;34m64\u001b[0m)             │         \u001b[38;5;34m8,256\u001b[0m │\n",
       "├─────────────────────────────────┼────────────────────────┼───────────────┤\n",
       "│ dropout_10 (\u001b[38;5;33mDropout\u001b[0m)            │ (\u001b[38;5;45mNone\u001b[0m, \u001b[38;5;34m64\u001b[0m)             │             \u001b[38;5;34m0\u001b[0m │\n",
       "├─────────────────────────────────┼────────────────────────┼───────────────┤\n",
       "│ dense_14 (\u001b[38;5;33mDense\u001b[0m)                │ (\u001b[38;5;45mNone\u001b[0m, \u001b[38;5;34m32\u001b[0m)             │         \u001b[38;5;34m2,080\u001b[0m │\n",
       "├─────────────────────────────────┼────────────────────────┼───────────────┤\n",
       "│ dropout_11 (\u001b[38;5;33mDropout\u001b[0m)            │ (\u001b[38;5;45mNone\u001b[0m, \u001b[38;5;34m32\u001b[0m)             │             \u001b[38;5;34m0\u001b[0m │\n",
       "├─────────────────────────────────┼────────────────────────┼───────────────┤\n",
       "│ dense_15 (\u001b[38;5;33mDense\u001b[0m)                │ (\u001b[38;5;45mNone\u001b[0m, \u001b[38;5;34m10\u001b[0m)             │           \u001b[38;5;34m330\u001b[0m │\n",
       "└─────────────────────────────────┴────────────────────────┴───────────────┘\n"
      ]
     },
     "metadata": {},
     "output_type": "display_data"
    },
    {
     "data": {
      "text/html": [
       "<pre style=\"white-space:pre;overflow-x:auto;line-height:normal;font-family:Menlo,'DejaVu Sans Mono',consolas,'Courier New',monospace\"><span style=\"font-weight: bold\"> Total params: </span><span style=\"color: #00af00; text-decoration-color: #00af00\">44,288</span> (173.00 KB)\n",
       "</pre>\n"
      ],
      "text/plain": [
       "\u001b[1m Total params: \u001b[0m\u001b[38;5;34m44,288\u001b[0m (173.00 KB)\n"
      ]
     },
     "metadata": {},
     "output_type": "display_data"
    },
    {
     "data": {
      "text/html": [
       "<pre style=\"white-space:pre;overflow-x:auto;line-height:normal;font-family:Menlo,'DejaVu Sans Mono',consolas,'Courier New',monospace\"><span style=\"font-weight: bold\"> Trainable params: </span><span style=\"color: #00af00; text-decoration-color: #00af00\">14,762</span> (57.66 KB)\n",
       "</pre>\n"
      ],
      "text/plain": [
       "\u001b[1m Trainable params: \u001b[0m\u001b[38;5;34m14,762\u001b[0m (57.66 KB)\n"
      ]
     },
     "metadata": {},
     "output_type": "display_data"
    },
    {
     "data": {
      "text/html": [
       "<pre style=\"white-space:pre;overflow-x:auto;line-height:normal;font-family:Menlo,'DejaVu Sans Mono',consolas,'Courier New',monospace\"><span style=\"font-weight: bold\"> Non-trainable params: </span><span style=\"color: #00af00; text-decoration-color: #00af00\">0</span> (0.00 B)\n",
       "</pre>\n"
      ],
      "text/plain": [
       "\u001b[1m Non-trainable params: \u001b[0m\u001b[38;5;34m0\u001b[0m (0.00 B)\n"
      ]
     },
     "metadata": {},
     "output_type": "display_data"
    },
    {
     "data": {
      "text/html": [
       "<pre style=\"white-space:pre;overflow-x:auto;line-height:normal;font-family:Menlo,'DejaVu Sans Mono',consolas,'Courier New',monospace\"><span style=\"font-weight: bold\"> Optimizer params: </span><span style=\"color: #00af00; text-decoration-color: #00af00\">29,526</span> (115.34 KB)\n",
       "</pre>\n"
      ],
      "text/plain": [
       "\u001b[1m Optimizer params: \u001b[0m\u001b[38;5;34m29,526\u001b[0m (115.34 KB)\n"
      ]
     },
     "metadata": {},
     "output_type": "display_data"
    }
   ],
   "source": [
    "model.summary()"
   ]
  },
  {
   "cell_type": "code",
   "execution_count": 7,
   "id": "d5848b19-fd26-44f0-a610-5cd06ab72f61",
   "metadata": {},
   "outputs": [
    {
     "data": {
      "text/plain": [
       "((319, 31), (80, 31), (319, 10), (80, 10))"
      ]
     },
     "execution_count": 7,
     "metadata": {},
     "output_type": "execute_result"
    }
   ],
   "source": [
    "X_train.shape, X_test.shape, y_train.shape, y_test .shape"
   ]
  },
  {
   "cell_type": "code",
   "execution_count": 8,
   "id": "c88b85f5-7dea-4f8f-bdbe-17ef492b45bd",
   "metadata": {},
   "outputs": [
    {
     "data": {
      "text/plain": [
       "(399, 31)"
      ]
     },
     "execution_count": 8,
     "metadata": {},
     "output_type": "execute_result"
    }
   ],
   "source": [
    "X.shape"
   ]
  },
  {
   "cell_type": "code",
   "execution_count": null,
   "id": "c8b7ff21-ee3e-4797-810c-d172273b941d",
   "metadata": {},
   "outputs": [],
   "source": []
  }
 ],
 "metadata": {
  "kernelspec": {
   "display_name": "Python 3 (ipykernel)",
   "language": "python",
   "name": "python3"
  },
  "language_info": {
   "codemirror_mode": {
    "name": "ipython",
    "version": 3
   },
   "file_extension": ".py",
   "mimetype": "text/x-python",
   "name": "python",
   "nbconvert_exporter": "python",
   "pygments_lexer": "ipython3",
   "version": "3.10.0"
  }
 },
 "nbformat": 4,
 "nbformat_minor": 5
}
