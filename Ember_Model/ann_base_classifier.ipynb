{
 "cells": [
  {
   "cell_type": "code",
   "execution_count": 37,
   "id": "6287604d-5b02-4517-95df-7669e7eea3ad",
   "metadata": {},
   "outputs": [
    {
     "name": "stderr",
     "output_type": "stream",
     "text": [
      "WARNING:absl:You are saving your model as an HDF5 file via `model.save()` or `keras.saving.save_model(model)`. This file format is considered legacy. We recommend using instead the native Keras format, e.g. `model.save('my_model.keras')` or `keras.saving.save_model(model, 'my_model.keras')`. \n"
     ]
    }
   ],
   "source": [
    "# Save the trained model\n",
    "model_1.save('/home/devnath/Ember_18_Aug/model_save/ann_base_classfier.h5')"
   ]
  },
  {
   "cell_type": "code",
   "execution_count": 12,
   "id": "e829ca2b-28a3-4b24-becf-0125708335a4",
   "metadata": {
    "scrolled": true
   },
   "outputs": [
    {
     "name": "stdout",
     "output_type": "stream",
     "text": [
      "Epoch 1/50\n",
      "\u001b[1m9422/9422\u001b[0m \u001b[32m━━━━━━━━━━━━━━━━━━━━\u001b[0m\u001b[37m\u001b[0m \u001b[1m0s\u001b[0m 1ms/step - accuracy: 0.8221 - loss: 0.3760\n",
      "Epoch 1: val_loss improved from inf to 0.23643, saving model to /home/devnath/Ember_18_Aug/ember/ember_standard_csv_v3/ann_40_final_binary_base_classfier.keras\n",
      "\u001b[1m9422/9422\u001b[0m \u001b[32m━━━━━━━━━━━━━━━━━━━━\u001b[0m\u001b[37m\u001b[0m \u001b[1m15s\u001b[0m 1ms/step - accuracy: 0.8221 - loss: 0.3760 - val_accuracy: 0.9013 - val_loss: 0.2364\n",
      "Epoch 2/50\n",
      "\u001b[1m9398/9422\u001b[0m \u001b[32m━━━━━━━━━━━━━━━━━━━\u001b[0m\u001b[37m━\u001b[0m \u001b[1m0s\u001b[0m 1ms/step - accuracy: 0.8999 - loss: 0.2395\n",
      "Epoch 2: val_loss improved from 0.23643 to 0.21116, saving model to /home/devnath/Ember_18_Aug/ember/ember_standard_csv_v3/ann_40_final_binary_base_classfier.keras\n",
      "\u001b[1m9422/9422\u001b[0m \u001b[32m━━━━━━━━━━━━━━━━━━━━\u001b[0m\u001b[37m\u001b[0m \u001b[1m11s\u001b[0m 1ms/step - accuracy: 0.8999 - loss: 0.2395 - val_accuracy: 0.9114 - val_loss: 0.2112\n",
      "Epoch 3/50\n",
      "\u001b[1m9396/9422\u001b[0m \u001b[32m━━━━━━━━━━━━━━━━━━━\u001b[0m\u001b[37m━\u001b[0m \u001b[1m0s\u001b[0m 1ms/step - accuracy: 0.9104 - loss: 0.2160\n",
      "Epoch 3: val_loss improved from 0.21116 to 0.20115, saving model to /home/devnath/Ember_18_Aug/ember/ember_standard_csv_v3/ann_40_final_binary_base_classfier.keras\n",
      "\u001b[1m9422/9422\u001b[0m \u001b[32m━━━━━━━━━━━━━━━━━━━━\u001b[0m\u001b[37m\u001b[0m \u001b[1m11s\u001b[0m 1ms/step - accuracy: 0.9104 - loss: 0.2160 - val_accuracy: 0.9173 - val_loss: 0.2011\n",
      "Epoch 4/50\n",
      "\u001b[1m9399/9422\u001b[0m \u001b[32m━━━━━━━━━━━━━━━━━━━\u001b[0m\u001b[37m━\u001b[0m \u001b[1m0s\u001b[0m 1ms/step - accuracy: 0.9155 - loss: 0.2053\n",
      "Epoch 4: val_loss improved from 0.20115 to 0.19877, saving model to /home/devnath/Ember_18_Aug/ember/ember_standard_csv_v3/ann_40_final_binary_base_classfier.keras\n",
      "\u001b[1m9422/9422\u001b[0m \u001b[32m━━━━━━━━━━━━━━━━━━━━\u001b[0m\u001b[37m\u001b[0m \u001b[1m11s\u001b[0m 1ms/step - accuracy: 0.9155 - loss: 0.2053 - val_accuracy: 0.9190 - val_loss: 0.1988\n",
      "Epoch 5/50\n",
      "\u001b[1m9412/9422\u001b[0m \u001b[32m━━━━━━━━━━━━━━━━━━━\u001b[0m\u001b[37m━\u001b[0m \u001b[1m0s\u001b[0m 1ms/step - accuracy: 0.9193 - loss: 0.1986\n",
      "Epoch 5: val_loss improved from 0.19877 to 0.18524, saving model to /home/devnath/Ember_18_Aug/ember/ember_standard_csv_v3/ann_40_final_binary_base_classfier.keras\n",
      "\u001b[1m9422/9422\u001b[0m \u001b[32m━━━━━━━━━━━━━━━━━━━━\u001b[0m\u001b[37m\u001b[0m \u001b[1m12s\u001b[0m 1ms/step - accuracy: 0.9193 - loss: 0.1986 - val_accuracy: 0.9253 - val_loss: 0.1852\n",
      "Epoch 6/50\n",
      "\u001b[1m9402/9422\u001b[0m \u001b[32m━━━━━━━━━━━━━━━━━━━\u001b[0m\u001b[37m━\u001b[0m \u001b[1m0s\u001b[0m 1ms/step - accuracy: 0.9210 - loss: 0.1929\n",
      "Epoch 6: val_loss improved from 0.18524 to 0.18490, saving model to /home/devnath/Ember_18_Aug/ember/ember_standard_csv_v3/ann_40_final_binary_base_classfier.keras\n",
      "\u001b[1m9422/9422\u001b[0m \u001b[32m━━━━━━━━━━━━━━━━━━━━\u001b[0m\u001b[37m\u001b[0m \u001b[1m12s\u001b[0m 1ms/step - accuracy: 0.9210 - loss: 0.1929 - val_accuracy: 0.9252 - val_loss: 0.1849\n",
      "Epoch 7/50\n",
      "\u001b[1m9407/9422\u001b[0m \u001b[32m━━━━━━━━━━━━━━━━━━━\u001b[0m\u001b[37m━\u001b[0m \u001b[1m0s\u001b[0m 1ms/step - accuracy: 0.9231 - loss: 0.1892\n",
      "Epoch 7: val_loss improved from 0.18490 to 0.18062, saving model to /home/devnath/Ember_18_Aug/ember/ember_standard_csv_v3/ann_40_final_binary_base_classfier.keras\n",
      "\u001b[1m9422/9422\u001b[0m \u001b[32m━━━━━━━━━━━━━━━━━━━━\u001b[0m\u001b[37m\u001b[0m \u001b[1m12s\u001b[0m 1ms/step - accuracy: 0.9231 - loss: 0.1892 - val_accuracy: 0.9281 - val_loss: 0.1806\n",
      "Epoch 8/50\n",
      "\u001b[1m9381/9422\u001b[0m \u001b[32m━━━━━━━━━━━━━━━━━━━\u001b[0m\u001b[37m━\u001b[0m \u001b[1m0s\u001b[0m 1ms/step - accuracy: 0.9268 - loss: 0.1828\n",
      "Epoch 8: val_loss improved from 0.18062 to 0.17536, saving model to /home/devnath/Ember_18_Aug/ember/ember_standard_csv_v3/ann_40_final_binary_base_classfier.keras\n",
      "\u001b[1m9422/9422\u001b[0m \u001b[32m━━━━━━━━━━━━━━━━━━━━\u001b[0m\u001b[37m\u001b[0m \u001b[1m11s\u001b[0m 1ms/step - accuracy: 0.9268 - loss: 0.1828 - val_accuracy: 0.9299 - val_loss: 0.1754\n",
      "Epoch 9/50\n",
      "\u001b[1m9413/9422\u001b[0m \u001b[32m━━━━━━━━━━━━━━━━━━━\u001b[0m\u001b[37m━\u001b[0m \u001b[1m0s\u001b[0m 1ms/step - accuracy: 0.9280 - loss: 0.1786\n",
      "Epoch 9: val_loss did not improve from 0.17536\n",
      "\u001b[1m9422/9422\u001b[0m \u001b[32m━━━━━━━━━━━━━━━━━━━━\u001b[0m\u001b[37m\u001b[0m \u001b[1m11s\u001b[0m 1ms/step - accuracy: 0.9280 - loss: 0.1786 - val_accuracy: 0.9307 - val_loss: 0.1771\n",
      "Epoch 10/50\n",
      "\u001b[1m9416/9422\u001b[0m \u001b[32m━━━━━━━━━━━━━━━━━━━\u001b[0m\u001b[37m━\u001b[0m \u001b[1m0s\u001b[0m 1ms/step - accuracy: 0.9285 - loss: 0.1783\n",
      "Epoch 10: val_loss improved from 0.17536 to 0.17066, saving model to /home/devnath/Ember_18_Aug/ember/ember_standard_csv_v3/ann_40_final_binary_base_classfier.keras\n",
      "\u001b[1m9422/9422\u001b[0m \u001b[32m━━━━━━━━━━━━━━━━━━━━\u001b[0m\u001b[37m\u001b[0m \u001b[1m11s\u001b[0m 1ms/step - accuracy: 0.9285 - loss: 0.1783 - val_accuracy: 0.9311 - val_loss: 0.1707\n",
      "Epoch 11/50\n",
      "\u001b[1m9385/9422\u001b[0m \u001b[32m━━━━━━━━━━━━━━━━━━━\u001b[0m\u001b[37m━\u001b[0m \u001b[1m0s\u001b[0m 1ms/step - accuracy: 0.9302 - loss: 0.1748\n",
      "Epoch 11: val_loss did not improve from 0.17066\n",
      "\u001b[1m9422/9422\u001b[0m \u001b[32m━━━━━━━━━━━━━━━━━━━━\u001b[0m\u001b[37m\u001b[0m \u001b[1m12s\u001b[0m 1ms/step - accuracy: 0.9302 - loss: 0.1748 - val_accuracy: 0.9307 - val_loss: 0.1723\n",
      "Epoch 12/50\n",
      "\u001b[1m9417/9422\u001b[0m \u001b[32m━━━━━━━━━━━━━━━━━━━\u001b[0m\u001b[37m━\u001b[0m \u001b[1m0s\u001b[0m 1ms/step - accuracy: 0.9314 - loss: 0.1711\n",
      "Epoch 12: val_loss improved from 0.17066 to 0.16967, saving model to /home/devnath/Ember_18_Aug/ember/ember_standard_csv_v3/ann_40_final_binary_base_classfier.keras\n",
      "\u001b[1m9422/9422\u001b[0m \u001b[32m━━━━━━━━━━━━━━━━━━━━\u001b[0m\u001b[37m\u001b[0m \u001b[1m12s\u001b[0m 1ms/step - accuracy: 0.9314 - loss: 0.1711 - val_accuracy: 0.9329 - val_loss: 0.1697\n",
      "Epoch 13/50\n",
      "\u001b[1m9390/9422\u001b[0m \u001b[32m━━━━━━━━━━━━━━━━━━━\u001b[0m\u001b[37m━\u001b[0m \u001b[1m0s\u001b[0m 1ms/step - accuracy: 0.9323 - loss: 0.1701\n",
      "Epoch 13: val_loss improved from 0.16967 to 0.16764, saving model to /home/devnath/Ember_18_Aug/ember/ember_standard_csv_v3/ann_40_final_binary_base_classfier.keras\n",
      "\u001b[1m9422/9422\u001b[0m \u001b[32m━━━━━━━━━━━━━━━━━━━━\u001b[0m\u001b[37m\u001b[0m \u001b[1m12s\u001b[0m 1ms/step - accuracy: 0.9323 - loss: 0.1701 - val_accuracy: 0.9335 - val_loss: 0.1676\n",
      "Epoch 14/50\n",
      "\u001b[1m9417/9422\u001b[0m \u001b[32m━━━━━━━━━━━━━━━━━━━\u001b[0m\u001b[37m━\u001b[0m \u001b[1m0s\u001b[0m 1ms/step - accuracy: 0.9330 - loss: 0.1674\n",
      "Epoch 14: val_loss improved from 0.16764 to 0.16748, saving model to /home/devnath/Ember_18_Aug/ember/ember_standard_csv_v3/ann_40_final_binary_base_classfier.keras\n",
      "\u001b[1m9422/9422\u001b[0m \u001b[32m━━━━━━━━━━━━━━━━━━━━\u001b[0m\u001b[37m\u001b[0m \u001b[1m12s\u001b[0m 1ms/step - accuracy: 0.9330 - loss: 0.1674 - val_accuracy: 0.9344 - val_loss: 0.1675\n",
      "Epoch 15/50\n",
      "\u001b[1m9410/9422\u001b[0m \u001b[32m━━━━━━━━━━━━━━━━━━━\u001b[0m\u001b[37m━\u001b[0m \u001b[1m0s\u001b[0m 1ms/step - accuracy: 0.9339 - loss: 0.1660\n",
      "Epoch 15: val_loss improved from 0.16748 to 0.16429, saving model to /home/devnath/Ember_18_Aug/ember/ember_standard_csv_v3/ann_40_final_binary_base_classfier.keras\n",
      "\u001b[1m9422/9422\u001b[0m \u001b[32m━━━━━━━━━━━━━━━━━━━━\u001b[0m\u001b[37m\u001b[0m \u001b[1m12s\u001b[0m 1ms/step - accuracy: 0.9339 - loss: 0.1660 - val_accuracy: 0.9357 - val_loss: 0.1643\n",
      "Epoch 16/50\n",
      "\u001b[1m9390/9422\u001b[0m \u001b[32m━━━━━━━━━━━━━━━━━━━\u001b[0m\u001b[37m━\u001b[0m \u001b[1m0s\u001b[0m 1ms/step - accuracy: 0.9330 - loss: 0.1668\n",
      "Epoch 16: val_loss improved from 0.16429 to 0.16271, saving model to /home/devnath/Ember_18_Aug/ember/ember_standard_csv_v3/ann_40_final_binary_base_classfier.keras\n",
      "\u001b[1m9422/9422\u001b[0m \u001b[32m━━━━━━━━━━━━━━━━━━━━\u001b[0m\u001b[37m\u001b[0m \u001b[1m12s\u001b[0m 1ms/step - accuracy: 0.9330 - loss: 0.1668 - val_accuracy: 0.9352 - val_loss: 0.1627\n",
      "Epoch 17/50\n",
      "\u001b[1m9403/9422\u001b[0m \u001b[32m━━━━━━━━━━━━━━━━━━━\u001b[0m\u001b[37m━\u001b[0m \u001b[1m0s\u001b[0m 1ms/step - accuracy: 0.9352 - loss: 0.1636\n",
      "Epoch 17: val_loss improved from 0.16271 to 0.16234, saving model to /home/devnath/Ember_18_Aug/ember/ember_standard_csv_v3/ann_40_final_binary_base_classfier.keras\n",
      "\u001b[1m9422/9422\u001b[0m \u001b[32m━━━━━━━━━━━━━━━━━━━━\u001b[0m\u001b[37m\u001b[0m \u001b[1m11s\u001b[0m 1ms/step - accuracy: 0.9352 - loss: 0.1636 - val_accuracy: 0.9362 - val_loss: 0.1623\n",
      "Epoch 18/50\n",
      "\u001b[1m9390/9422\u001b[0m \u001b[32m━━━━━━━━━━━━━━━━━━━\u001b[0m\u001b[37m━\u001b[0m \u001b[1m0s\u001b[0m 1ms/step - accuracy: 0.9355 - loss: 0.1633\n",
      "Epoch 18: val_loss improved from 0.16234 to 0.16025, saving model to /home/devnath/Ember_18_Aug/ember/ember_standard_csv_v3/ann_40_final_binary_base_classfier.keras\n",
      "\u001b[1m9422/9422\u001b[0m \u001b[32m━━━━━━━━━━━━━━━━━━━━\u001b[0m\u001b[37m\u001b[0m \u001b[1m12s\u001b[0m 1ms/step - accuracy: 0.9355 - loss: 0.1634 - val_accuracy: 0.9378 - val_loss: 0.1602\n",
      "Epoch 19/50\n",
      "\u001b[1m9396/9422\u001b[0m \u001b[32m━━━━━━━━━━━━━━━━━━━\u001b[0m\u001b[37m━\u001b[0m \u001b[1m0s\u001b[0m 1ms/step - accuracy: 0.9355 - loss: 0.1625\n",
      "Epoch 19: val_loss did not improve from 0.16025\n",
      "\u001b[1m9422/9422\u001b[0m \u001b[32m━━━━━━━━━━━━━━━━━━━━\u001b[0m\u001b[37m\u001b[0m \u001b[1m11s\u001b[0m 1ms/step - accuracy: 0.9355 - loss: 0.1625 - val_accuracy: 0.9352 - val_loss: 0.1631\n",
      "Epoch 20/50\n",
      "\u001b[1m9416/9422\u001b[0m \u001b[32m━━━━━━━━━━━━━━━━━━━\u001b[0m\u001b[37m━\u001b[0m \u001b[1m0s\u001b[0m 1ms/step - accuracy: 0.9362 - loss: 0.1594\n",
      "Epoch 20: val_loss did not improve from 0.16025\n",
      "\u001b[1m9422/9422\u001b[0m \u001b[32m━━━━━━━━━━━━━━━━━━━━\u001b[0m\u001b[37m\u001b[0m \u001b[1m12s\u001b[0m 1ms/step - accuracy: 0.9362 - loss: 0.1594 - val_accuracy: 0.9378 - val_loss: 0.1604\n",
      "Epoch 21/50\n",
      "\u001b[1m9398/9422\u001b[0m \u001b[32m━━━━━━━━━━━━━━━━━━━\u001b[0m\u001b[37m━\u001b[0m \u001b[1m0s\u001b[0m 1ms/step - accuracy: 0.9370 - loss: 0.1590\n",
      "Epoch 21: val_loss did not improve from 0.16025\n",
      "\u001b[1m9422/9422\u001b[0m \u001b[32m━━━━━━━━━━━━━━━━━━━━\u001b[0m\u001b[37m\u001b[0m \u001b[1m11s\u001b[0m 1ms/step - accuracy: 0.9370 - loss: 0.1590 - val_accuracy: 0.9368 - val_loss: 0.1610\n",
      "Epoch 22/50\n",
      "\u001b[1m9411/9422\u001b[0m \u001b[32m━━━━━━━━━━━━━━━━━━━\u001b[0m\u001b[37m━\u001b[0m \u001b[1m0s\u001b[0m 1ms/step - accuracy: 0.9369 - loss: 0.1588\n",
      "Epoch 22: val_loss improved from 0.16025 to 0.16021, saving model to /home/devnath/Ember_18_Aug/ember/ember_standard_csv_v3/ann_40_final_binary_base_classfier.keras\n",
      "\u001b[1m9422/9422\u001b[0m \u001b[32m━━━━━━━━━━━━━━━━━━━━\u001b[0m\u001b[37m\u001b[0m \u001b[1m11s\u001b[0m 1ms/step - accuracy: 0.9369 - loss: 0.1588 - val_accuracy: 0.9377 - val_loss: 0.1602\n",
      "Epoch 23/50\n",
      "\u001b[1m9396/9422\u001b[0m \u001b[32m━━━━━━━━━━━━━━━━━━━\u001b[0m\u001b[37m━\u001b[0m \u001b[1m0s\u001b[0m 1ms/step - accuracy: 0.9383 - loss: 0.1557\n",
      "Epoch 23: val_loss improved from 0.16021 to 0.15993, saving model to /home/devnath/Ember_18_Aug/ember/ember_standard_csv_v3/ann_40_final_binary_base_classfier.keras\n",
      "\u001b[1m9422/9422\u001b[0m \u001b[32m━━━━━━━━━━━━━━━━━━━━\u001b[0m\u001b[37m\u001b[0m \u001b[1m12s\u001b[0m 1ms/step - accuracy: 0.9383 - loss: 0.1557 - val_accuracy: 0.9373 - val_loss: 0.1599\n",
      "Epoch 24/50\n",
      "\u001b[1m9420/9422\u001b[0m \u001b[32m━━━━━━━━━━━━━━━━━━━\u001b[0m\u001b[37m━\u001b[0m \u001b[1m0s\u001b[0m 1ms/step - accuracy: 0.9366 - loss: 0.1591\n",
      "Epoch 24: val_loss improved from 0.15993 to 0.15785, saving model to /home/devnath/Ember_18_Aug/ember/ember_standard_csv_v3/ann_40_final_binary_base_classfier.keras\n",
      "\u001b[1m9422/9422\u001b[0m \u001b[32m━━━━━━━━━━━━━━━━━━━━\u001b[0m\u001b[37m\u001b[0m \u001b[1m11s\u001b[0m 1ms/step - accuracy: 0.9366 - loss: 0.1591 - val_accuracy: 0.9392 - val_loss: 0.1578\n",
      "Epoch 25/50\n",
      "\u001b[1m9415/9422\u001b[0m \u001b[32m━━━━━━━━━━━━━━━━━━━\u001b[0m\u001b[37m━\u001b[0m \u001b[1m0s\u001b[0m 1ms/step - accuracy: 0.9381 - loss: 0.1560\n",
      "Epoch 25: val_loss did not improve from 0.15785\n",
      "\u001b[1m9422/9422\u001b[0m \u001b[32m━━━━━━━━━━━━━━━━━━━━\u001b[0m\u001b[37m\u001b[0m \u001b[1m12s\u001b[0m 1ms/step - accuracy: 0.9381 - loss: 0.1560 - val_accuracy: 0.9370 - val_loss: 0.1615\n",
      "Epoch 26/50\n",
      "\u001b[1m9412/9422\u001b[0m \u001b[32m━━━━━━━━━━━━━━━━━━━\u001b[0m\u001b[37m━\u001b[0m \u001b[1m0s\u001b[0m 1ms/step - accuracy: 0.9382 - loss: 0.1563\n",
      "Epoch 26: val_loss did not improve from 0.15785\n",
      "\u001b[1m9422/9422\u001b[0m \u001b[32m━━━━━━━━━━━━━━━━━━━━\u001b[0m\u001b[37m\u001b[0m \u001b[1m12s\u001b[0m 1ms/step - accuracy: 0.9382 - loss: 0.1563 - val_accuracy: 0.9381 - val_loss: 0.1588\n",
      "Epoch 27/50\n",
      "\u001b[1m9419/9422\u001b[0m \u001b[32m━━━━━━━━━━━━━━━━━━━\u001b[0m\u001b[37m━\u001b[0m \u001b[1m0s\u001b[0m 1ms/step - accuracy: 0.9389 - loss: 0.1542\n",
      "Epoch 27: val_loss did not improve from 0.15785\n",
      "\u001b[1m9422/9422\u001b[0m \u001b[32m━━━━━━━━━━━━━━━━━━━━\u001b[0m\u001b[37m\u001b[0m \u001b[1m12s\u001b[0m 1ms/step - accuracy: 0.9389 - loss: 0.1542 - val_accuracy: 0.9373 - val_loss: 0.1596\n",
      "Epoch 28/50\n",
      "\u001b[1m9386/9422\u001b[0m \u001b[32m━━━━━━━━━━━━━━━━━━━\u001b[0m\u001b[37m━\u001b[0m \u001b[1m0s\u001b[0m 1ms/step - accuracy: 0.9387 - loss: 0.1543\n",
      "Epoch 28: val_loss improved from 0.15785 to 0.15742, saving model to /home/devnath/Ember_18_Aug/ember/ember_standard_csv_v3/ann_40_final_binary_base_classfier.keras\n",
      "\u001b[1m9422/9422\u001b[0m \u001b[32m━━━━━━━━━━━━━━━━━━━━\u001b[0m\u001b[37m\u001b[0m \u001b[1m12s\u001b[0m 1ms/step - accuracy: 0.9387 - loss: 0.1543 - val_accuracy: 0.9393 - val_loss: 0.1574\n",
      "Epoch 29/50\n",
      "\u001b[1m9413/9422\u001b[0m \u001b[32m━━━━━━━━━━━━━━━━━━━\u001b[0m\u001b[37m━\u001b[0m \u001b[1m0s\u001b[0m 1ms/step - accuracy: 0.9398 - loss: 0.1522\n",
      "Epoch 29: val_loss improved from 0.15742 to 0.15614, saving model to /home/devnath/Ember_18_Aug/ember/ember_standard_csv_v3/ann_40_final_binary_base_classfier.keras\n",
      "\u001b[1m9422/9422\u001b[0m \u001b[32m━━━━━━━━━━━━━━━━━━━━\u001b[0m\u001b[37m\u001b[0m \u001b[1m12s\u001b[0m 1ms/step - accuracy: 0.9398 - loss: 0.1522 - val_accuracy: 0.9393 - val_loss: 0.1561\n",
      "Epoch 30/50\n",
      "\u001b[1m9376/9422\u001b[0m \u001b[32m━━━━━━━━━━━━━━━━━━━\u001b[0m\u001b[37m━\u001b[0m \u001b[1m0s\u001b[0m 1ms/step - accuracy: 0.9397 - loss: 0.1529\n",
      "Epoch 30: val_loss did not improve from 0.15614\n",
      "\u001b[1m9422/9422\u001b[0m \u001b[32m━━━━━━━━━━━━━━━━━━━━\u001b[0m\u001b[37m\u001b[0m \u001b[1m12s\u001b[0m 1ms/step - accuracy: 0.9397 - loss: 0.1529 - val_accuracy: 0.9399 - val_loss: 0.1569\n",
      "Epoch 31/50\n",
      "\u001b[1m9403/9422\u001b[0m \u001b[32m━━━━━━━━━━━━━━━━━━━\u001b[0m\u001b[37m━\u001b[0m \u001b[1m0s\u001b[0m 1ms/step - accuracy: 0.9395 - loss: 0.1529\n",
      "Epoch 31: val_loss improved from 0.15614 to 0.15514, saving model to /home/devnath/Ember_18_Aug/ember/ember_standard_csv_v3/ann_40_final_binary_base_classfier.keras\n",
      "\u001b[1m9422/9422\u001b[0m \u001b[32m━━━━━━━━━━━━━━━━━━━━\u001b[0m\u001b[37m\u001b[0m \u001b[1m12s\u001b[0m 1ms/step - accuracy: 0.9395 - loss: 0.1529 - val_accuracy: 0.9394 - val_loss: 0.1551\n",
      "Epoch 32/50\n",
      "\u001b[1m9376/9422\u001b[0m \u001b[32m━━━━━━━━━━━━━━━━━━━\u001b[0m\u001b[37m━\u001b[0m \u001b[1m0s\u001b[0m 1ms/step - accuracy: 0.9400 - loss: 0.1512\n",
      "Epoch 32: val_loss did not improve from 0.15514\n",
      "\u001b[1m9422/9422\u001b[0m \u001b[32m━━━━━━━━━━━━━━━━━━━━\u001b[0m\u001b[37m\u001b[0m \u001b[1m11s\u001b[0m 1ms/step - accuracy: 0.9400 - loss: 0.1512 - val_accuracy: 0.9405 - val_loss: 0.1556\n",
      "Epoch 33/50\n",
      "\u001b[1m9421/9422\u001b[0m \u001b[32m━━━━━━━━━━━━━━━━━━━\u001b[0m\u001b[37m━\u001b[0m \u001b[1m0s\u001b[0m 1ms/step - accuracy: 0.9416 - loss: 0.1501\n",
      "Epoch 33: val_loss improved from 0.15514 to 0.15339, saving model to /home/devnath/Ember_18_Aug/ember/ember_standard_csv_v3/ann_40_final_binary_base_classfier.keras\n",
      "\u001b[1m9422/9422\u001b[0m \u001b[32m━━━━━━━━━━━━━━━━━━━━\u001b[0m\u001b[37m\u001b[0m \u001b[1m12s\u001b[0m 1ms/step - accuracy: 0.9416 - loss: 0.1501 - val_accuracy: 0.9405 - val_loss: 0.1534\n",
      "Epoch 34/50\n",
      "\u001b[1m9420/9422\u001b[0m \u001b[32m━━━━━━━━━━━━━━━━━━━\u001b[0m\u001b[37m━\u001b[0m \u001b[1m0s\u001b[0m 1ms/step - accuracy: 0.9414 - loss: 0.1503\n",
      "Epoch 34: val_loss did not improve from 0.15339\n",
      "\u001b[1m9422/9422\u001b[0m \u001b[32m━━━━━━━━━━━━━━━━━━━━\u001b[0m\u001b[37m\u001b[0m \u001b[1m12s\u001b[0m 1ms/step - accuracy: 0.9414 - loss: 0.1503 - val_accuracy: 0.9394 - val_loss: 0.1564\n",
      "Epoch 35/50\n",
      "\u001b[1m9403/9422\u001b[0m \u001b[32m━━━━━━━━━━━━━━━━━━━\u001b[0m\u001b[37m━\u001b[0m \u001b[1m0s\u001b[0m 1ms/step - accuracy: 0.9412 - loss: 0.1501\n",
      "Epoch 35: val_loss did not improve from 0.15339\n",
      "\u001b[1m9422/9422\u001b[0m \u001b[32m━━━━━━━━━━━━━━━━━━━━\u001b[0m\u001b[37m\u001b[0m \u001b[1m11s\u001b[0m 1ms/step - accuracy: 0.9412 - loss: 0.1501 - val_accuracy: 0.9392 - val_loss: 0.1563\n",
      "Epoch 36/50\n",
      "\u001b[1m9388/9422\u001b[0m \u001b[32m━━━━━━━━━━━━━━━━━━━\u001b[0m\u001b[37m━\u001b[0m \u001b[1m0s\u001b[0m 1ms/step - accuracy: 0.9414 - loss: 0.1491\n",
      "Epoch 36: val_loss did not improve from 0.15339\n",
      "\u001b[1m9422/9422\u001b[0m \u001b[32m━━━━━━━━━━━━━━━━━━━━\u001b[0m\u001b[37m\u001b[0m \u001b[1m12s\u001b[0m 1ms/step - accuracy: 0.9414 - loss: 0.1491 - val_accuracy: 0.9405 - val_loss: 0.1535\n",
      "Epoch 37/50\n",
      "\u001b[1m9387/9422\u001b[0m \u001b[32m━━━━━━━━━━━━━━━━━━━\u001b[0m\u001b[37m━\u001b[0m \u001b[1m0s\u001b[0m 1ms/step - accuracy: 0.9413 - loss: 0.1495\n",
      "Epoch 37: val_loss did not improve from 0.15339\n",
      "\u001b[1m9422/9422\u001b[0m \u001b[32m━━━━━━━━━━━━━━━━━━━━\u001b[0m\u001b[37m\u001b[0m \u001b[1m12s\u001b[0m 1ms/step - accuracy: 0.9413 - loss: 0.1495 - val_accuracy: 0.9406 - val_loss: 0.1545\n",
      "Epoch 38/50\n",
      "\u001b[1m9408/9422\u001b[0m \u001b[32m━━━━━━━━━━━━━━━━━━━\u001b[0m\u001b[37m━\u001b[0m \u001b[1m0s\u001b[0m 1ms/step - accuracy: 0.9416 - loss: 0.1485\n",
      "Epoch 38: val_loss did not improve from 0.15339\n",
      "\u001b[1m9422/9422\u001b[0m \u001b[32m━━━━━━━━━━━━━━━━━━━━\u001b[0m\u001b[37m\u001b[0m \u001b[1m11s\u001b[0m 1ms/step - accuracy: 0.9416 - loss: 0.1485 - val_accuracy: 0.9418 - val_loss: 0.1538\n",
      "Epoch 39/50\n",
      "\u001b[1m9394/9422\u001b[0m \u001b[32m━━━━━━━━━━━━━━━━━━━\u001b[0m\u001b[37m━\u001b[0m \u001b[1m0s\u001b[0m 1ms/step - accuracy: 0.9418 - loss: 0.1482\n",
      "Epoch 39: val_loss improved from 0.15339 to 0.15249, saving model to /home/devnath/Ember_18_Aug/ember/ember_standard_csv_v3/ann_40_final_binary_base_classfier.keras\n",
      "\u001b[1m9422/9422\u001b[0m \u001b[32m━━━━━━━━━━━━━━━━━━━━\u001b[0m\u001b[37m\u001b[0m \u001b[1m12s\u001b[0m 1ms/step - accuracy: 0.9418 - loss: 0.1482 - val_accuracy: 0.9407 - val_loss: 0.1525\n",
      "Epoch 40/50\n",
      "\u001b[1m9419/9422\u001b[0m \u001b[32m━━━━━━━━━━━━━━━━━━━\u001b[0m\u001b[37m━\u001b[0m \u001b[1m0s\u001b[0m 1ms/step - accuracy: 0.9418 - loss: 0.1468\n",
      "Epoch 40: val_loss improved from 0.15249 to 0.15226, saving model to /home/devnath/Ember_18_Aug/ember/ember_standard_csv_v3/ann_40_final_binary_base_classfier.keras\n",
      "\u001b[1m9422/9422\u001b[0m \u001b[32m━━━━━━━━━━━━━━━━━━━━\u001b[0m\u001b[37m\u001b[0m \u001b[1m12s\u001b[0m 1ms/step - accuracy: 0.9418 - loss: 0.1468 - val_accuracy: 0.9416 - val_loss: 0.1523\n",
      "Epoch 41/50\n",
      "\u001b[1m9398/9422\u001b[0m \u001b[32m━━━━━━━━━━━━━━━━━━━\u001b[0m\u001b[37m━\u001b[0m \u001b[1m0s\u001b[0m 1ms/step - accuracy: 0.9420 - loss: 0.1481\n",
      "Epoch 41: val_loss did not improve from 0.15226\n",
      "\u001b[1m9422/9422\u001b[0m \u001b[32m━━━━━━━━━━━━━━━━━━━━\u001b[0m\u001b[37m\u001b[0m \u001b[1m12s\u001b[0m 1ms/step - accuracy: 0.9420 - loss: 0.1481 - val_accuracy: 0.9409 - val_loss: 0.1542\n",
      "Epoch 42/50\n",
      "\u001b[1m9421/9422\u001b[0m \u001b[32m━━━━━━━━━━━━━━━━━━━\u001b[0m\u001b[37m━\u001b[0m \u001b[1m0s\u001b[0m 1ms/step - accuracy: 0.9421 - loss: 0.1469\n",
      "Epoch 42: val_loss improved from 0.15226 to 0.15218, saving model to /home/devnath/Ember_18_Aug/ember/ember_standard_csv_v3/ann_40_final_binary_base_classfier.keras\n",
      "\u001b[1m9422/9422\u001b[0m \u001b[32m━━━━━━━━━━━━━━━━━━━━\u001b[0m\u001b[37m\u001b[0m \u001b[1m11s\u001b[0m 1ms/step - accuracy: 0.9421 - loss: 0.1469 - val_accuracy: 0.9410 - val_loss: 0.1522\n",
      "Epoch 43/50\n",
      "\u001b[1m9397/9422\u001b[0m \u001b[32m━━━━━━━━━━━━━━━━━━━\u001b[0m\u001b[37m━\u001b[0m \u001b[1m0s\u001b[0m 1ms/step - accuracy: 0.9419 - loss: 0.1475\n",
      "Epoch 43: val_loss improved from 0.15218 to 0.15001, saving model to /home/devnath/Ember_18_Aug/ember/ember_standard_csv_v3/ann_40_final_binary_base_classfier.keras\n",
      "\u001b[1m9422/9422\u001b[0m \u001b[32m━━━━━━━━━━━━━━━━━━━━\u001b[0m\u001b[37m\u001b[0m \u001b[1m12s\u001b[0m 1ms/step - accuracy: 0.9419 - loss: 0.1475 - val_accuracy: 0.9416 - val_loss: 0.1500\n",
      "Epoch 44/50\n",
      "\u001b[1m9415/9422\u001b[0m \u001b[32m━━━━━━━━━━━━━━━━━━━\u001b[0m\u001b[37m━\u001b[0m \u001b[1m0s\u001b[0m 1ms/step - accuracy: 0.9426 - loss: 0.1472\n",
      "Epoch 44: val_loss did not improve from 0.15001\n",
      "\u001b[1m9422/9422\u001b[0m \u001b[32m━━━━━━━━━━━━━━━━━━━━\u001b[0m\u001b[37m\u001b[0m \u001b[1m12s\u001b[0m 1ms/step - accuracy: 0.9426 - loss: 0.1472 - val_accuracy: 0.9424 - val_loss: 0.1513\n",
      "Epoch 45/50\n",
      "\u001b[1m9407/9422\u001b[0m \u001b[32m━━━━━━━━━━━━━━━━━━━\u001b[0m\u001b[37m━\u001b[0m \u001b[1m0s\u001b[0m 1ms/step - accuracy: 0.9419 - loss: 0.1468\n",
      "Epoch 45: val_loss did not improve from 0.15001\n",
      "\u001b[1m9422/9422\u001b[0m \u001b[32m━━━━━━━━━━━━━━━━━━━━\u001b[0m\u001b[37m\u001b[0m \u001b[1m11s\u001b[0m 1ms/step - accuracy: 0.9419 - loss: 0.1468 - val_accuracy: 0.9409 - val_loss: 0.1526\n",
      "Epoch 46/50\n",
      "\u001b[1m9408/9422\u001b[0m \u001b[32m━━━━━━━━━━━━━━━━━━━\u001b[0m\u001b[37m━\u001b[0m \u001b[1m0s\u001b[0m 1ms/step - accuracy: 0.9422 - loss: 0.1464\n",
      "Epoch 46: val_loss did not improve from 0.15001\n",
      "\u001b[1m9422/9422\u001b[0m \u001b[32m━━━━━━━━━━━━━━━━━━━━\u001b[0m\u001b[37m\u001b[0m \u001b[1m12s\u001b[0m 1ms/step - accuracy: 0.9422 - loss: 0.1464 - val_accuracy: 0.9407 - val_loss: 0.1516\n",
      "Epoch 47/50\n",
      "\u001b[1m9420/9422\u001b[0m \u001b[32m━━━━━━━━━━━━━━━━━━━\u001b[0m\u001b[37m━\u001b[0m \u001b[1m0s\u001b[0m 1ms/step - accuracy: 0.9425 - loss: 0.1445\n",
      "Epoch 47: val_loss did not improve from 0.15001\n",
      "\u001b[1m9422/9422\u001b[0m \u001b[32m━━━━━━━━━━━━━━━━━━━━\u001b[0m\u001b[37m\u001b[0m \u001b[1m11s\u001b[0m 1ms/step - accuracy: 0.9425 - loss: 0.1445 - val_accuracy: 0.9412 - val_loss: 0.1504\n",
      "Epoch 48/50\n",
      "\u001b[1m9378/9422\u001b[0m \u001b[32m━━━━━━━━━━━━━━━━━━━\u001b[0m\u001b[37m━\u001b[0m \u001b[1m0s\u001b[0m 1ms/step - accuracy: 0.9439 - loss: 0.1435\n",
      "Epoch 48: val_loss did not improve from 0.15001\n",
      "\u001b[1m9422/9422\u001b[0m \u001b[32m━━━━━━━━━━━━━━━━━━━━\u001b[0m\u001b[37m\u001b[0m \u001b[1m11s\u001b[0m 1ms/step - accuracy: 0.9439 - loss: 0.1435 - val_accuracy: 0.9409 - val_loss: 0.1524\n",
      "Epoch 49/50\n",
      "\u001b[1m9380/9422\u001b[0m \u001b[32m━━━━━━━━━━━━━━━━━━━\u001b[0m\u001b[37m━\u001b[0m \u001b[1m0s\u001b[0m 1ms/step - accuracy: 0.9428 - loss: 0.1449\n",
      "Epoch 49: val_loss did not improve from 0.15001\n",
      "\u001b[1m9422/9422\u001b[0m \u001b[32m━━━━━━━━━━━━━━━━━━━━\u001b[0m\u001b[37m\u001b[0m \u001b[1m11s\u001b[0m 1ms/step - accuracy: 0.9428 - loss: 0.1450 - val_accuracy: 0.9416 - val_loss: 0.1502\n",
      "Epoch 50/50\n",
      "\u001b[1m9382/9422\u001b[0m \u001b[32m━━━━━━━━━━━━━━━━━━━\u001b[0m\u001b[37m━\u001b[0m \u001b[1m0s\u001b[0m 1ms/step - accuracy: 0.9431 - loss: 0.1441\n",
      "Epoch 50: val_loss did not improve from 0.15001\n",
      "\u001b[1m9422/9422\u001b[0m \u001b[32m━━━━━━━━━━━━━━━━━━━━\u001b[0m\u001b[37m\u001b[0m \u001b[1m12s\u001b[0m 1ms/step - accuracy: 0.9431 - loss: 0.1441 - val_accuracy: 0.9423 - val_loss: 0.1501\n",
      "\u001b[1m2618/2618\u001b[0m \u001b[32m━━━━━━━━━━━━━━━━━━━━\u001b[0m\u001b[37m\u001b[0m \u001b[1m2s\u001b[0m 931us/step - accuracy: 0.9448 - loss: 0.1426\n",
      "Test Accuracy: 0.9445, Test Loss: 0.1443\n"
     ]
    },
    {
     "data": {
      "image/png": "[encoded data removed]",
      "text/plain": [
       "<Figure size 1200x500 with 1 Axes>"
      ]
     },
     "metadata": {},
     "output_type": "display_data"
    }
   ],
   "source": [
    "import json\n",
    "import csv\n",
    "import threading\n",
    "import math\n",
    "import pandas as pd\n",
    "import numpy as np\n",
    "import multiprocessing\n",
    "import random as rn\n",
    "\n",
    "import seaborn as sns\n",
    "import matplotlib.pyplot as plt\n",
    "\n",
    "\n",
    "\n",
    "# from data import data_visualization, data_loading, data_preprocessing\n",
    "# from models import annModels\n",
    "\n",
    "# from xgboost import XGBClassifier\n",
    "from sklearn.preprocessing import StandardScaler\n",
    "from sklearn.ensemble import RandomForestClassifier, AdaBoostClassifier, BaggingClassifier\n",
    "from sklearn.metrics import accuracy_score, confusion_matrix, classification_report \n",
    "from sklearn.model_selection import  learning_curve\n",
    "from sklearn.pipeline import Pipeline\n",
    "from sklearn.preprocessing import StandardScaler,LabelEncoder\n",
    "from sklearn.decomposition import PCA\n",
    "from scikeras.wrappers import KerasClassifier\n",
    "\n",
    "# import xgboost as xgb\n",
    "\n",
    "import tensorflow as tf\n",
    "from tensorflow.keras.layers import Input, Dense, Concatenate\n",
    "from tensorflow.keras.models import Model\n",
    "\n",
    "import keras\n",
    "from keras.models import Sequential\n",
    "from keras.layers import Input, Dense, Activation, Dropout, Activation\n",
    "from keras.optimizers import SGD\n",
    "from keras.models import load_model\n",
    "from keras import regularizers\n",
    "from keras import backend as K\n",
    "from keras.layers import BatchNormalization\n",
    "from keras.layers import Conv1D, MaxPooling1D, Flatten, Dense, Dropout, Conv2D, MaxPooling2D\n",
    "from keras.regularizers import l2\n",
    "from keras.layers import concatenate\n",
    "from sklearn.model_selection import StratifiedKFold\n",
    "\n",
    "import joblib\n",
    "\n",
    "\n",
    "import numpy as np\n",
    "import pandas as pd\n",
    "from sklearn.model_selection import train_test_split\n",
    "from tensorflow.keras.utils import to_categorical\n",
    "from keras.models import Sequential\n",
    "from keras.layers import Input, Dense, Dropout\n",
    "from keras.optimizers import Adam\n",
    "from keras.callbacks import EarlyStopping, ModelCheckpoint\n",
    "\n",
    "# Load and preprocess data\n",
    "def load_data():\n",
    "    df = pd.read_csv('/home/devnath/Ember_18_Aug/ember/ember_standard_csv_v3/final_dataset.csv')\n",
    "    X = df.drop(['label', 'Unnamed: 0'], axis=True).values\n",
    "    y = df['label'].values\n",
    "    \n",
    "    X_train, X_test, y_train, y_test = train_test_split(\n",
    "        X,\n",
    "        y,\n",
    "        test_size=0.2,\n",
    "        random_state=42,\n",
    "        stratify=y\n",
    "    )\n",
    "    X_train, X_val, y_train, y_val = train_test_split(\n",
    "        X_train,\n",
    "        y_train,\n",
    "        test_size=0.1,\n",
    "        random_state=42,\n",
    "        stratify=y_train\n",
    "    )\n",
    "\n",
    "    return X_train, X_test, y_train, y_test, X_val, y_val\n",
    "\n",
    "X_train, X_test, y_train, y_test, X_val, y_val = load_data()\n",
    "\n",
    "# Convert labels to one-hot encoding\n",
    "y_train = to_categorical(y_train, num_classes=2)\n",
    "y_val = to_categorical(y_val, num_classes=2)\n",
    "y_test = to_categorical(y_test, num_classes=2)\n",
    "\n",
    "# Build and compile the ANN model\n",
    "def build_ann(input_dim):\n",
    "    model = Sequential()\n",
    "    model.add(Input(shape=(input_dim,)))\n",
    "    model.add(Dense(64, activation='relu'))\n",
    "    model.add(Dense(128, activation='relu'))\n",
    "    model.add(Dropout(0.3))  # Adjust dropout rate\n",
    "    model.add(Dense(128, activation='relu'))\n",
    "    model.add(Dropout(0.3))  # Adjust dropout rate\n",
    "    model.add(Dense(64, activation='relu'))\n",
    "    model.add(Dense(2, activation='softmax'))  # 2 units for binary classification\n",
    "    model.compile(optimizer=Adam(learning_rate=0.0005), loss='categorical_crossentropy', metrics=['accuracy'])  # Adjust learning rate\n",
    "    return model\n",
    "\n",
    "input_dim = X_train.shape[1]\n",
    "model_1 = build_ann(input_dim)\n",
    "\n",
    "# Define callbacks\n",
    "early_stopping = EarlyStopping(monitor='val_loss', patience=10, restore_best_weights=True)  # Adjust patience\n",
    "model_checkpoint = ModelCheckpoint(\n",
    "    filepath='/home/devnath/Ember_18_Aug/ember/ember_standard_csv_v3/ann_40_final_binary_base_classfier.keras', \n",
    "    monitor='val_loss', \n",
    "    save_best_only=True,\n",
    "    save_weights_only=False, \n",
    "    mode='min', \n",
    "    verbose=1\n",
    ")\n",
    "\n",
    "# Train the model\n",
    "history_1 = model_1.fit(X_train, y_train,\n",
    "                        epochs=50,\n",
    "                        batch_size=32,\n",
    "                        validation_data=(X_val, y_val),\n",
    "                        callbacks=[early_stopping, model_checkpoint])\n",
    "\n",
    "# Evaluate the model\n",
    "test_loss, test_accuracy = model_1.evaluate(X_test, y_test, verbose=1)\n",
    "print(f'Test Accuracy: {test_accuracy:.4f}, Test Loss: {test_loss:.4f}')\n",
    "\n",
    "\n",
    "\n",
    "\n",
    "\n",
    "\n",
    "# Plot training & validation loss\n",
    "import matplotlib.pyplot as plt\n",
    "\n",
    "plt.figure(figsize=(12, 5))\n",
    "\n",
    "# Plot loss\n",
    "plt.subplot(1, 2, 1)\n",
    "plt.plot(history_1.history['loss'], label='Training Loss')\n",
    "plt.plot(history_1.history['val_loss'], label='Validation Loss')\n",
    "plt.xlabel('Epochs')\n",
    "plt.ylabel('Loss')\n",
    "plt.legend()\n",
    "# plt.title('Loss')\n",
    "\n",
    "# Set grid and background color\n",
    "plt.grid(True)  # Add grid\n",
    "plt.gca().set_facecolor('lightgrey')  # Set background color of the plot area\n",
    "\n"
   ]
  },
  {
   "cell_type": "code",
   "execution_count": 13,
   "id": "6c2aef3b-1dc9-4e5f-816d-7716f30c5d9c",
   "metadata": {},
   "outputs": [
    {
     "name": "stdout",
     "output_type": "stream",
     "text": [
      "\u001b[1m2618/2618\u001b[0m \u001b[32m━━━━━━━━━━━━━━━━━━━━\u001b[0m\u001b[37m\u001b[0m \u001b[1m3s\u001b[0m 836us/step\n"
     ]
    },
    {
     "data": {
      "image/png": "[encoded data removed]",
      "text/plain": [
       "<Figure size 800x600 with 2 Axes>"
      ]
     },
     "metadata": {},
     "output_type": "display_data"
    }
   ],
   "source": [
    "# Make predictions on the test set\n",
    "y_pred_prob = model_1.predict(X_test)\n",
    "y_pred = np.argmax(y_pred_prob, axis=1)  # Convert probabilities to class labels\n",
    "\n",
    "# Convert y_test back to class labels\n",
    "y_test_labels = np.argmax(y_test, axis=1)\n",
    "\n",
    "# Calculate the confusion matrix\n",
    "conf_matrix = confusion_matrix(y_test_labels, y_pred)\n",
    "\n",
    "\n",
    "# Optional: Visualize the confusion matrix\n",
    "import matplotlib.pyplot as plt\n",
    "import seaborn as sns\n",
    "\n",
    "plt.figure(figsize=(8, 6))\n",
    "sns.heatmap(conf_matrix, annot=True, fmt='d', cmap='Blues')\n",
    "plt.xlabel('Predicted Label')\n",
    "plt.ylabel('True Label')\n",
    "# plt.title('Confusion Matrix')\n",
    "plt.show()\n"
   ]
  },
  {
   "cell_type": "code",
   "execution_count": 14,
   "id": "107b9d6b-2337-4ab6-af5c-4b151e50599d",
   "metadata": {},
   "outputs": [],
   "source": [
    "from sklearn.metrics import precision_score, recall_score, f1_score, confusion_matrix\n",
    "# Calculate metrics\n",
    "accuracy = accuracy_score(y_test_labels, y_pred)\n",
    "precision = precision_score(y_test_labels, y_pred)\n",
    "recall = recall_score(y_test_labels, y_pred)\n",
    "f1 = f1_score(y_test_labels, y_pred)\n"
   ]
  },
  {
   "cell_type": "code",
   "execution_count": 15,
   "id": "ee23fde3-d0cd-4eb5-8e7d-df06a1d2721c",
   "metadata": {},
   "outputs": [
    {
     "name": "stdout",
     "output_type": "stream",
     "text": [
      "Confusion Matrix:\n",
      "[[41246  1796]\n",
      " [ 2856 37849]]\n",
      "Accuracy: 0.9445\n",
      "Precision: 0.9547\n",
      "Recall: 0.9298\n",
      "F1 Score: 0.9421\n"
     ]
    }
   ],
   "source": [
    "# Print results\n",
    "print(f\"Confusion Matrix:\\n{conf_matrix}\")\n",
    "print(f\"Accuracy: {accuracy:.4f}\")\n",
    "print(f\"Precision: {precision:.4f}\")\n",
    "print(f\"Recall: {recall:.4f}\")\n",
    "print(f\"F1 Score: {f1:.4f}\")"
   ]
  },
  {
   "cell_type": "code",
   "execution_count": 16,
   "id": "84ded4a9-389b-40df-afd3-73c9f1a27136",
   "metadata": {},
   "outputs": [
    {
     "data": {
      "image/png": "[encoded data removed]",
      "text/plain": [
       "<Figure size 640x480 with 1 Axes>"
      ]
     },
     "metadata": {},
     "output_type": "display_data"
    }
   ],
   "source": [
    "from sklearn.metrics import precision_score, recall_score, f1_score, confusion_matrix, roc_curve, auc, accuracy_score\n",
    "\n",
    "\n",
    "# Plot ROC curve\n",
    "fpr, tpr, _ = roc_curve(y_test_labels, y_pred)\n",
    "roc_auc = auc(fpr, tpr)\n",
    "\n",
    "plt.figure()\n",
    "plt.plot(fpr, tpr, color='darkorange', lw=2, label=f'ROC curve (area = {roc_auc:.4f})')\n",
    "plt.plot([0, 1], [0, 1], color='navy', lw=2, linestyle='--')\n",
    "plt.xlim([0.0, 1.0])\n",
    "plt.ylim([0.0, 1.05])\n",
    "plt.xlabel('False Positive Rate')\n",
    "plt.ylabel('True Positive Rate')\n",
    "# plt.title('Receiver Operating Characteristic')\n",
    "plt.legend(loc='lower right')\n",
    "plt.show()"
   ]
  },
  {
   "cell_type": "code",
   "execution_count": 17,
   "id": "3404cda6-9c6c-4304-a409-c93efcec513a",
   "metadata": {},
   "outputs": [
    {
     "name": "stderr",
     "output_type": "stream",
     "text": [
      "WARNING:absl:You are saving your model as an HDF5 file via `model.save()` or `keras.saving.save_model(model)`. This file format is considered legacy. We recommend using instead the native Keras format, e.g. `model.save('my_model.keras')` or `keras.saving.save_model(model, 'my_model.keras')`. \n"
     ]
    }
   ],
   "source": [
    "# Save the trained model\n",
    "model_1.save('/home/devnath/Ember_18_Aug/model_save/ann_base_classfier.h5')"
   ]
  },
  {
   "cell_type": "code",
   "execution_count": 18,
   "id": "ed12fed1-af07-4335-aa52-fef8cd962c80",
   "metadata": {},
   "outputs": [
    {
     "name": "stdout",
     "output_type": "stream",
     "text": [
      "Sat Aug 24 16:26:34 2024       \n",
      "+---------------------------------------------------------------------------------------+\n",
      "| NVIDIA-SMI 535.183.01             Driver Version: 535.183.01   CUDA Version: 12.2     |\n",
      "|-----------------------------------------+----------------------+----------------------+\n",
      "| GPU  Name                 Persistence-M | Bus-Id        Disp.A | Volatile Uncorr. ECC |\n",
      "| Fan  Temp   Perf          Pwr:Usage/Cap |         Memory-Usage | GPU-Util  Compute M. |\n",
      "|                                         |                      |               MIG M. |\n",
      "|=========================================+======================+======================|\n",
      "|   0  NVIDIA RTX A4000               Off | 00000000:47:00.0 Off |                  Off |\n",
      "| 41%   36C    P8              15W / 140W |  14594MiB / 16376MiB |      0%      Default |\n",
      "|                                         |                      |                  N/A |\n",
      "+-----------------------------------------+----------------------+----------------------+\n",
      "                                                                                         \n",
      "+---------------------------------------------------------------------------------------+\n",
      "| Processes:                                                                            |\n",
      "|  GPU   GI   CI        PID   Type   Process name                            GPU Memory |\n",
      "|        ID   ID                                                             Usage      |\n",
      "|=======================================================================================|\n",
      "|    0   N/A  N/A      1740      G   /usr/lib/xorg/Xorg                           69MiB |\n",
      "|    0   N/A  N/A      3450      G   ...irefox/4698/usr/lib/firefox/firefox      130MiB |\n",
      "|    0   N/A  N/A      7470      C   .../anaconda3/envs/ember_tf/bin/python    14076MiB |\n",
      "|    0   N/A  N/A    126395      G   /usr/lib/xorg/Xorg                           76MiB |\n",
      "|    0   N/A  N/A    126725      G   /usr/lib/xorg/Xorg                           62MiB |\n",
      "+---------------------------------------------------------------------------------------+\n"
     ]
    }
   ],
   "source": [
    "!nvidia-smi"
   ]
  },
  {
   "cell_type": "code",
   "execution_count": null,
   "id": "2153ed55-eb14-42ee-96e4-373c8422b93a",
   "metadata": {},
   "outputs": [],
   "source": [
    "!kill 7470 "
   ]
  },
  {
   "cell_type": "code",
   "execution_count": 2,
   "id": "0e532fbe-cfdc-457a-a9a2-d765e185434d",
   "metadata": {},
   "outputs": [],
   "source": [
    "import pandas as pd\n",
    "df = pd.read_csv('/home/devnath/Ember_18_Aug/ember/ember_standard_csv_v3/final_dataset.csv')\n",
    "X = df.drop(['label', 'Unnamed: 0'], axis=True).values\n",
    "y = df['label'].values"
   ]
  },
  {
   "cell_type": "code",
   "execution_count": 3,
   "id": "75ce779b-e42d-4935-93b9-e95c025f6827",
   "metadata": {},
   "outputs": [
    {
     "data": {
      "text/plain": [
       "(418732, 41)"
      ]
     },
     "execution_count": 3,
     "metadata": {},
     "output_type": "execute_result"
    }
   ],
   "source": [
    "X.shape"
   ]
  },
  {
   "cell_type": "code",
   "execution_count": 4,
   "id": "2febf629-0781-45c3-8368-e5d534542675",
   "metadata": {},
   "outputs": [
    {
     "data": {
      "text/plain": [
       "(418732,)"
      ]
     },
     "execution_count": 4,
     "metadata": {},
     "output_type": "execute_result"
    }
   ],
   "source": [
    "y.shape"
   ]
  },
  {
   "cell_type": "code",
   "execution_count": 6,
   "id": "4f1dc66a-8669-4a66-b61b-9991b594732e",
   "metadata": {},
   "outputs": [
    {
     "name": "stderr",
     "output_type": "stream",
     "text": [
      "2024-08-25 15:01:03.075422: I tensorflow/core/util/port.cc:153] oneDNN custom operations are on. You may see slightly different numerical results due to floating-point round-off errors from different computation orders. To turn them off, set the environment variable `TF_ENABLE_ONEDNN_OPTS=0`.\n",
      "2024-08-25 15:01:03.087502: E external/local_xla/xla/stream_executor/cuda/cuda_fft.cc:485] Unable to register cuFFT factory: Attempting to register factory for plugin cuFFT when one has already been registered\n",
      "2024-08-25 15:01:03.101867: E external/local_xla/xla/stream_executor/cuda/cuda_dnn.cc:8454] Unable to register cuDNN factory: Attempting to register factory for plugin cuDNN when one has already been registered\n",
      "2024-08-25 15:01:03.106357: E external/local_xla/xla/stream_executor/cuda/cuda_blas.cc:1452] Unable to register cuBLAS factory: Attempting to register factory for plugin cuBLAS when one has already been registered\n",
      "2024-08-25 15:01:03.116704: I tensorflow/core/platform/cpu_feature_guard.cc:210] This TensorFlow binary is optimized to use available CPU instructions in performance-critical operations.\n",
      "To enable the following instructions: AVX2 AVX512F AVX512_VNNI AVX512_BF16 AVX512_FP16 AVX_VNNI AMX_TILE AMX_INT8 AMX_BF16 FMA, in other operations, rebuild TensorFlow with the appropriate compiler flags.\n",
      "2024-08-25 15:01:03.874001: W tensorflow/compiler/tf2tensorrt/utils/py_utils.cc:38] TF-TRT Warning: Could not find TensorRT\n"
     ]
    }
   ],
   "source": [
    "import tensorflow as tf\n",
    "from tensorflow.keras.layers import Input, Dense, Concatenate\n",
    "from tensorflow.keras.models import Model\n",
    "\n",
    "import keras\n",
    "from keras.models import Sequential\n",
    "from keras.layers import Input, Dense, Activation, Dropout, Activation\n",
    "from keras.optimizers import SGD\n",
    "from keras.models import load_model\n",
    "from keras import regularizers\n",
    "from keras import backend as K\n",
    "from keras.layers import BatchNormalization\n",
    "from keras.layers import Conv1D, MaxPooling1D, Flatten, Dense, Dropout, Conv2D, MaxPooling2D\n",
    "from keras.regularizers import l2\n",
    "from keras.layers import concatenate\n",
    "from sklearn.model_selection import StratifiedKFold\n",
    "\n",
    "import joblib\n",
    "\n",
    "\n",
    "import numpy as np\n",
    "import pandas as pd\n",
    "from sklearn.model_selection import train_test_split\n",
    "from tensorflow.keras.utils import to_categorical\n",
    "from keras.models import Sequential\n",
    "from keras.layers import Input, Dense, Dropout\n",
    "from keras.optimizers import Adam\n",
    "from keras.callbacks import EarlyStopping, ModelCheckpoint\n",
    "\n",
    "\n",
    "\n",
    "\n",
    "\n",
    "# Load and preprocess data\n",
    "def load_data():\n",
    "    df = pd.read_csv('/home/devnath/Ember_18_Aug/ember/ember_standard_csv_v3/final_dataset.csv')\n",
    "    X = df.drop(['label', 'Unnamed: 0'], axis=True).values\n",
    "    y = df['label'].values\n",
    "    \n",
    "    X_train, X_test, y_train, y_test = train_test_split(\n",
    "        X,\n",
    "        y,\n",
    "        test_size=0.2,\n",
    "        random_state=42,\n",
    "        stratify=y\n",
    "    )\n",
    "    X_train, X_val, y_train, y_val = train_test_split(\n",
    "        X_train,\n",
    "        y_train,\n",
    "        test_size=0.1,\n",
    "        random_state=42,\n",
    "        stratify=y_train\n",
    "    )\n",
    "\n",
    "    return X_train, X_test, y_train, y_test, X_val, y_val\n",
    "\n",
    "X_train, X_test, y_train, y_test, X_val, y_val = load_data()"
   ]
  },
  {
   "cell_type": "code",
   "execution_count": 7,
   "id": "1b134cbd-edcd-486b-88c5-e8bfdb3789da",
   "metadata": {},
   "outputs": [
    {
     "data": {
      "text/plain": [
       "((301486, 41), (83747, 41), (301486,), (83747,), (33499, 41), (33499,))"
      ]
     },
     "execution_count": 7,
     "metadata": {},
     "output_type": "execute_result"
    }
   ],
   "source": [
    "X_train.shape, X_test.shape, y_train.shape, y_test.shape, X_val.shape, y_val.shape"
   ]
  },
  {
   "cell_type": "code",
   "execution_count": 8,
   "id": "4fa59fa2-b123-4b2a-8888-de11c30ebad0",
   "metadata": {},
   "outputs": [
    {
     "name": "stderr",
     "output_type": "stream",
     "text": [
      "2024-08-25 15:03:49.406378: I tensorflow/core/common_runtime/gpu/gpu_device.cc:2021] Created device /job:localhost/replica:0/task:0/device:GPU:0 with 1118 MB memory:  -> device: 0, name: NVIDIA RTX A4000, pci bus id: 0000:47:00.0, compute capability: 8.6\n",
      "WARNING:absl:Compiled the loaded model, but the compiled metrics have yet to be built. `model.compile_metrics` will be empty until you train or evaluate the model.\n"
     ]
    }
   ],
   "source": [
    "# Load the model from the .h5 file\n",
    "model = load_model('/home/devnath/Ember_18_Aug/model_save/ann_base_classfier.h5')"
   ]
  },
  {
   "cell_type": "code",
   "execution_count": 9,
   "id": "ccb0ee93-8556-4727-81fa-a4267abdcb2d",
   "metadata": {},
   "outputs": [
    {
     "data": {
      "text/html": [
       "<pre style=\"white-space:pre;overflow-x:auto;line-height:normal;font-family:Menlo,'DejaVu Sans Mono',consolas,'Courier New',monospace\"><span style=\"font-weight: bold\">Model: \"sequential_1\"</span>\n",
       "</pre>\n"
      ],
      "text/plain": [
       "\u001b[1mModel: \"sequential_1\"\u001b[0m\n"
      ]
     },
     "metadata": {},
     "output_type": "display_data"
    },
    {
     "data": {
      "text/html": [
       "<pre style=\"white-space:pre;overflow-x:auto;line-height:normal;font-family:Menlo,'DejaVu Sans Mono',consolas,'Courier New',monospace\">┏━━━━━━━━━━━━━━━━━━━━━━━━━━━━━━━━━┳━━━━━━━━━━━━━━━━━━━━━━━━┳━━━━━━━━━━━━━━━┓\n",
       "┃<span style=\"font-weight: bold\"> Layer (type)                    </span>┃<span style=\"font-weight: bold\"> Output Shape           </span>┃<span style=\"font-weight: bold\">       Param # </span>┃\n",
       "┡━━━━━━━━━━━━━━━━━━━━━━━━━━━━━━━━━╇━━━━━━━━━━━━━━━━━━━━━━━━╇━━━━━━━━━━━━━━━┩\n",
       "│ dense_5 (<span style=\"color: #0087ff; text-decoration-color: #0087ff\">Dense</span>)                 │ (<span style=\"color: #00d7ff; text-decoration-color: #00d7ff\">None</span>, <span style=\"color: #00af00; text-decoration-color: #00af00\">64</span>)             │         <span style=\"color: #00af00; text-decoration-color: #00af00\">2,688</span> │\n",
       "├─────────────────────────────────┼────────────────────────┼───────────────┤\n",
       "│ dense_6 (<span style=\"color: #0087ff; text-decoration-color: #0087ff\">Dense</span>)                 │ (<span style=\"color: #00d7ff; text-decoration-color: #00d7ff\">None</span>, <span style=\"color: #00af00; text-decoration-color: #00af00\">128</span>)            │         <span style=\"color: #00af00; text-decoration-color: #00af00\">8,320</span> │\n",
       "├─────────────────────────────────┼────────────────────────┼───────────────┤\n",
       "│ dropout_2 (<span style=\"color: #0087ff; text-decoration-color: #0087ff\">Dropout</span>)             │ (<span style=\"color: #00d7ff; text-decoration-color: #00d7ff\">None</span>, <span style=\"color: #00af00; text-decoration-color: #00af00\">128</span>)            │             <span style=\"color: #00af00; text-decoration-color: #00af00\">0</span> │\n",
       "├─────────────────────────────────┼────────────────────────┼───────────────┤\n",
       "│ dense_7 (<span style=\"color: #0087ff; text-decoration-color: #0087ff\">Dense</span>)                 │ (<span style=\"color: #00d7ff; text-decoration-color: #00d7ff\">None</span>, <span style=\"color: #00af00; text-decoration-color: #00af00\">128</span>)            │        <span style=\"color: #00af00; text-decoration-color: #00af00\">16,512</span> │\n",
       "├─────────────────────────────────┼────────────────────────┼───────────────┤\n",
       "│ dropout_3 (<span style=\"color: #0087ff; text-decoration-color: #0087ff\">Dropout</span>)             │ (<span style=\"color: #00d7ff; text-decoration-color: #00d7ff\">None</span>, <span style=\"color: #00af00; text-decoration-color: #00af00\">128</span>)            │             <span style=\"color: #00af00; text-decoration-color: #00af00\">0</span> │\n",
       "├─────────────────────────────────┼────────────────────────┼───────────────┤\n",
       "│ dense_8 (<span style=\"color: #0087ff; text-decoration-color: #0087ff\">Dense</span>)                 │ (<span style=\"color: #00d7ff; text-decoration-color: #00d7ff\">None</span>, <span style=\"color: #00af00; text-decoration-color: #00af00\">64</span>)             │         <span style=\"color: #00af00; text-decoration-color: #00af00\">8,256</span> │\n",
       "├─────────────────────────────────┼────────────────────────┼───────────────┤\n",
       "│ dense_9 (<span style=\"color: #0087ff; text-decoration-color: #0087ff\">Dense</span>)                 │ (<span style=\"color: #00d7ff; text-decoration-color: #00d7ff\">None</span>, <span style=\"color: #00af00; text-decoration-color: #00af00\">2</span>)              │           <span style=\"color: #00af00; text-decoration-color: #00af00\">130</span> │\n",
       "└─────────────────────────────────┴────────────────────────┴───────────────┘\n",
       "</pre>\n"
      ],
      "text/plain": [
       "┏━━━━━━━━━━━━━━━━━━━━━━━━━━━━━━━━━┳━━━━━━━━━━━━━━━━━━━━━━━━┳━━━━━━━━━━━━━━━┓\n",
       "┃\u001b[1m \u001b[0m\u001b[1mLayer (type)                   \u001b[0m\u001b[1m \u001b[0m┃\u001b[1m \u001b[0m\u001b[1mOutput Shape          \u001b[0m\u001b[1m \u001b[0m┃\u001b[1m \u001b[0m\u001b[1m      Param #\u001b[0m\u001b[1m \u001b[0m┃\n",
       "┡━━━━━━━━━━━━━━━━━━━━━━━━━━━━━━━━━╇━━━━━━━━━━━━━━━━━━━━━━━━╇━━━━━━━━━━━━━━━┩\n",
       "│ dense_5 (\u001b[38;5;33mDense\u001b[0m)                 │ (\u001b[38;5;45mNone\u001b[0m, \u001b[38;5;34m64\u001b[0m)             │         \u001b[38;5;34m2,688\u001b[0m │\n",
       "├─────────────────────────────────┼────────────────────────┼───────────────┤\n",
       "│ dense_6 (\u001b[38;5;33mDense\u001b[0m)                 │ (\u001b[38;5;45mNone\u001b[0m, \u001b[38;5;34m128\u001b[0m)            │         \u001b[38;5;34m8,320\u001b[0m │\n",
       "├─────────────────────────────────┼────────────────────────┼───────────────┤\n",
       "│ dropout_2 (\u001b[38;5;33mDropout\u001b[0m)             │ (\u001b[38;5;45mNone\u001b[0m, \u001b[38;5;34m128\u001b[0m)            │             \u001b[38;5;34m0\u001b[0m │\n",
       "├─────────────────────────────────┼────────────────────────┼───────────────┤\n",
       "│ dense_7 (\u001b[38;5;33mDense\u001b[0m)                 │ (\u001b[38;5;45mNone\u001b[0m, \u001b[38;5;34m128\u001b[0m)            │        \u001b[38;5;34m16,512\u001b[0m │\n",
       "├─────────────────────────────────┼────────────────────────┼───────────────┤\n",
       "│ dropout_3 (\u001b[38;5;33mDropout\u001b[0m)             │ (\u001b[38;5;45mNone\u001b[0m, \u001b[38;5;34m128\u001b[0m)            │             \u001b[38;5;34m0\u001b[0m │\n",
       "├─────────────────────────────────┼────────────────────────┼───────────────┤\n",
       "│ dense_8 (\u001b[38;5;33mDense\u001b[0m)                 │ (\u001b[38;5;45mNone\u001b[0m, \u001b[38;5;34m64\u001b[0m)             │         \u001b[38;5;34m8,256\u001b[0m │\n",
       "├─────────────────────────────────┼────────────────────────┼───────────────┤\n",
       "│ dense_9 (\u001b[38;5;33mDense\u001b[0m)                 │ (\u001b[38;5;45mNone\u001b[0m, \u001b[38;5;34m2\u001b[0m)              │           \u001b[38;5;34m130\u001b[0m │\n",
       "└─────────────────────────────────┴────────────────────────┴───────────────┘\n"
      ]
     },
     "metadata": {},
     "output_type": "display_data"
    },
    {
     "data": {
      "text/html": [
       "<pre style=\"white-space:pre;overflow-x:auto;line-height:normal;font-family:Menlo,'DejaVu Sans Mono',consolas,'Courier New',monospace\"><span style=\"font-weight: bold\"> Total params: </span><span style=\"color: #00af00; text-decoration-color: #00af00\">35,908</span> (140.27 KB)\n",
       "</pre>\n"
      ],
      "text/plain": [
       "\u001b[1m Total params: \u001b[0m\u001b[38;5;34m35,908\u001b[0m (140.27 KB)\n"
      ]
     },
     "metadata": {},
     "output_type": "display_data"
    },
    {
     "data": {
      "text/html": [
       "<pre style=\"white-space:pre;overflow-x:auto;line-height:normal;font-family:Menlo,'DejaVu Sans Mono',consolas,'Courier New',monospace\"><span style=\"font-weight: bold\"> Trainable params: </span><span style=\"color: #00af00; text-decoration-color: #00af00\">35,906</span> (140.26 KB)\n",
       "</pre>\n"
      ],
      "text/plain": [
       "\u001b[1m Trainable params: \u001b[0m\u001b[38;5;34m35,906\u001b[0m (140.26 KB)\n"
      ]
     },
     "metadata": {},
     "output_type": "display_data"
    },
    {
     "data": {
      "text/html": [
       "<pre style=\"white-space:pre;overflow-x:auto;line-height:normal;font-family:Menlo,'DejaVu Sans Mono',consolas,'Courier New',monospace\"><span style=\"font-weight: bold\"> Non-trainable params: </span><span style=\"color: #00af00; text-decoration-color: #00af00\">0</span> (0.00 B)\n",
       "</pre>\n"
      ],
      "text/plain": [
       "\u001b[1m Non-trainable params: \u001b[0m\u001b[38;5;34m0\u001b[0m (0.00 B)\n"
      ]
     },
     "metadata": {},
     "output_type": "display_data"
    },
    {
     "data": {
      "text/html": [
       "<pre style=\"white-space:pre;overflow-x:auto;line-height:normal;font-family:Menlo,'DejaVu Sans Mono',consolas,'Courier New',monospace\"><span style=\"font-weight: bold\"> Optimizer params: </span><span style=\"color: #00af00; text-decoration-color: #00af00\">2</span> (12.00 B)\n",
       "</pre>\n"
      ],
      "text/plain": [
       "\u001b[1m Optimizer params: \u001b[0m\u001b[38;5;34m2\u001b[0m (12.00 B)\n"
      ]
     },
     "metadata": {},
     "output_type": "display_data"
    }
   ],
   "source": [
    "model.summary()"
   ]
  },
  {
   "cell_type": "code",
   "execution_count": null,
   "id": "f62b98f7-dc3d-489f-aa63-7e5137d180fd",
   "metadata": {},
   "outputs": [],
   "source": []
  }
 ],
 "metadata": {
  "kernelspec": {
   "display_name": "Python 3 (ipykernel)",
   "language": "python",
   "name": "python3"
  },
  "language_info": {
   "codemirror_mode": {
    "name": "ipython",
    "version": 3
   },
   "file_extension": ".py",
   "mimetype": "text/x-python",
   "name": "python",
   "nbconvert_exporter": "python",
   "pygments_lexer": "ipython3",
   "version": "3.10.0"
  }
 },
 "nbformat": 4,
 "nbformat_minor": 5
}
