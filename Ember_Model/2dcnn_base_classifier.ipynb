{
 "cells": [
  {
   "cell_type": "code",
   "execution_count": 3,
   "id": "d064d86b-4489-40ac-ba97-4822cb058777",
   "metadata": {},
   "outputs": [
    {
     "name": "stderr",
     "output_type": "stream",
     "text": [
      "2024-08-24 16:54:05.678688: I tensorflow/core/util/port.cc:153] oneDNN custom operations are on. You may see slightly different numerical results due to floating-point round-off errors from different computation orders. To turn them off, set the environment variable `TF_ENABLE_ONEDNN_OPTS=0`.\n",
      "2024-08-24 16:54:05.692704: E external/local_xla/xla/stream_executor/cuda/cuda_fft.cc:485] Unable to register cuFFT factory: Attempting to register factory for plugin cuFFT when one has already been registered\n",
      "2024-08-24 16:54:05.709251: E external/local_xla/xla/stream_executor/cuda/cuda_dnn.cc:8454] Unable to register cuDNN factory: Attempting to register factory for plugin cuDNN when one has already been registered\n",
      "2024-08-24 16:54:05.713649: E external/local_xla/xla/stream_executor/cuda/cuda_blas.cc:1452] Unable to register cuBLAS factory: Attempting to register factory for plugin cuBLAS when one has already been registered\n",
      "2024-08-24 16:54:05.726641: I tensorflow/core/platform/cpu_feature_guard.cc:210] This TensorFlow binary is optimized to use available CPU instructions in performance-critical operations.\n",
      "To enable the following instructions: AVX2 AVX512F AVX512_VNNI AVX512_BF16 AVX512_FP16 AVX_VNNI AMX_TILE AMX_INT8 AMX_BF16 FMA, in other operations, rebuild TensorFlow with the appropriate compiler flags.\n",
      "2024-08-24 16:54:06.576689: W tensorflow/compiler/tf2tensorrt/utils/py_utils.cc:38] TF-TRT Warning: Could not find TensorRT\n"
     ]
    }
   ],
   "source": [
    "import json\n",
    "import csv\n",
    "import threading\n",
    "import math\n",
    "import pandas as pd\n",
    "import numpy as np\n",
    "import multiprocessing\n",
    "import random as rn\n",
    "\n",
    "import seaborn as sns\n",
    "import matplotlib.pyplot as plt\n",
    "\n",
    "\n",
    "\n",
    "# from data import data_visualization, data_loading, data_preprocessing\n",
    "# from models import annModels\n",
    "\n",
    "# from xgboost import XGBClassifier\n",
    "from sklearn.preprocessing import StandardScaler\n",
    "from sklearn.ensemble import RandomForestClassifier, AdaBoostClassifier, BaggingClassifier\n",
    "from sklearn.metrics import accuracy_score, confusion_matrix, classification_report \n",
    "from sklearn.model_selection import  learning_curve\n",
    "from sklearn.pipeline import Pipeline\n",
    "from sklearn.preprocessing import StandardScaler,LabelEncoder\n",
    "from sklearn.decomposition import PCA\n",
    "from scikeras.wrappers import KerasClassifier\n",
    "\n",
    "# import xgboost as xgb\n",
    "\n",
    "import tensorflow as tf\n",
    "from tensorflow.keras.layers import Input, Dense, Concatenate\n",
    "from tensorflow.keras.models import Model\n",
    "\n",
    "import keras\n",
    "from keras.models import Sequential\n",
    "from keras.layers import Input, Dense, Activation, Dropout, Activation\n",
    "from keras.optimizers import SGD\n",
    "from keras.models import load_model\n",
    "from keras import regularizers\n",
    "from keras import backend as K\n",
    "from keras.layers import BatchNormalization\n",
    "from keras.layers import Conv1D, MaxPooling1D, Flatten, Dense, Dropout, Conv2D, MaxPooling2D\n",
    "from keras.regularizers import l2\n",
    "from keras.layers import concatenate\n",
    "from sklearn.model_selection import StratifiedKFold\n",
    "\n",
    "import joblib"
   ]
  },
  {
   "cell_type": "code",
   "execution_count": 4,
   "id": "ddb9f06e-5c76-4392-9501-6a07c9415c95",
   "metadata": {
    "scrolled": true
   },
   "outputs": [
    {
     "name": "stdout",
     "output_type": "stream",
     "text": [
      "Epoch 1/50\n"
     ]
    },
    {
     "name": "stderr",
     "output_type": "stream",
     "text": [
      "2024-08-24 16:54:16.884582: I tensorflow/core/common_runtime/gpu/gpu_device.cc:2021] Created device /job:localhost/replica:0/task:0/device:GPU:0 with 13888 MB memory:  -> device: 0, name: NVIDIA RTX A4000, pci bus id: 0000:47:00.0, compute capability: 8.6\n",
      "WARNING: All log messages before absl::InitializeLog() is called are written to STDERR\n",
      "I0000 00:00:1724498657.769600  556774 service.cc:146] XLA service 0x7b2054005a50 initialized for platform CUDA (this does not guarantee that XLA will be used). Devices:\n",
      "I0000 00:00:1724498657.769632  556774 service.cc:154]   StreamExecutor device (0): NVIDIA RTX A4000, Compute Capability 8.6\n",
      "2024-08-24 16:54:17.788943: I tensorflow/compiler/mlir/tensorflow/utils/dump_mlir_util.cc:268] disabling MLIR crash reproducer, set env var `MLIR_CRASH_REPRODUCER_DIRECTORY` to enable.\n",
      "2024-08-24 16:54:17.881221: I external/local_xla/xla/stream_executor/cuda/cuda_dnn.cc:531] Loaded cuDNN version 8907\n"
     ]
    },
    {
     "name": "stdout",
     "output_type": "stream",
     "text": [
      "\u001b[1m 157/9422\u001b[0m \u001b[37m━━━━━━━━━━━━━━━━━━━━\u001b[0m \u001b[1m9s\u001b[0m 973us/step - accuracy: 0.6367 - loss: 0.6128"
     ]
    },
    {
     "name": "stderr",
     "output_type": "stream",
     "text": [
      "I0000 00:00:1724498659.183357  556774 device_compiler.h:188] Compiled cluster using XLA!  This line is logged at most once for the lifetime of the process.\n"
     ]
    },
    {
     "name": "stdout",
     "output_type": "stream",
     "text": [
      "\u001b[1m9422/9422\u001b[0m \u001b[32m━━━━━━━━━━━━━━━━━━━━\u001b[0m\u001b[37m\u001b[0m \u001b[1m0s\u001b[0m 982us/step - accuracy: 0.8340 - loss: 0.3603\n",
      "Epoch 1: val_loss improved from inf to 0.22367, saving model to /home/devnath/Ember_18_Aug/ember/ember_standard_csv_v3/cnn_2d_final_binary_base_classifier.keras\n",
      "\u001b[1m9422/9422\u001b[0m \u001b[32m━━━━━━━━━━━━━━━━━━━━\u001b[0m\u001b[37m\u001b[0m \u001b[1m13s\u001b[0m 1ms/step - accuracy: 0.8340 - loss: 0.3603 - val_accuracy: 0.9047 - val_loss: 0.2237\n",
      "Epoch 2/50\n",
      "\u001b[1m9408/9422\u001b[0m \u001b[32m━━━━━━━━━━━━━━━━━━━\u001b[0m\u001b[37m━\u001b[0m \u001b[1m0s\u001b[0m 879us/step - accuracy: 0.9012 - loss: 0.2361\n",
      "Epoch 2: val_loss improved from 0.22367 to 0.19840, saving model to /home/devnath/Ember_18_Aug/ember/ember_standard_csv_v3/cnn_2d_final_binary_base_classifier.keras\n",
      "\u001b[1m9422/9422\u001b[0m \u001b[32m━━━━━━━━━━━━━━━━━━━━\u001b[0m\u001b[37m\u001b[0m \u001b[1m9s\u001b[0m 935us/step - accuracy: 0.9012 - loss: 0.2361 - val_accuracy: 0.9167 - val_loss: 0.1984\n",
      "Epoch 3/50\n",
      "\u001b[1m9394/9422\u001b[0m \u001b[32m━━━━━━━━━━━━━━━━━━━\u001b[0m\u001b[37m━\u001b[0m \u001b[1m0s\u001b[0m 875us/step - accuracy: 0.9121 - loss: 0.2110\n",
      "Epoch 3: val_loss improved from 0.19840 to 0.18916, saving model to /home/devnath/Ember_18_Aug/ember/ember_standard_csv_v3/cnn_2d_final_binary_base_classifier.keras\n",
      "\u001b[1m9422/9422\u001b[0m \u001b[32m━━━━━━━━━━━━━━━━━━━━\u001b[0m\u001b[37m\u001b[0m \u001b[1m9s\u001b[0m 930us/step - accuracy: 0.9121 - loss: 0.2110 - val_accuracy: 0.9222 - val_loss: 0.1892\n",
      "Epoch 4/50\n",
      "\u001b[1m9376/9422\u001b[0m \u001b[32m━━━━━━━━━━━━━━━━━━━\u001b[0m\u001b[37m━\u001b[0m \u001b[1m0s\u001b[0m 872us/step - accuracy: 0.9168 - loss: 0.2004\n",
      "Epoch 4: val_loss improved from 0.18916 to 0.17632, saving model to /home/devnath/Ember_18_Aug/ember/ember_standard_csv_v3/cnn_2d_final_binary_base_classifier.keras\n",
      "\u001b[1m9422/9422\u001b[0m \u001b[32m━━━━━━━━━━━━━━━━━━━━\u001b[0m\u001b[37m\u001b[0m \u001b[1m9s\u001b[0m 928us/step - accuracy: 0.9168 - loss: 0.2004 - val_accuracy: 0.9279 - val_loss: 0.1763\n",
      "Epoch 5/50\n",
      "\u001b[1m9418/9422\u001b[0m \u001b[32m━━━━━━━━━━━━━━━━━━━\u001b[0m\u001b[37m━\u001b[0m \u001b[1m0s\u001b[0m 878us/step - accuracy: 0.9226 - loss: 0.1903\n",
      "Epoch 5: val_loss improved from 0.17632 to 0.16969, saving model to /home/devnath/Ember_18_Aug/ember/ember_standard_csv_v3/cnn_2d_final_binary_base_classifier.keras\n",
      "\u001b[1m9422/9422\u001b[0m \u001b[32m━━━━━━━━━━━━━━━━━━━━\u001b[0m\u001b[37m\u001b[0m \u001b[1m9s\u001b[0m 937us/step - accuracy: 0.9226 - loss: 0.1903 - val_accuracy: 0.9309 - val_loss: 0.1697\n",
      "Epoch 6/50\n",
      "\u001b[1m9405/9422\u001b[0m \u001b[32m━━━━━━━━━━━━━━━━━━━\u001b[0m\u001b[37m━\u001b[0m \u001b[1m0s\u001b[0m 864us/step - accuracy: 0.9239 - loss: 0.1838\n",
      "Epoch 6: val_loss improved from 0.16969 to 0.16806, saving model to /home/devnath/Ember_18_Aug/ember/ember_standard_csv_v3/cnn_2d_final_binary_base_classifier.keras\n",
      "\u001b[1m9422/9422\u001b[0m \u001b[32m━━━━━━━━━━━━━━━━━━━━\u001b[0m\u001b[37m\u001b[0m \u001b[1m9s\u001b[0m 928us/step - accuracy: 0.9239 - loss: 0.1838 - val_accuracy: 0.9321 - val_loss: 0.1681\n",
      "Epoch 7/50\n",
      "\u001b[1m9384/9422\u001b[0m \u001b[32m━━━━━━━━━━━━━━━━━━━\u001b[0m\u001b[37m━\u001b[0m \u001b[1m0s\u001b[0m 887us/step - accuracy: 0.9268 - loss: 0.1781\n",
      "Epoch 7: val_loss improved from 0.16806 to 0.16443, saving model to /home/devnath/Ember_18_Aug/ember/ember_standard_csv_v3/cnn_2d_final_binary_base_classifier.keras\n",
      "\u001b[1m9422/9422\u001b[0m \u001b[32m━━━━━━━━━━━━━━━━━━━━\u001b[0m\u001b[37m\u001b[0m \u001b[1m9s\u001b[0m 943us/step - accuracy: 0.9268 - loss: 0.1781 - val_accuracy: 0.9335 - val_loss: 0.1644\n",
      "Epoch 8/50\n",
      "\u001b[1m9414/9422\u001b[0m \u001b[32m━━━━━━━━━━━━━━━━━━━\u001b[0m\u001b[37m━\u001b[0m \u001b[1m0s\u001b[0m 837us/step - accuracy: 0.9282 - loss: 0.1753\n",
      "Epoch 8: val_loss improved from 0.16443 to 0.15768, saving model to /home/devnath/Ember_18_Aug/ember/ember_standard_csv_v3/cnn_2d_final_binary_base_classifier.keras\n",
      "\u001b[1m9422/9422\u001b[0m \u001b[32m━━━━━━━━━━━━━━━━━━━━\u001b[0m\u001b[37m\u001b[0m \u001b[1m8s\u001b[0m 897us/step - accuracy: 0.9282 - loss: 0.1753 - val_accuracy: 0.9372 - val_loss: 0.1577\n",
      "Epoch 9/50\n",
      "\u001b[1m9395/9422\u001b[0m \u001b[32m━━━━━━━━━━━━━━━━━━━\u001b[0m\u001b[37m━\u001b[0m \u001b[1m0s\u001b[0m 880us/step - accuracy: 0.9306 - loss: 0.1699\n",
      "Epoch 9: val_loss did not improve from 0.15768\n",
      "\u001b[1m9422/9422\u001b[0m \u001b[32m━━━━━━━━━━━━━━━━━━━━\u001b[0m\u001b[37m\u001b[0m \u001b[1m9s\u001b[0m 940us/step - accuracy: 0.9306 - loss: 0.1699 - val_accuracy: 0.9381 - val_loss: 0.1589\n",
      "Epoch 10/50\n",
      "\u001b[1m9419/9422\u001b[0m \u001b[32m━━━━━━━━━━━━━━━━━━━\u001b[0m\u001b[37m━\u001b[0m \u001b[1m0s\u001b[0m 883us/step - accuracy: 0.9315 - loss: 0.1660\n",
      "Epoch 10: val_loss improved from 0.15768 to 0.15272, saving model to /home/devnath/Ember_18_Aug/ember/ember_standard_csv_v3/cnn_2d_final_binary_base_classifier.keras\n",
      "\u001b[1m9422/9422\u001b[0m \u001b[32m━━━━━━━━━━━━━━━━━━━━\u001b[0m\u001b[37m\u001b[0m \u001b[1m9s\u001b[0m 942us/step - accuracy: 0.9315 - loss: 0.1660 - val_accuracy: 0.9366 - val_loss: 0.1527\n",
      "Epoch 11/50\n",
      "\u001b[1m9374/9422\u001b[0m \u001b[32m━━━━━━━━━━━━━━━━━━━\u001b[0m\u001b[37m━\u001b[0m \u001b[1m0s\u001b[0m 877us/step - accuracy: 0.9327 - loss: 0.1644\n",
      "Epoch 11: val_loss improved from 0.15272 to 0.15047, saving model to /home/devnath/Ember_18_Aug/ember/ember_standard_csv_v3/cnn_2d_final_binary_base_classifier.keras\n",
      "\u001b[1m9422/9422\u001b[0m \u001b[32m━━━━━━━━━━━━━━━━━━━━\u001b[0m\u001b[37m\u001b[0m \u001b[1m9s\u001b[0m 933us/step - accuracy: 0.9327 - loss: 0.1645 - val_accuracy: 0.9400 - val_loss: 0.1505\n",
      "Epoch 12/50\n",
      "\u001b[1m9389/9422\u001b[0m \u001b[32m━━━━━━━━━━━━━━━━━━━\u001b[0m\u001b[37m━\u001b[0m \u001b[1m0s\u001b[0m 881us/step - accuracy: 0.9348 - loss: 0.1596\n",
      "Epoch 12: val_loss did not improve from 0.15047\n",
      "\u001b[1m9422/9422\u001b[0m \u001b[32m━━━━━━━━━━━━━━━━━━━━\u001b[0m\u001b[37m\u001b[0m \u001b[1m9s\u001b[0m 936us/step - accuracy: 0.9348 - loss: 0.1597 - val_accuracy: 0.9393 - val_loss: 0.1533\n",
      "Epoch 13/50\n",
      "\u001b[1m9407/9422\u001b[0m \u001b[32m━━━━━━━━━━━━━━━━━━━\u001b[0m\u001b[37m━\u001b[0m \u001b[1m0s\u001b[0m 884us/step - accuracy: 0.9348 - loss: 0.1598\n",
      "Epoch 13: val_loss improved from 0.15047 to 0.15020, saving model to /home/devnath/Ember_18_Aug/ember/ember_standard_csv_v3/cnn_2d_final_binary_base_classifier.keras\n",
      "\u001b[1m9422/9422\u001b[0m \u001b[32m━━━━━━━━━━━━━━━━━━━━\u001b[0m\u001b[37m\u001b[0m \u001b[1m9s\u001b[0m 940us/step - accuracy: 0.9348 - loss: 0.1598 - val_accuracy: 0.9400 - val_loss: 0.1502\n",
      "Epoch 14/50\n",
      "\u001b[1m9364/9422\u001b[0m \u001b[32m━━━━━━━━━━━━━━━━━━━\u001b[0m\u001b[37m━\u001b[0m \u001b[1m0s\u001b[0m 877us/step - accuracy: 0.9355 - loss: 0.1573\n",
      "Epoch 14: val_loss improved from 0.15020 to 0.14990, saving model to /home/devnath/Ember_18_Aug/ember/ember_standard_csv_v3/cnn_2d_final_binary_base_classifier.keras\n",
      "\u001b[1m9422/9422\u001b[0m \u001b[32m━━━━━━━━━━━━━━━━━━━━\u001b[0m\u001b[37m\u001b[0m \u001b[1m9s\u001b[0m 934us/step - accuracy: 0.9355 - loss: 0.1573 - val_accuracy: 0.9396 - val_loss: 0.1499\n",
      "Epoch 15/50\n",
      "\u001b[1m9402/9422\u001b[0m \u001b[32m━━━━━━━━━━━━━━━━━━━\u001b[0m\u001b[37m━\u001b[0m \u001b[1m0s\u001b[0m 868us/step - accuracy: 0.9367 - loss: 0.1546\n",
      "Epoch 15: val_loss improved from 0.14990 to 0.14656, saving model to /home/devnath/Ember_18_Aug/ember/ember_standard_csv_v3/cnn_2d_final_binary_base_classifier.keras\n",
      "\u001b[1m9422/9422\u001b[0m \u001b[32m━━━━━━━━━━━━━━━━━━━━\u001b[0m\u001b[37m\u001b[0m \u001b[1m9s\u001b[0m 927us/step - accuracy: 0.9367 - loss: 0.1546 - val_accuracy: 0.9418 - val_loss: 0.1466\n",
      "Epoch 16/50\n",
      "\u001b[1m9371/9422\u001b[0m \u001b[32m━━━━━━━━━━━━━━━━━━━\u001b[0m\u001b[37m━\u001b[0m \u001b[1m0s\u001b[0m 883us/step - accuracy: 0.9368 - loss: 0.1536\n",
      "Epoch 16: val_loss improved from 0.14656 to 0.14618, saving model to /home/devnath/Ember_18_Aug/ember/ember_standard_csv_v3/cnn_2d_final_binary_base_classifier.keras\n",
      "\u001b[1m9422/9422\u001b[0m \u001b[32m━━━━━━━━━━━━━━━━━━━━\u001b[0m\u001b[37m\u001b[0m \u001b[1m9s\u001b[0m 938us/step - accuracy: 0.9368 - loss: 0.1536 - val_accuracy: 0.9413 - val_loss: 0.1462\n",
      "Epoch 17/50\n",
      "\u001b[1m9381/9422\u001b[0m \u001b[32m━━━━━━━━━━━━━━━━━━━\u001b[0m\u001b[37m━\u001b[0m \u001b[1m0s\u001b[0m 882us/step - accuracy: 0.9385 - loss: 0.1506\n",
      "Epoch 17: val_loss did not improve from 0.14618\n",
      "\u001b[1m9422/9422\u001b[0m \u001b[32m━━━━━━━━━━━━━━━━━━━━\u001b[0m\u001b[37m\u001b[0m \u001b[1m9s\u001b[0m 939us/step - accuracy: 0.9385 - loss: 0.1506 - val_accuracy: 0.9431 - val_loss: 0.1464\n",
      "Epoch 18/50\n",
      "\u001b[1m9408/9422\u001b[0m \u001b[32m━━━━━━━━━━━━━━━━━━━\u001b[0m\u001b[37m━\u001b[0m \u001b[1m0s\u001b[0m 884us/step - accuracy: 0.9390 - loss: 0.1498\n",
      "Epoch 18: val_loss did not improve from 0.14618\n",
      "\u001b[1m9422/9422\u001b[0m \u001b[32m━━━━━━━━━━━━━━━━━━━━\u001b[0m\u001b[37m\u001b[0m \u001b[1m9s\u001b[0m 939us/step - accuracy: 0.9390 - loss: 0.1498 - val_accuracy: 0.9429 - val_loss: 0.1475\n",
      "Epoch 19/50\n",
      "\u001b[1m9395/9422\u001b[0m \u001b[32m━━━━━━━━━━━━━━━━━━━\u001b[0m\u001b[37m━\u001b[0m \u001b[1m0s\u001b[0m 870us/step - accuracy: 0.9391 - loss: 0.1484\n",
      "Epoch 19: val_loss improved from 0.14618 to 0.14512, saving model to /home/devnath/Ember_18_Aug/ember/ember_standard_csv_v3/cnn_2d_final_binary_base_classifier.keras\n",
      "\u001b[1m9422/9422\u001b[0m \u001b[32m━━━━━━━━━━━━━━━━━━━━\u001b[0m\u001b[37m\u001b[0m \u001b[1m9s\u001b[0m 929us/step - accuracy: 0.9391 - loss: 0.1484 - val_accuracy: 0.9433 - val_loss: 0.1451\n",
      "Epoch 20/50\n",
      "\u001b[1m9369/9422\u001b[0m \u001b[32m━━━━━━━━━━━━━━━━━━━\u001b[0m\u001b[37m━\u001b[0m \u001b[1m0s\u001b[0m 877us/step - accuracy: 0.9394 - loss: 0.1474\n",
      "Epoch 20: val_loss improved from 0.14512 to 0.14302, saving model to /home/devnath/Ember_18_Aug/ember/ember_standard_csv_v3/cnn_2d_final_binary_base_classifier.keras\n",
      "\u001b[1m9422/9422\u001b[0m \u001b[32m━━━━━━━━━━━━━━━━━━━━\u001b[0m\u001b[37m\u001b[0m \u001b[1m9s\u001b[0m 933us/step - accuracy: 0.9394 - loss: 0.1474 - val_accuracy: 0.9424 - val_loss: 0.1430\n",
      "Epoch 21/50\n",
      "\u001b[1m9367/9422\u001b[0m \u001b[32m━━━━━━━━━━━━━━━━━━━\u001b[0m\u001b[37m━\u001b[0m \u001b[1m0s\u001b[0m 884us/step - accuracy: 0.9407 - loss: 0.1454\n",
      "Epoch 21: val_loss did not improve from 0.14302\n",
      "\u001b[1m9422/9422\u001b[0m \u001b[32m━━━━━━━━━━━━━━━━━━━━\u001b[0m\u001b[37m\u001b[0m \u001b[1m9s\u001b[0m 939us/step - accuracy: 0.9407 - loss: 0.1454 - val_accuracy: 0.9432 - val_loss: 0.1488\n",
      "Epoch 22/50\n",
      "\u001b[1m9416/9422\u001b[0m \u001b[32m━━━━━━━━━━━━━━━━━━━\u001b[0m\u001b[37m━\u001b[0m \u001b[1m0s\u001b[0m 878us/step - accuracy: 0.9407 - loss: 0.1449\n",
      "Epoch 22: val_loss did not improve from 0.14302\n",
      "\u001b[1m9422/9422\u001b[0m \u001b[32m━━━━━━━━━━━━━━━━━━━━\u001b[0m\u001b[37m\u001b[0m \u001b[1m9s\u001b[0m 932us/step - accuracy: 0.9407 - loss: 0.1449 - val_accuracy: 0.9451 - val_loss: 0.1443\n",
      "Epoch 23/50\n",
      "\u001b[1m9401/9422\u001b[0m \u001b[32m━━━━━━━━━━━━━━━━━━━\u001b[0m\u001b[37m━\u001b[0m \u001b[1m0s\u001b[0m 885us/step - accuracy: 0.9412 - loss: 0.1450\n",
      "Epoch 23: val_loss did not improve from 0.14302\n",
      "\u001b[1m9422/9422\u001b[0m \u001b[32m━━━━━━━━━━━━━━━━━━━━\u001b[0m\u001b[37m\u001b[0m \u001b[1m9s\u001b[0m 943us/step - accuracy: 0.9412 - loss: 0.1450 - val_accuracy: 0.9435 - val_loss: 0.1446\n",
      "Epoch 24/50\n",
      "\u001b[1m9422/9422\u001b[0m \u001b[32m━━━━━━━━━━━━━━━━━━━━\u001b[0m\u001b[37m\u001b[0m \u001b[1m0s\u001b[0m 878us/step - accuracy: 0.9420 - loss: 0.1421\n",
      "Epoch 24: val_loss improved from 0.14302 to 0.14270, saving model to /home/devnath/Ember_18_Aug/ember/ember_standard_csv_v3/cnn_2d_final_binary_base_classifier.keras\n",
      "\u001b[1m9422/9422\u001b[0m \u001b[32m━━━━━━━━━━━━━━━━━━━━\u001b[0m\u001b[37m\u001b[0m \u001b[1m9s\u001b[0m 935us/step - accuracy: 0.9420 - loss: 0.1421 - val_accuracy: 0.9438 - val_loss: 0.1427\n",
      "Epoch 25/50\n",
      "\u001b[1m9378/9422\u001b[0m \u001b[32m━━━━━━━━━━━━━━━━━━━\u001b[0m\u001b[37m━\u001b[0m \u001b[1m0s\u001b[0m 876us/step - accuracy: 0.9414 - loss: 0.1426\n",
      "Epoch 25: val_loss improved from 0.14270 to 0.14033, saving model to /home/devnath/Ember_18_Aug/ember/ember_standard_csv_v3/cnn_2d_final_binary_base_classifier.keras\n",
      "\u001b[1m9422/9422\u001b[0m \u001b[32m━━━━━━━━━━━━━━━━━━━━\u001b[0m\u001b[37m\u001b[0m \u001b[1m9s\u001b[0m 935us/step - accuracy: 0.9414 - loss: 0.1426 - val_accuracy: 0.9455 - val_loss: 0.1403\n",
      "Epoch 26/50\n",
      "\u001b[1m9413/9422\u001b[0m \u001b[32m━━━━━━━━━━━━━━━━━━━\u001b[0m\u001b[37m━\u001b[0m \u001b[1m0s\u001b[0m 884us/step - accuracy: 0.9417 - loss: 0.1407\n",
      "Epoch 26: val_loss did not improve from 0.14033\n",
      "\u001b[1m9422/9422\u001b[0m \u001b[32m━━━━━━━━━━━━━━━━━━━━\u001b[0m\u001b[37m\u001b[0m \u001b[1m9s\u001b[0m 940us/step - accuracy: 0.9417 - loss: 0.1407 - val_accuracy: 0.9445 - val_loss: 0.1446\n",
      "Epoch 27/50\n",
      "\u001b[1m9386/9422\u001b[0m \u001b[32m━━━━━━━━━━━━━━━━━━━\u001b[0m\u001b[37m━\u001b[0m \u001b[1m0s\u001b[0m 881us/step - accuracy: 0.9433 - loss: 0.1394\n",
      "Epoch 27: val_loss did not improve from 0.14033\n",
      "\u001b[1m9422/9422\u001b[0m \u001b[32m━━━━━━━━━━━━━━━━━━━━\u001b[0m\u001b[37m\u001b[0m \u001b[1m9s\u001b[0m 934us/step - accuracy: 0.9433 - loss: 0.1394 - val_accuracy: 0.9466 - val_loss: 0.1423\n",
      "Epoch 28/50\n",
      "\u001b[1m9386/9422\u001b[0m \u001b[32m━━━━━━━━━━━━━━━━━━━\u001b[0m\u001b[37m━\u001b[0m \u001b[1m0s\u001b[0m 892us/step - accuracy: 0.9436 - loss: 0.1388\n",
      "Epoch 28: val_loss did not improve from 0.14033\n",
      "\u001b[1m9422/9422\u001b[0m \u001b[32m━━━━━━━━━━━━━━━━━━━━\u001b[0m\u001b[37m\u001b[0m \u001b[1m9s\u001b[0m 950us/step - accuracy: 0.9436 - loss: 0.1388 - val_accuracy: 0.9450 - val_loss: 0.1453\n",
      "Epoch 29/50\n",
      "\u001b[1m9393/9422\u001b[0m \u001b[32m━━━━━━━━━━━━━━━━━━━\u001b[0m\u001b[37m━\u001b[0m \u001b[1m0s\u001b[0m 880us/step - accuracy: 0.9435 - loss: 0.1366\n",
      "Epoch 29: val_loss did not improve from 0.14033\n",
      "\u001b[1m9422/9422\u001b[0m \u001b[32m━━━━━━━━━━━━━━━━━━━━\u001b[0m\u001b[37m\u001b[0m \u001b[1m9s\u001b[0m 933us/step - accuracy: 0.9435 - loss: 0.1367 - val_accuracy: 0.9450 - val_loss: 0.1420\n",
      "Epoch 30/50\n",
      "\u001b[1m9379/9422\u001b[0m \u001b[32m━━━━━━━━━━━━━━━━━━━\u001b[0m\u001b[37m━\u001b[0m \u001b[1m0s\u001b[0m 881us/step - accuracy: 0.9430 - loss: 0.1380\n",
      "Epoch 30: val_loss did not improve from 0.14033\n",
      "\u001b[1m9422/9422\u001b[0m \u001b[32m━━━━━━━━━━━━━━━━━━━━\u001b[0m\u001b[37m\u001b[0m \u001b[1m9s\u001b[0m 937us/step - accuracy: 0.9430 - loss: 0.1381 - val_accuracy: 0.9444 - val_loss: 0.1411\n",
      "Epoch 31/50\n",
      "\u001b[1m9416/9422\u001b[0m \u001b[32m━━━━━━━━━━━━━━━━━━━\u001b[0m\u001b[37m━\u001b[0m \u001b[1m0s\u001b[0m 884us/step - accuracy: 0.9448 - loss: 0.1359\n",
      "Epoch 31: val_loss did not improve from 0.14033\n",
      "\u001b[1m9422/9422\u001b[0m \u001b[32m━━━━━━━━━━━━━━━━━━━━\u001b[0m\u001b[37m\u001b[0m \u001b[1m9s\u001b[0m 941us/step - accuracy: 0.9448 - loss: 0.1359 - val_accuracy: 0.9464 - val_loss: 0.1404\n",
      "Epoch 32/50\n",
      "\u001b[1m9382/9422\u001b[0m \u001b[32m━━━━━━━━━━━━━━━━━━━\u001b[0m\u001b[37m━\u001b[0m \u001b[1m0s\u001b[0m 876us/step - accuracy: 0.9439 - loss: 0.1365\n",
      "Epoch 32: val_loss improved from 0.14033 to 0.13997, saving model to /home/devnath/Ember_18_Aug/ember/ember_standard_csv_v3/cnn_2d_final_binary_base_classifier.keras\n",
      "\u001b[1m9422/9422\u001b[0m \u001b[32m━━━━━━━━━━━━━━━━━━━━\u001b[0m\u001b[37m\u001b[0m \u001b[1m9s\u001b[0m 930us/step - accuracy: 0.9439 - loss: 0.1365 - val_accuracy: 0.9460 - val_loss: 0.1400\n",
      "Epoch 33/50\n",
      "\u001b[1m9365/9422\u001b[0m \u001b[32m━━━━━━━━━━━━━━━━━━━\u001b[0m\u001b[37m━\u001b[0m \u001b[1m0s\u001b[0m 894us/step - accuracy: 0.9448 - loss: 0.1361\n",
      "Epoch 33: val_loss did not improve from 0.13997\n",
      "\u001b[1m9422/9422\u001b[0m \u001b[32m━━━━━━━━━━━━━━━━━━━━\u001b[0m\u001b[37m\u001b[0m \u001b[1m9s\u001b[0m 946us/step - accuracy: 0.9448 - loss: 0.1362 - val_accuracy: 0.9463 - val_loss: 0.1414\n",
      "Epoch 34/50\n",
      "\u001b[1m9383/9422\u001b[0m \u001b[32m━━━━━━━━━━━━━━━━━━━\u001b[0m\u001b[37m━\u001b[0m \u001b[1m0s\u001b[0m 892us/step - accuracy: 0.9439 - loss: 0.1363\n",
      "Epoch 34: val_loss did not improve from 0.13997\n",
      "\u001b[1m9422/9422\u001b[0m \u001b[32m━━━━━━━━━━━━━━━━━━━━\u001b[0m\u001b[37m\u001b[0m \u001b[1m9s\u001b[0m 945us/step - accuracy: 0.9439 - loss: 0.1363 - val_accuracy: 0.9450 - val_loss: 0.1412\n",
      "Epoch 35/50\n",
      "\u001b[1m9421/9422\u001b[0m \u001b[32m━━━━━━━━━━━━━━━━━━━\u001b[0m\u001b[37m━\u001b[0m \u001b[1m0s\u001b[0m 878us/step - accuracy: 0.9445 - loss: 0.1365\n",
      "Epoch 35: val_loss did not improve from 0.13997\n",
      "\u001b[1m9422/9422\u001b[0m \u001b[32m━━━━━━━━━━━━━━━━━━━━\u001b[0m\u001b[37m\u001b[0m \u001b[1m9s\u001b[0m 934us/step - accuracy: 0.9445 - loss: 0.1365 - val_accuracy: 0.9467 - val_loss: 0.1417\n",
      "Epoch 36/50\n",
      "\u001b[1m9389/9422\u001b[0m \u001b[32m━━━━━━━━━━━━━━━━━━━\u001b[0m\u001b[37m━\u001b[0m \u001b[1m0s\u001b[0m 885us/step - accuracy: 0.9453 - loss: 0.1333\n",
      "Epoch 36: val_loss did not improve from 0.13997\n",
      "\u001b[1m9422/9422\u001b[0m \u001b[32m━━━━━━━━━━━━━━━━━━━━\u001b[0m\u001b[37m\u001b[0m \u001b[1m9s\u001b[0m 939us/step - accuracy: 0.9453 - loss: 0.1333 - val_accuracy: 0.9471 - val_loss: 0.1407\n",
      "Epoch 37/50\n",
      "\u001b[1m9406/9422\u001b[0m \u001b[32m━━━━━━━━━━━━━━━━━━━\u001b[0m\u001b[37m━\u001b[0m \u001b[1m0s\u001b[0m 896us/step - accuracy: 0.9444 - loss: 0.1345\n",
      "Epoch 37: val_loss improved from 0.13997 to 0.13860, saving model to /home/devnath/Ember_18_Aug/ember/ember_standard_csv_v3/cnn_2d_final_binary_base_classifier.keras\n",
      "\u001b[1m9422/9422\u001b[0m \u001b[32m━━━━━━━━━━━━━━━━━━━━\u001b[0m\u001b[37m\u001b[0m \u001b[1m9s\u001b[0m 954us/step - accuracy: 0.9444 - loss: 0.1345 - val_accuracy: 0.9472 - val_loss: 0.1386\n",
      "Epoch 38/50\n",
      "\u001b[1m9374/9422\u001b[0m \u001b[32m━━━━━━━━━━━━━━━━━━━\u001b[0m\u001b[37m━\u001b[0m \u001b[1m0s\u001b[0m 888us/step - accuracy: 0.9446 - loss: 0.1333\n",
      "Epoch 38: val_loss did not improve from 0.13860\n",
      "\u001b[1m9422/9422\u001b[0m \u001b[32m━━━━━━━━━━━━━━━━━━━━\u001b[0m\u001b[37m\u001b[0m \u001b[1m9s\u001b[0m 946us/step - accuracy: 0.9446 - loss: 0.1333 - val_accuracy: 0.9463 - val_loss: 0.1435\n",
      "Epoch 39/50\n",
      "\u001b[1m9408/9422\u001b[0m \u001b[32m━━━━━━━━━━━━━━━━━━━\u001b[0m\u001b[37m━\u001b[0m \u001b[1m0s\u001b[0m 884us/step - accuracy: 0.9449 - loss: 0.1315\n",
      "Epoch 39: val_loss did not improve from 0.13860\n",
      "\u001b[1m9422/9422\u001b[0m \u001b[32m━━━━━━━━━━━━━━━━━━━━\u001b[0m\u001b[37m\u001b[0m \u001b[1m9s\u001b[0m 941us/step - accuracy: 0.9449 - loss: 0.1315 - val_accuracy: 0.9489 - val_loss: 0.1395\n",
      "Epoch 40/50\n",
      "\u001b[1m9407/9422\u001b[0m \u001b[32m━━━━━━━━━━━━━━━━━━━\u001b[0m\u001b[37m━\u001b[0m \u001b[1m0s\u001b[0m 873us/step - accuracy: 0.9450 - loss: 0.1329\n",
      "Epoch 40: val_loss did not improve from 0.13860\n",
      "\u001b[1m9422/9422\u001b[0m \u001b[32m━━━━━━━━━━━━━━━━━━━━\u001b[0m\u001b[37m\u001b[0m \u001b[1m9s\u001b[0m 930us/step - accuracy: 0.9450 - loss: 0.1329 - val_accuracy: 0.9474 - val_loss: 0.1407\n",
      "Epoch 41/50\n",
      "\u001b[1m9361/9422\u001b[0m \u001b[32m━━━━━━━━━━━━━━━━━━━\u001b[0m\u001b[37m━\u001b[0m \u001b[1m0s\u001b[0m 895us/step - accuracy: 0.9457 - loss: 0.1320\n",
      "Epoch 41: val_loss did not improve from 0.13860\n",
      "\u001b[1m9422/9422\u001b[0m \u001b[32m━━━━━━━━━━━━━━━━━━━━\u001b[0m\u001b[37m\u001b[0m \u001b[1m9s\u001b[0m 947us/step - accuracy: 0.9457 - loss: 0.1320 - val_accuracy: 0.9463 - val_loss: 0.1431\n",
      "Epoch 42/50\n",
      "\u001b[1m9421/9422\u001b[0m \u001b[32m━━━━━━━━━━━━━━━━━━━\u001b[0m\u001b[37m━\u001b[0m \u001b[1m0s\u001b[0m 889us/step - accuracy: 0.9462 - loss: 0.1305\n",
      "Epoch 42: val_loss improved from 0.13860 to 0.13594, saving model to /home/devnath/Ember_18_Aug/ember/ember_standard_csv_v3/cnn_2d_final_binary_base_classifier.keras\n",
      "\u001b[1m9422/9422\u001b[0m \u001b[32m━━━━━━━━━━━━━━━━━━━━\u001b[0m\u001b[37m\u001b[0m \u001b[1m9s\u001b[0m 945us/step - accuracy: 0.9462 - loss: 0.1305 - val_accuracy: 0.9485 - val_loss: 0.1359\n",
      "Epoch 43/50\n",
      "\u001b[1m9398/9422\u001b[0m \u001b[32m━━━━━━━━━━━━━━━━━━━\u001b[0m\u001b[37m━\u001b[0m \u001b[1m0s\u001b[0m 885us/step - accuracy: 0.9459 - loss: 0.1306\n",
      "Epoch 43: val_loss did not improve from 0.13594\n",
      "\u001b[1m9422/9422\u001b[0m \u001b[32m━━━━━━━━━━━━━━━━━━━━\u001b[0m\u001b[37m\u001b[0m \u001b[1m9s\u001b[0m 939us/step - accuracy: 0.9459 - loss: 0.1306 - val_accuracy: 0.9484 - val_loss: 0.1404\n",
      "Epoch 44/50\n",
      "\u001b[1m9410/9422\u001b[0m \u001b[32m━━━━━━━━━━━━━━━━━━━\u001b[0m\u001b[37m━\u001b[0m \u001b[1m0s\u001b[0m 884us/step - accuracy: 0.9454 - loss: 0.1322\n",
      "Epoch 44: val_loss did not improve from 0.13594\n",
      "\u001b[1m9422/9422\u001b[0m \u001b[32m━━━━━━━━━━━━━━━━━━━━\u001b[0m\u001b[37m\u001b[0m \u001b[1m9s\u001b[0m 938us/step - accuracy: 0.9454 - loss: 0.1322 - val_accuracy: 0.9478 - val_loss: 0.1406\n",
      "Epoch 45/50\n",
      "\u001b[1m9407/9422\u001b[0m \u001b[32m━━━━━━━━━━━━━━━━━━━\u001b[0m\u001b[37m━\u001b[0m \u001b[1m0s\u001b[0m 884us/step - accuracy: 0.9458 - loss: 0.1308\n",
      "Epoch 45: val_loss did not improve from 0.13594\n",
      "\u001b[1m9422/9422\u001b[0m \u001b[32m━━━━━━━━━━━━━━━━━━━━\u001b[0m\u001b[37m\u001b[0m \u001b[1m9s\u001b[0m 942us/step - accuracy: 0.9458 - loss: 0.1308 - val_accuracy: 0.9473 - val_loss: 0.1393\n",
      "Epoch 46/50\n",
      "\u001b[1m9422/9422\u001b[0m \u001b[32m━━━━━━━━━━━━━━━━━━━━\u001b[0m\u001b[37m\u001b[0m \u001b[1m0s\u001b[0m 894us/step - accuracy: 0.9455 - loss: 0.1300\n",
      "Epoch 46: val_loss did not improve from 0.13594\n",
      "\u001b[1m9422/9422\u001b[0m \u001b[32m━━━━━━━━━━━━━━━━━━━━\u001b[0m\u001b[37m\u001b[0m \u001b[1m9s\u001b[0m 948us/step - accuracy: 0.9455 - loss: 0.1300 - val_accuracy: 0.9463 - val_loss: 0.1448\n",
      "Epoch 47/50\n",
      "\u001b[1m9386/9422\u001b[0m \u001b[32m━━━━━━━━━━━━━━━━━━━\u001b[0m\u001b[37m━\u001b[0m \u001b[1m0s\u001b[0m 887us/step - accuracy: 0.9451 - loss: 0.1303\n",
      "Epoch 47: val_loss did not improve from 0.13594\n",
      "\u001b[1m9422/9422\u001b[0m \u001b[32m━━━━━━━━━━━━━━━━━━━━\u001b[0m\u001b[37m\u001b[0m \u001b[1m9s\u001b[0m 941us/step - accuracy: 0.9451 - loss: 0.1303 - val_accuracy: 0.9465 - val_loss: 0.1422\n",
      "Epoch 48/50\n",
      "\u001b[1m9383/9422\u001b[0m \u001b[32m━━━━━━━━━━━━━━━━━━━\u001b[0m\u001b[37m━\u001b[0m \u001b[1m0s\u001b[0m 887us/step - accuracy: 0.9467 - loss: 0.1291\n",
      "Epoch 48: val_loss did not improve from 0.13594\n",
      "\u001b[1m9422/9422\u001b[0m \u001b[32m━━━━━━━━━━━━━━━━━━━━\u001b[0m\u001b[37m\u001b[0m \u001b[1m9s\u001b[0m 941us/step - accuracy: 0.9467 - loss: 0.1291 - val_accuracy: 0.9472 - val_loss: 0.1420\n",
      "Epoch 49/50\n",
      "\u001b[1m9420/9422\u001b[0m \u001b[32m━━━━━━━━━━━━━━━━━━━\u001b[0m\u001b[37m━\u001b[0m \u001b[1m0s\u001b[0m 894us/step - accuracy: 0.9468 - loss: 0.1294\n",
      "Epoch 49: val_loss did not improve from 0.13594\n",
      "\u001b[1m9422/9422\u001b[0m \u001b[32m━━━━━━━━━━━━━━━━━━━━\u001b[0m\u001b[37m\u001b[0m \u001b[1m9s\u001b[0m 953us/step - accuracy: 0.9468 - loss: 0.1294 - val_accuracy: 0.9481 - val_loss: 0.1385\n",
      "Epoch 50/50\n",
      "\u001b[1m9402/9422\u001b[0m \u001b[32m━━━━━━━━━━━━━━━━━━━\u001b[0m\u001b[37m━\u001b[0m \u001b[1m0s\u001b[0m 890us/step - accuracy: 0.9458 - loss: 0.1305\n",
      "Epoch 50: val_loss did not improve from 0.13594\n",
      "\u001b[1m9422/9422\u001b[0m \u001b[32m━━━━━━━━━━━━━━━━━━━━\u001b[0m\u001b[37m\u001b[0m \u001b[1m9s\u001b[0m 940us/step - accuracy: 0.9458 - loss: 0.1305 - val_accuracy: 0.9463 - val_loss: 0.1380\n",
      "\u001b[1m2618/2618\u001b[0m \u001b[32m━━━━━━━━━━━━━━━━━━━━\u001b[0m\u001b[37m\u001b[0m \u001b[1m2s\u001b[0m 646us/step\n",
      "Confusion Matrix:\n",
      "[[41479  1563]\n",
      " [ 2656 38049]]\n",
      "Accuracy: 0.9496\n",
      "Precision: 0.9605\n",
      "Recall: 0.9348\n",
      "F1 Score: 0.9475\n"
     ]
    }
   ],
   "source": [
    "import numpy as np\n",
    "import pandas as pd\n",
    "import matplotlib.pyplot as plt\n",
    "import seaborn as sns\n",
    "from sklearn.metrics import confusion_matrix, accuracy_score, precision_score, recall_score, f1_score\n",
    "from sklearn.model_selection import train_test_split\n",
    "from tensorflow.keras.models import Sequential\n",
    "from tensorflow.keras.layers import Conv2D, MaxPooling2D, Flatten, Dense, Dropout, Input, Reshape\n",
    "from tensorflow.keras.optimizers import Adam\n",
    "from tensorflow.keras.callbacks import EarlyStopping, ModelCheckpoint\n",
    "from tensorflow.keras.utils import to_categorical\n",
    "\n",
    "# Load and preprocess data\n",
    "def load_data():\n",
    "    df = pd.read_csv('/home/devnath/Ember_18_Aug/ember/ember_standard_csv_v3/final_dataset.csv')\n",
    "    X = df.drop(['label', 'Unnamed: 0'], axis=True).values\n",
    "    y = df['label'].values\n",
    "    \n",
    "    X_train, X_test, y_train, y_test = train_test_split(\n",
    "        X,\n",
    "        y,\n",
    "        test_size=0.2,\n",
    "        random_state=42,\n",
    "        stratify=y\n",
    "    )\n",
    "    X_train, X_val, y_train, y_val = train_test_split(\n",
    "        X_train,\n",
    "        y_train,\n",
    "        test_size=0.1,\n",
    "        random_state=42,\n",
    "        stratify=y_train\n",
    "    )\n",
    "\n",
    "    return X_train, X_test, y_train, y_test, X_val, y_val\n",
    "\n",
    "X_train, X_test, y_train, y_test, X_val, y_val = load_data()\n",
    "\n",
    "# Reshape data for Conv2D\n",
    "X_train = X_train.reshape(X_train.shape[0], X_train.shape[1], 1, 1)\n",
    "X_val = X_val.reshape(X_val.shape[0], X_val.shape[1], 1, 1)\n",
    "X_test = X_test.reshape(X_test.shape[0], X_test.shape[1], 1, 1)\n",
    "\n",
    "# Convert labels to one-hot encoding\n",
    "y_train = to_categorical(y_train, num_classes=2)\n",
    "y_val = to_categorical(y_val, num_classes=2)\n",
    "y_test = to_categorical(y_test, num_classes=2)\n",
    "\n",
    "# Build and compile the 2D CNN model\n",
    "def build_2d_cnn(input_shape):\n",
    "    model = Sequential()\n",
    "    model.add(Input(shape=input_shape))\n",
    "    model.add(Conv2D(filters=32, kernel_size=(3, 1), activation='relu'))\n",
    "    model.add(MaxPooling2D(pool_size=(2, 1)))\n",
    "    model.add(Conv2D(filters=64, kernel_size=(3, 1), activation='relu'))\n",
    "    model.add(MaxPooling2D(pool_size=(2, 1)))\n",
    "    model.add(Flatten())\n",
    "    model.add(Dense(128, activation='relu'))\n",
    "    model.add(Dropout(0.5))  # Adjust dropout rate\n",
    "    model.add(Dense(2, activation='softmax'))  # 2 units for binary classification\n",
    "    \n",
    "    # Compile model with Adam optimizer and categorical crossentropy loss\n",
    "    model.compile(optimizer=Adam(learning_rate=0.001), loss='categorical_crossentropy', metrics=['accuracy'])\n",
    "    \n",
    "    return model\n",
    "\n",
    "input_shape = (41, 1, 1)\n",
    "model_2d_cnn = build_2d_cnn(input_shape)\n",
    "\n",
    "# Define callbacks\n",
    "early_stopping = EarlyStopping(monitor='val_loss', patience=10, restore_best_weights=True)\n",
    "model_checkpoint = ModelCheckpoint(\n",
    "    filepath='/home/devnath/Ember_18_Aug/ember/ember_standard_csv_v3/cnn_2d_final_binary_base_classifier.keras', \n",
    "    monitor='val_loss', \n",
    "    save_best_only=True,\n",
    "    save_weights_only=False, \n",
    "    mode='min', \n",
    "    verbose=1\n",
    ")\n",
    "\n",
    "# Train the model\n",
    "history_2d_cnn = model_2d_cnn.fit(X_train, y_train,\n",
    "                                  epochs=50,\n",
    "                                  batch_size=32,\n",
    "                                  validation_data=(X_val, y_val),\n",
    "                                  callbacks=[early_stopping, model_checkpoint])\n",
    "\n",
    "# Make predictions on the test set\n",
    "y_pred_prob = model_2d_cnn.predict(X_test)\n",
    "y_pred = np.argmax(y_pred_prob, axis=1)\n",
    "\n",
    "# Convert y_test back to class labels\n",
    "y_test_labels = np.argmax(y_test, axis=1)\n",
    "\n",
    "# Calculate the confusion matrix\n",
    "conf_matrix = confusion_matrix(y_test_labels, y_pred)\n",
    "\n",
    "# Calculate metrics\n",
    "accuracy = accuracy_score(y_test_labels, y_pred)\n",
    "precision = precision_score(y_test_labels, y_pred)\n",
    "recall = recall_score(y_test_labels, y_pred)\n",
    "f1 = f1_score(y_test_labels, y_pred)\n",
    "\n",
    "# Print results\n",
    "print(f\"Confusion Matrix:\\n{conf_matrix}\")\n",
    "print(f\"Accuracy: {accuracy:.4f}\")\n",
    "print(f\"Precision: {precision:.4f}\")\n",
    "print(f\"Recall: {recall:.4f}\")\n",
    "print(f\"F1 Score: {f1:.4f}\")\n",
    "\n",
    "# # Plot training and validation loss\n",
    "# plt.figure(figsize=(12, 5))\n",
    "\n",
    "# # plt.subplot(1, 2, 1)\n",
    "# plt.plot(history_2d_cnn.history['loss'], label='Training Loss')\n",
    "# plt.plot(history_2d_cnn.history['val_loss'], label='Validation Loss')\n",
    "# plt.xlabel('Epochs')\n",
    "# plt.ylabel('Loss')\n",
    "# plt.legend()\n",
    "# plt.grid(True)\n",
    "# plt.gca().set_facecolor('lightgrey')\n",
    "\n",
    "# # Optional: Visualize the confusion matrix\n",
    "# plt.subplot(1, 2, 2)\n",
    "# plt.figure(figsize=(8, 6))\n",
    "# sns.heatmap(conf_matrix, annot=True, fmt='d', cmap='Blues')\n",
    "# plt.xlabel('Predicted Label')\n",
    "# plt.ylabel('True Label')\n",
    "# # plt.title('Confusion Matrix')\n",
    "\n",
    "# plt.show()\n"
   ]
  },
  {
   "cell_type": "code",
   "execution_count": 5,
   "id": "452911f2-ea80-4dcb-8306-12cfe5b42ffd",
   "metadata": {},
   "outputs": [
    {
     "data": {
      "image/png": "[encoded data removed]",
      "text/plain": [
       "<Figure size 1200x500 with 1 Axes>"
      ]
     },
     "metadata": {},
     "output_type": "display_data"
    }
   ],
   "source": [
    "#Plot training and validation loss\n",
    "plt.figure(figsize=(12, 5))\n",
    "\n",
    "plt.subplot(1, 2, 1)\n",
    "plt.plot(history_2d_cnn.history['loss'], label='Training Loss')\n",
    "plt.plot(history_2d_cnn.history['val_loss'], label='Validation Loss')\n",
    "plt.xlabel('Epochs')\n",
    "plt.ylabel('Loss')\n",
    "plt.legend()\n",
    "plt.grid(True)\n",
    "plt.gca().set_facecolor('lightgrey')"
   ]
  },
  {
   "cell_type": "code",
   "execution_count": 6,
   "id": "44975e87-d718-4a0f-9381-5df4838d86cc",
   "metadata": {},
   "outputs": [
    {
     "data": {
      "image/png": "[encoded data removed]",
      "text/plain": [
       "<Figure size 800x600 with 2 Axes>"
      ]
     },
     "metadata": {},
     "output_type": "display_data"
    }
   ],
   "source": [
    "# Optional: Visualize the confusion matrix\n",
    "# plt.subplot(1, 2, 2)\n",
    "plt.figure(figsize=(8, 6))\n",
    "sns.heatmap(conf_matrix, annot=True, fmt='d', cmap='Blues')\n",
    "plt.xlabel('Predicted Label')\n",
    "plt.ylabel('True Label')\n",
    "# plt.title('Confusion Matrix')\n",
    "\n",
    "plt.show()"
   ]
  },
  {
   "cell_type": "code",
   "execution_count": 7,
   "id": "7f0d4fb4-23ce-4884-9b39-60f11781dee3",
   "metadata": {},
   "outputs": [
    {
     "data": {
      "image/png": "[encoded data removed]",
      "text/plain": [
       "<Figure size 640x480 with 1 Axes>"
      ]
     },
     "metadata": {},
     "output_type": "display_data"
    }
   ],
   "source": [
    "from sklearn.metrics import precision_score, recall_score, f1_score, confusion_matrix, roc_curve, auc, accuracy_score\n",
    " # Plot ROC curve\n",
    "fpr, tpr, _ = roc_curve(y_test_labels, y_pred)\n",
    "roc_auc = auc(fpr, tpr)\n",
    "\n",
    "plt.figure()\n",
    "plt.plot(fpr, tpr, color='darkorange', lw=2, label=f'ROC curve (area = {roc_auc:.4f})')\n",
    "plt.plot([0, 1], [0, 1], color='navy', lw=2, linestyle='--')\n",
    "plt.xlim([0.0, 1.0])\n",
    "plt.ylim([0.0, 1.05])\n",
    "plt.xlabel('False Positive Rate')\n",
    "plt.ylabel('True Positive Rate')\n",
    "# plt.title('Receiver Operating Characteristic')\n",
    "plt.legend(loc='lower right')\n",
    "plt.show()"
   ]
  },
  {
   "cell_type": "code",
   "execution_count": 8,
   "id": "b0be44aa-3918-4cf2-ab39-956800020f3b",
   "metadata": {},
   "outputs": [
    {
     "name": "stderr",
     "output_type": "stream",
     "text": [
      "WARNING:absl:You are saving your model as an HDF5 file via `model.save()` or `keras.saving.save_model(model)`. This file format is considered legacy. We recommend using instead the native Keras format, e.g. `model.save('my_model.keras')` or `keras.saving.save_model(model, 'my_model.keras')`. \n"
     ]
    }
   ],
   "source": [
    "# Save the trained model\n",
    "model_2d_cnn .save('/home/devnath/Ember_18_Aug/model_save/2dcnn_base_classfier.h5')"
   ]
  },
  {
   "cell_type": "code",
   "execution_count": 2,
   "id": "0d797ffd-c286-4b65-9178-07380335af9c",
   "metadata": {},
   "outputs": [],
   "source": [
    "!kill 7471 "
   ]
  },
  {
   "cell_type": "code",
   "execution_count": 8,
   "id": "42d1c3bb-10de-49e2-9332-0f8536b85603",
   "metadata": {},
   "outputs": [
    {
     "name": "stderr",
     "output_type": "stream",
     "text": [
      "2024-08-25 16:12:32.956728: I tensorflow/core/common_runtime/gpu/gpu_device.cc:2021] Created device /job:localhost/replica:0/task:0/device:GPU:0 with 13888 MB memory:  -> device: 0, name: NVIDIA RTX A4000, pci bus id: 0000:47:00.0, compute capability: 8.6\n",
      "WARNING:absl:Compiled the loaded model, but the compiled metrics have yet to be built. `model.compile_metrics` will be empty until you train or evaluate the model.\n"
     ]
    }
   ],
   "source": [
    "from tensorflow.keras.models import load_model\n",
    "\n",
    "# Load the saved model\n",
    "dcnn2_model = load_model('/home/devnath/Ember_18_Aug/model_save/2dcnn_base_classfier.h5')\n"
   ]
  },
  {
   "cell_type": "code",
   "execution_count": 9,
   "id": "1e1a6b5c-e1df-4611-85c2-2f9f290b82ea",
   "metadata": {},
   "outputs": [
    {
     "data": {
      "text/html": [
       "<pre style=\"white-space:pre;overflow-x:auto;line-height:normal;font-family:Menlo,'DejaVu Sans Mono',consolas,'Courier New',monospace\"><span style=\"font-weight: bold\">Model: \"sequential\"</span>\n",
       "</pre>\n"
      ],
      "text/plain": [
       "\u001b[1mModel: \"sequential\"\u001b[0m\n"
      ]
     },
     "metadata": {},
     "output_type": "display_data"
    },
    {
     "data": {
      "text/html": [
       "<pre style=\"white-space:pre;overflow-x:auto;line-height:normal;font-family:Menlo,'DejaVu Sans Mono',consolas,'Courier New',monospace\">┏━━━━━━━━━━━━━━━━━━━━━━━━━━━━━━━━━┳━━━━━━━━━━━━━━━━━━━━━━━━┳━━━━━━━━━━━━━━━┓\n",
       "┃<span style=\"font-weight: bold\"> Layer (type)                    </span>┃<span style=\"font-weight: bold\"> Output Shape           </span>┃<span style=\"font-weight: bold\">       Param # </span>┃\n",
       "┡━━━━━━━━━━━━━━━━━━━━━━━━━━━━━━━━━╇━━━━━━━━━━━━━━━━━━━━━━━━╇━━━━━━━━━━━━━━━┩\n",
       "│ conv2d (<span style=\"color: #0087ff; text-decoration-color: #0087ff\">Conv2D</span>)                 │ (<span style=\"color: #00d7ff; text-decoration-color: #00d7ff\">None</span>, <span style=\"color: #00af00; text-decoration-color: #00af00\">39</span>, <span style=\"color: #00af00; text-decoration-color: #00af00\">1</span>, <span style=\"color: #00af00; text-decoration-color: #00af00\">32</span>)      │           <span style=\"color: #00af00; text-decoration-color: #00af00\">128</span> │\n",
       "├─────────────────────────────────┼────────────────────────┼───────────────┤\n",
       "│ max_pooling2d (<span style=\"color: #0087ff; text-decoration-color: #0087ff\">MaxPooling2D</span>)    │ (<span style=\"color: #00d7ff; text-decoration-color: #00d7ff\">None</span>, <span style=\"color: #00af00; text-decoration-color: #00af00\">19</span>, <span style=\"color: #00af00; text-decoration-color: #00af00\">1</span>, <span style=\"color: #00af00; text-decoration-color: #00af00\">32</span>)      │             <span style=\"color: #00af00; text-decoration-color: #00af00\">0</span> │\n",
       "├─────────────────────────────────┼────────────────────────┼───────────────┤\n",
       "│ conv2d_1 (<span style=\"color: #0087ff; text-decoration-color: #0087ff\">Conv2D</span>)               │ (<span style=\"color: #00d7ff; text-decoration-color: #00d7ff\">None</span>, <span style=\"color: #00af00; text-decoration-color: #00af00\">17</span>, <span style=\"color: #00af00; text-decoration-color: #00af00\">1</span>, <span style=\"color: #00af00; text-decoration-color: #00af00\">64</span>)      │         <span style=\"color: #00af00; text-decoration-color: #00af00\">6,208</span> │\n",
       "├─────────────────────────────────┼────────────────────────┼───────────────┤\n",
       "│ max_pooling2d_1 (<span style=\"color: #0087ff; text-decoration-color: #0087ff\">MaxPooling2D</span>)  │ (<span style=\"color: #00d7ff; text-decoration-color: #00d7ff\">None</span>, <span style=\"color: #00af00; text-decoration-color: #00af00\">8</span>, <span style=\"color: #00af00; text-decoration-color: #00af00\">1</span>, <span style=\"color: #00af00; text-decoration-color: #00af00\">64</span>)       │             <span style=\"color: #00af00; text-decoration-color: #00af00\">0</span> │\n",
       "├─────────────────────────────────┼────────────────────────┼───────────────┤\n",
       "│ flatten (<span style=\"color: #0087ff; text-decoration-color: #0087ff\">Flatten</span>)               │ (<span style=\"color: #00d7ff; text-decoration-color: #00d7ff\">None</span>, <span style=\"color: #00af00; text-decoration-color: #00af00\">512</span>)            │             <span style=\"color: #00af00; text-decoration-color: #00af00\">0</span> │\n",
       "├─────────────────────────────────┼────────────────────────┼───────────────┤\n",
       "│ dense (<span style=\"color: #0087ff; text-decoration-color: #0087ff\">Dense</span>)                   │ (<span style=\"color: #00d7ff; text-decoration-color: #00d7ff\">None</span>, <span style=\"color: #00af00; text-decoration-color: #00af00\">128</span>)            │        <span style=\"color: #00af00; text-decoration-color: #00af00\">65,664</span> │\n",
       "├─────────────────────────────────┼────────────────────────┼───────────────┤\n",
       "│ dropout (<span style=\"color: #0087ff; text-decoration-color: #0087ff\">Dropout</span>)               │ (<span style=\"color: #00d7ff; text-decoration-color: #00d7ff\">None</span>, <span style=\"color: #00af00; text-decoration-color: #00af00\">128</span>)            │             <span style=\"color: #00af00; text-decoration-color: #00af00\">0</span> │\n",
       "├─────────────────────────────────┼────────────────────────┼───────────────┤\n",
       "│ dense_1 (<span style=\"color: #0087ff; text-decoration-color: #0087ff\">Dense</span>)                 │ (<span style=\"color: #00d7ff; text-decoration-color: #00d7ff\">None</span>, <span style=\"color: #00af00; text-decoration-color: #00af00\">2</span>)              │           <span style=\"color: #00af00; text-decoration-color: #00af00\">258</span> │\n",
       "└─────────────────────────────────┴────────────────────────┴───────────────┘\n",
       "</pre>\n"
      ],
      "text/plain": [
       "┏━━━━━━━━━━━━━━━━━━━━━━━━━━━━━━━━━┳━━━━━━━━━━━━━━━━━━━━━━━━┳━━━━━━━━━━━━━━━┓\n",
       "┃\u001b[1m \u001b[0m\u001b[1mLayer (type)                   \u001b[0m\u001b[1m \u001b[0m┃\u001b[1m \u001b[0m\u001b[1mOutput Shape          \u001b[0m\u001b[1m \u001b[0m┃\u001b[1m \u001b[0m\u001b[1m      Param #\u001b[0m\u001b[1m \u001b[0m┃\n",
       "┡━━━━━━━━━━━━━━━━━━━━━━━━━━━━━━━━━╇━━━━━━━━━━━━━━━━━━━━━━━━╇━━━━━━━━━━━━━━━┩\n",
       "│ conv2d (\u001b[38;5;33mConv2D\u001b[0m)                 │ (\u001b[38;5;45mNone\u001b[0m, \u001b[38;5;34m39\u001b[0m, \u001b[38;5;34m1\u001b[0m, \u001b[38;5;34m32\u001b[0m)      │           \u001b[38;5;34m128\u001b[0m │\n",
       "├─────────────────────────────────┼────────────────────────┼───────────────┤\n",
       "│ max_pooling2d (\u001b[38;5;33mMaxPooling2D\u001b[0m)    │ (\u001b[38;5;45mNone\u001b[0m, \u001b[38;5;34m19\u001b[0m, \u001b[38;5;34m1\u001b[0m, \u001b[38;5;34m32\u001b[0m)      │             \u001b[38;5;34m0\u001b[0m │\n",
       "├─────────────────────────────────┼────────────────────────┼───────────────┤\n",
       "│ conv2d_1 (\u001b[38;5;33mConv2D\u001b[0m)               │ (\u001b[38;5;45mNone\u001b[0m, \u001b[38;5;34m17\u001b[0m, \u001b[38;5;34m1\u001b[0m, \u001b[38;5;34m64\u001b[0m)      │         \u001b[38;5;34m6,208\u001b[0m │\n",
       "├─────────────────────────────────┼────────────────────────┼───────────────┤\n",
       "│ max_pooling2d_1 (\u001b[38;5;33mMaxPooling2D\u001b[0m)  │ (\u001b[38;5;45mNone\u001b[0m, \u001b[38;5;34m8\u001b[0m, \u001b[38;5;34m1\u001b[0m, \u001b[38;5;34m64\u001b[0m)       │             \u001b[38;5;34m0\u001b[0m │\n",
       "├─────────────────────────────────┼────────────────────────┼───────────────┤\n",
       "│ flatten (\u001b[38;5;33mFlatten\u001b[0m)               │ (\u001b[38;5;45mNone\u001b[0m, \u001b[38;5;34m512\u001b[0m)            │             \u001b[38;5;34m0\u001b[0m │\n",
       "├─────────────────────────────────┼────────────────────────┼───────────────┤\n",
       "│ dense (\u001b[38;5;33mDense\u001b[0m)                   │ (\u001b[38;5;45mNone\u001b[0m, \u001b[38;5;34m128\u001b[0m)            │        \u001b[38;5;34m65,664\u001b[0m │\n",
       "├─────────────────────────────────┼────────────────────────┼───────────────┤\n",
       "│ dropout (\u001b[38;5;33mDropout\u001b[0m)               │ (\u001b[38;5;45mNone\u001b[0m, \u001b[38;5;34m128\u001b[0m)            │             \u001b[38;5;34m0\u001b[0m │\n",
       "├─────────────────────────────────┼────────────────────────┼───────────────┤\n",
       "│ dense_1 (\u001b[38;5;33mDense\u001b[0m)                 │ (\u001b[38;5;45mNone\u001b[0m, \u001b[38;5;34m2\u001b[0m)              │           \u001b[38;5;34m258\u001b[0m │\n",
       "└─────────────────────────────────┴────────────────────────┴───────────────┘\n"
      ]
     },
     "metadata": {},
     "output_type": "display_data"
    },
    {
     "data": {
      "text/html": [
       "<pre style=\"white-space:pre;overflow-x:auto;line-height:normal;font-family:Menlo,'DejaVu Sans Mono',consolas,'Courier New',monospace\"><span style=\"font-weight: bold\"> Total params: </span><span style=\"color: #00af00; text-decoration-color: #00af00\">72,260</span> (282.27 KB)\n",
       "</pre>\n"
      ],
      "text/plain": [
       "\u001b[1m Total params: \u001b[0m\u001b[38;5;34m72,260\u001b[0m (282.27 KB)\n"
      ]
     },
     "metadata": {},
     "output_type": "display_data"
    },
    {
     "data": {
      "text/html": [
       "<pre style=\"white-space:pre;overflow-x:auto;line-height:normal;font-family:Menlo,'DejaVu Sans Mono',consolas,'Courier New',monospace\"><span style=\"font-weight: bold\"> Trainable params: </span><span style=\"color: #00af00; text-decoration-color: #00af00\">72,258</span> (282.26 KB)\n",
       "</pre>\n"
      ],
      "text/plain": [
       "\u001b[1m Trainable params: \u001b[0m\u001b[38;5;34m72,258\u001b[0m (282.26 KB)\n"
      ]
     },
     "metadata": {},
     "output_type": "display_data"
    },
    {
     "data": {
      "text/html": [
       "<pre style=\"white-space:pre;overflow-x:auto;line-height:normal;font-family:Menlo,'DejaVu Sans Mono',consolas,'Courier New',monospace\"><span style=\"font-weight: bold\"> Non-trainable params: </span><span style=\"color: #00af00; text-decoration-color: #00af00\">0</span> (0.00 B)\n",
       "</pre>\n"
      ],
      "text/plain": [
       "\u001b[1m Non-trainable params: \u001b[0m\u001b[38;5;34m0\u001b[0m (0.00 B)\n"
      ]
     },
     "metadata": {},
     "output_type": "display_data"
    },
    {
     "data": {
      "text/html": [
       "<pre style=\"white-space:pre;overflow-x:auto;line-height:normal;font-family:Menlo,'DejaVu Sans Mono',consolas,'Courier New',monospace\"><span style=\"font-weight: bold\"> Optimizer params: </span><span style=\"color: #00af00; text-decoration-color: #00af00\">2</span> (12.00 B)\n",
       "</pre>\n"
      ],
      "text/plain": [
       "\u001b[1m Optimizer params: \u001b[0m\u001b[38;5;34m2\u001b[0m (12.00 B)\n"
      ]
     },
     "metadata": {},
     "output_type": "display_data"
    }
   ],
   "source": [
    "dcnn2_model.summary()"
   ]
  },
  {
   "cell_type": "code",
   "execution_count": 3,
   "id": "422ffd0d-ea1a-4f7a-8b5e-ced885f02a51",
   "metadata": {},
   "outputs": [
    {
     "name": "stdout",
     "output_type": "stream",
     "text": [
      "Sun Aug 25 16:11:30 2024       \n",
      "+---------------------------------------------------------------------------------------+\n",
      "| NVIDIA-SMI 535.183.01             Driver Version: 535.183.01   CUDA Version: 12.2     |\n",
      "|-----------------------------------------+----------------------+----------------------+\n",
      "| GPU  Name                 Persistence-M | Bus-Id        Disp.A | Volatile Uncorr. ECC |\n",
      "| Fan  Temp   Perf          Pwr:Usage/Cap |         Memory-Usage | GPU-Util  Compute M. |\n",
      "|                                         |                      |               MIG M. |\n",
      "|=========================================+======================+======================|\n",
      "|   0  NVIDIA RTX A4000               Off | 00000000:47:00.0 Off |                  Off |\n",
      "| 41%   37C    P8              15W / 140W |  16097MiB / 16376MiB |      0%      Default |\n",
      "|                                         |                      |                  N/A |\n",
      "+-----------------------------------------+----------------------+----------------------+\n",
      "                                                                                         \n",
      "+---------------------------------------------------------------------------------------+\n",
      "| Processes:                                                                            |\n",
      "|  GPU   GI   CI        PID   Type   Process name                            GPU Memory |\n",
      "|        ID   ID                                                             Usage      |\n",
      "|=======================================================================================|\n",
      "|    0   N/A  N/A      1740      G   /usr/lib/xorg/Xorg                           69MiB |\n",
      "|    0   N/A  N/A      3450      G   ...irefox/4698/usr/lib/firefox/firefox      130MiB |\n",
      "|    0   N/A  N/A    126395      G   /usr/lib/xorg/Xorg                           76MiB |\n",
      "|    0   N/A  N/A    126725      G   /usr/lib/xorg/Xorg                           62MiB |\n",
      "|    0   N/A  N/A    549644      C   .../anaconda3/envs/ember_tf/bin/python     1280MiB |\n",
      "|    0   N/A  N/A    556637      C   .../anaconda3/envs/ember_tf/bin/python      216MiB |\n",
      "|    0   N/A  N/A    665062      C   .../anaconda3/envs/ember_tf/bin/python    14078MiB |\n",
      "+---------------------------------------------------------------------------------------+\n"
     ]
    }
   ],
   "source": [
    "!nvidia-smi"
   ]
  },
  {
   "cell_type": "code",
   "execution_count": 7,
   "id": "6225a96e-f959-4506-89b6-d7fb3fb3ad0d",
   "metadata": {},
   "outputs": [],
   "source": [
    "!kill 556637"
   ]
  },
  {
   "cell_type": "code",
   "execution_count": null,
   "id": "1213328f-26ea-4b17-937c-a44d2fc73f70",
   "metadata": {},
   "outputs": [],
   "source": []
  }
 ],
 "metadata": {
  "kernelspec": {
   "display_name": "Python 3 (ipykernel)",
   "language": "python",
   "name": "python3"
  },
  "language_info": {
   "codemirror_mode": {
    "name": "ipython",
    "version": 3
   },
   "file_extension": ".py",
   "mimetype": "text/x-python",
   "name": "python",
   "nbconvert_exporter": "python",
   "pygments_lexer": "ipython3",
   "version": "3.10.0"
  }
 },
 "nbformat": 4,
 "nbformat_minor": 5
}
